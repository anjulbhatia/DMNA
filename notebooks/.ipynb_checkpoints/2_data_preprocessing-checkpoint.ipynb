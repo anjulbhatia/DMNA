{
 "cells": [
  {
   "cell_type": "markdown",
   "id": "600763fe-d909-46c7-97f5-34a5c585b801",
   "metadata": {},
   "source": [
    "## 2. Data Preprocessing"
   ]
  },
  {
   "cell_type": "markdown",
   "id": "45b1ae10-17fe-487b-b7fd-3ebfab370d2c",
   "metadata": {},
   "source": [
    "#### 2.1 Import libraries and Data Loading"
   ]
  },
  {
   "cell_type": "markdown",
   "id": "17875619-f0c9-413e-a297-e22ce5a60ef2",
   "metadata": {},
   "source": [
    "##### 2.1.1 Import Libraries"
   ]
  },
  {
   "cell_type": "code",
   "execution_count": 1,
   "id": "802c7bf6-d70f-4360-8090-a9b341470936",
   "metadata": {},
   "outputs": [],
   "source": [
    "import os\n",
    "import numpy as np # linear algebra\n",
    "import pandas as pd # data processing, CSV file I/O (e.g. pd.read_csv)\n",
    "from IPython.display import display, Markdown\n",
    "import warnings\n",
    "warnings.filterwarnings('ignore')\n",
    "\n",
    "# Add path to the Static Data directory\n",
    "input_dir = \"../data/cleaned_data/\"\n",
    "output_dir = \"../data/processed_data/\""
   ]
  },
  {
   "cell_type": "markdown",
   "id": "09c5da07-4fdd-48dc-871d-b92ac4e8ab60",
   "metadata": {},
   "source": [
    "##### 2.1.2 Load the Datasets"
   ]
  },
  {
   "cell_type": "code",
   "execution_count": 2,
   "id": "ea52d385-440b-45c9-b3f0-0f8e3d211010",
   "metadata": {},
   "outputs": [],
   "source": [
    "routes = pd.read_csv(input_dir + 'routes.csv')\n",
    "stops = pd.read_csv(input_dir + 'stops.csv')\n",
    "trips = pd.read_csv(input_dir + 'trips.csv')\n",
    "stop_times = pd.read_csv(input_dir +  'stop_times.csv')\n",
    "shapes = pd.read_csv(input_dir +  'shapes.csv')\n",
    "agency = pd.read_csv(input_dir + 'agency.csv')\n",
    "calendar = pd.read_csv(input_dir + 'calendar.csv')"
   ]
  },
  {
   "cell_type": "markdown",
   "id": "239051a9-af53-4c37-99a4-747a352533c8",
   "metadata": {},
   "source": [
    "#### 2.2 Displaying First Few Rows of DataFrames"
   ]
  },
  {
   "cell_type": "code",
   "execution_count": 3,
   "id": "599ba2c6-2eaf-494f-a1c7-8aed8e1d1459",
   "metadata": {},
   "outputs": [
    {
     "data": {
      "text/markdown": [
       "#### routes"
      ],
      "text/plain": [
       "<IPython.core.display.Markdown object>"
      ]
     },
     "metadata": {},
     "output_type": "display_data"
    },
    {
     "data": {
      "text/html": [
       "<div>\n",
       "<style scoped>\n",
       "    .dataframe tbody tr th:only-of-type {\n",
       "        vertical-align: middle;\n",
       "    }\n",
       "\n",
       "    .dataframe tbody tr th {\n",
       "        vertical-align: top;\n",
       "    }\n",
       "\n",
       "    .dataframe thead th {\n",
       "        text-align: right;\n",
       "    }\n",
       "</style>\n",
       "<table border=\"1\" class=\"dataframe\">\n",
       "  <thead>\n",
       "    <tr style=\"text-align: right;\">\n",
       "      <th></th>\n",
       "      <th>route_id</th>\n",
       "      <th>route_long_name</th>\n",
       "    </tr>\n",
       "  </thead>\n",
       "  <tbody>\n",
       "    <tr>\n",
       "      <th>0</th>\n",
       "      <td>33</td>\n",
       "      <td>RAPID_Phase 3 (Rapid Metro) to Sector 55-56 (R...</td>\n",
       "    </tr>\n",
       "    <tr>\n",
       "      <th>1</th>\n",
       "      <td>31</td>\n",
       "      <td>GRAY_Dhansa Bus Stand to Dwarka</td>\n",
       "    </tr>\n",
       "  </tbody>\n",
       "</table>\n",
       "</div>"
      ],
      "text/plain": [
       "   route_id                                    route_long_name\n",
       "0        33  RAPID_Phase 3 (Rapid Metro) to Sector 55-56 (R...\n",
       "1        31                    GRAY_Dhansa Bus Stand to Dwarka"
      ]
     },
     "metadata": {},
     "output_type": "display_data"
    },
    {
     "name": "stdout",
     "output_type": "stream",
     "text": [
      "<class 'pandas.core.frame.DataFrame'>\n",
      "RangeIndex: 36 entries, 0 to 35\n",
      "Data columns (total 2 columns):\n",
      " #   Column           Non-Null Count  Dtype \n",
      "---  ------           --------------  ----- \n",
      " 0   route_id         36 non-null     int64 \n",
      " 1   route_long_name  36 non-null     object\n",
      "dtypes: int64(1), object(1)\n",
      "memory usage: 708.0+ bytes\n"
     ]
    },
    {
     "data": {
      "text/plain": [
       "None"
      ]
     },
     "metadata": {},
     "output_type": "display_data"
    }
   ],
   "source": [
    "display(Markdown(\"#### routes\"),routes.head(2))\n",
    "display(routes.info())"
   ]
  },
  {
   "cell_type": "code",
   "execution_count": 4,
   "id": "0ac7caed-fdee-4a36-aaa6-224cb9ea9e37",
   "metadata": {},
   "outputs": [
    {
     "data": {
      "text/markdown": [
       "#### trips"
      ],
      "text/plain": [
       "<IPython.core.display.Markdown object>"
      ]
     },
     "metadata": {},
     "output_type": "display_data"
    },
    {
     "data": {
      "text/html": [
       "<div>\n",
       "<style scoped>\n",
       "    .dataframe tbody tr th:only-of-type {\n",
       "        vertical-align: middle;\n",
       "    }\n",
       "\n",
       "    .dataframe tbody tr th {\n",
       "        vertical-align: top;\n",
       "    }\n",
       "\n",
       "    .dataframe thead th {\n",
       "        text-align: right;\n",
       "    }\n",
       "</style>\n",
       "<table border=\"1\" class=\"dataframe\">\n",
       "  <thead>\n",
       "    <tr style=\"text-align: right;\">\n",
       "      <th></th>\n",
       "      <th>route_id</th>\n",
       "      <th>service_id</th>\n",
       "      <th>trip_id</th>\n",
       "      <th>shape_id</th>\n",
       "    </tr>\n",
       "  </thead>\n",
       "  <tbody>\n",
       "    <tr>\n",
       "      <th>0</th>\n",
       "      <td>0</td>\n",
       "      <td>weekday</td>\n",
       "      <td>0</td>\n",
       "      <td>shp_1_30</td>\n",
       "    </tr>\n",
       "    <tr>\n",
       "      <th>1</th>\n",
       "      <td>0</td>\n",
       "      <td>weekday</td>\n",
       "      <td>1</td>\n",
       "      <td>shp_1_30</td>\n",
       "    </tr>\n",
       "  </tbody>\n",
       "</table>\n",
       "</div>"
      ],
      "text/plain": [
       "   route_id service_id  trip_id  shape_id\n",
       "0         0    weekday        0  shp_1_30\n",
       "1         0    weekday        1  shp_1_30"
      ]
     },
     "metadata": {},
     "output_type": "display_data"
    },
    {
     "name": "stdout",
     "output_type": "stream",
     "text": [
      "<class 'pandas.core.frame.DataFrame'>\n",
      "RangeIndex: 5438 entries, 0 to 5437\n",
      "Data columns (total 4 columns):\n",
      " #   Column      Non-Null Count  Dtype \n",
      "---  ------      --------------  ----- \n",
      " 0   route_id    5438 non-null   int64 \n",
      " 1   service_id  5438 non-null   object\n",
      " 2   trip_id     5438 non-null   int64 \n",
      " 3   shape_id    5438 non-null   object\n",
      "dtypes: int64(2), object(2)\n",
      "memory usage: 170.1+ KB\n"
     ]
    },
    {
     "data": {
      "text/plain": [
       "None"
      ]
     },
     "metadata": {},
     "output_type": "display_data"
    }
   ],
   "source": [
    "display(Markdown(\"#### trips\"), trips.head(2))\n",
    "display(trips.info())"
   ]
  },
  {
   "cell_type": "code",
   "execution_count": 5,
   "id": "186e1a5c-868d-4e14-8f2f-0e257e77797c",
   "metadata": {},
   "outputs": [
    {
     "data": {
      "text/markdown": [
       "#### stops"
      ],
      "text/plain": [
       "<IPython.core.display.Markdown object>"
      ]
     },
     "metadata": {},
     "output_type": "display_data"
    },
    {
     "data": {
      "text/html": [
       "<div>\n",
       "<style scoped>\n",
       "    .dataframe tbody tr th:only-of-type {\n",
       "        vertical-align: middle;\n",
       "    }\n",
       "\n",
       "    .dataframe tbody tr th {\n",
       "        vertical-align: top;\n",
       "    }\n",
       "\n",
       "    .dataframe thead th {\n",
       "        text-align: right;\n",
       "    }\n",
       "</style>\n",
       "<table border=\"1\" class=\"dataframe\">\n",
       "  <thead>\n",
       "    <tr style=\"text-align: right;\">\n",
       "      <th></th>\n",
       "      <th>stop_id</th>\n",
       "      <th>stop_name</th>\n",
       "      <th>stop_lat</th>\n",
       "      <th>stop_lon</th>\n",
       "    </tr>\n",
       "  </thead>\n",
       "  <tbody>\n",
       "    <tr>\n",
       "      <th>0</th>\n",
       "      <td>1</td>\n",
       "      <td>Dilshad Garden</td>\n",
       "      <td>28.675991</td>\n",
       "      <td>77.321495</td>\n",
       "    </tr>\n",
       "    <tr>\n",
       "      <th>1</th>\n",
       "      <td>2</td>\n",
       "      <td>Jhilmil</td>\n",
       "      <td>28.675648</td>\n",
       "      <td>77.312393</td>\n",
       "    </tr>\n",
       "  </tbody>\n",
       "</table>\n",
       "</div>"
      ],
      "text/plain": [
       "   stop_id       stop_name   stop_lat   stop_lon\n",
       "0        1  Dilshad Garden  28.675991  77.321495\n",
       "1        2         Jhilmil  28.675648  77.312393"
      ]
     },
     "metadata": {},
     "output_type": "display_data"
    },
    {
     "name": "stdout",
     "output_type": "stream",
     "text": [
      "<class 'pandas.core.frame.DataFrame'>\n",
      "RangeIndex: 262 entries, 0 to 261\n",
      "Data columns (total 4 columns):\n",
      " #   Column     Non-Null Count  Dtype  \n",
      "---  ------     --------------  -----  \n",
      " 0   stop_id    262 non-null    int64  \n",
      " 1   stop_name  262 non-null    object \n",
      " 2   stop_lat   262 non-null    float64\n",
      " 3   stop_lon   262 non-null    float64\n",
      "dtypes: float64(2), int64(1), object(1)\n",
      "memory usage: 8.3+ KB\n"
     ]
    },
    {
     "data": {
      "text/plain": [
       "None"
      ]
     },
     "metadata": {},
     "output_type": "display_data"
    }
   ],
   "source": [
    "display(Markdown(\"#### stops\"), stops.head(2))\n",
    "display(stops.info())"
   ]
  },
  {
   "cell_type": "code",
   "execution_count": 6,
   "id": "2a05668f-e03e-4889-9f3d-2c47cc86ad63",
   "metadata": {},
   "outputs": [
    {
     "data": {
      "text/markdown": [
       "#### stop_times"
      ],
      "text/plain": [
       "<IPython.core.display.Markdown object>"
      ]
     },
     "metadata": {},
     "output_type": "display_data"
    },
    {
     "data": {
      "text/html": [
       "<div>\n",
       "<style scoped>\n",
       "    .dataframe tbody tr th:only-of-type {\n",
       "        vertical-align: middle;\n",
       "    }\n",
       "\n",
       "    .dataframe tbody tr th {\n",
       "        vertical-align: top;\n",
       "    }\n",
       "\n",
       "    .dataframe thead th {\n",
       "        text-align: right;\n",
       "    }\n",
       "</style>\n",
       "<table border=\"1\" class=\"dataframe\">\n",
       "  <thead>\n",
       "    <tr style=\"text-align: right;\">\n",
       "      <th></th>\n",
       "      <th>trip_id</th>\n",
       "      <th>arrival_time</th>\n",
       "      <th>departure_time</th>\n",
       "      <th>stop_id</th>\n",
       "      <th>stop_sequence</th>\n",
       "      <th>shape_dist_traveled</th>\n",
       "    </tr>\n",
       "  </thead>\n",
       "  <tbody>\n",
       "    <tr>\n",
       "      <th>0</th>\n",
       "      <td>0</td>\n",
       "      <td>05:28:08</td>\n",
       "      <td>05:28:28</td>\n",
       "      <td>21</td>\n",
       "      <td>0</td>\n",
       "      <td>0.000</td>\n",
       "    </tr>\n",
       "    <tr>\n",
       "      <th>1</th>\n",
       "      <td>0</td>\n",
       "      <td>05:30:58</td>\n",
       "      <td>05:31:18</td>\n",
       "      <td>20</td>\n",
       "      <td>1</td>\n",
       "      <td>1202.405</td>\n",
       "    </tr>\n",
       "  </tbody>\n",
       "</table>\n",
       "</div>"
      ],
      "text/plain": [
       "   trip_id arrival_time departure_time  stop_id  stop_sequence  \\\n",
       "0        0     05:28:08       05:28:28       21              0   \n",
       "1        0     05:30:58       05:31:18       20              1   \n",
       "\n",
       "   shape_dist_traveled  \n",
       "0                0.000  \n",
       "1             1202.405  "
      ]
     },
     "metadata": {},
     "output_type": "display_data"
    },
    {
     "name": "stdout",
     "output_type": "stream",
     "text": [
      "<class 'pandas.core.frame.DataFrame'>\n",
      "RangeIndex: 128434 entries, 0 to 128433\n",
      "Data columns (total 6 columns):\n",
      " #   Column               Non-Null Count   Dtype  \n",
      "---  ------               --------------   -----  \n",
      " 0   trip_id              128434 non-null  int64  \n",
      " 1   arrival_time         128434 non-null  object \n",
      " 2   departure_time       128434 non-null  object \n",
      " 3   stop_id              128434 non-null  int64  \n",
      " 4   stop_sequence        128434 non-null  int64  \n",
      " 5   shape_dist_traveled  128434 non-null  float64\n",
      "dtypes: float64(1), int64(3), object(2)\n",
      "memory usage: 5.9+ MB\n"
     ]
    },
    {
     "data": {
      "text/plain": [
       "None"
      ]
     },
     "metadata": {},
     "output_type": "display_data"
    }
   ],
   "source": [
    "display(Markdown(\"#### stop_times\"), stop_times.head(2))\n",
    "display(stop_times.info())"
   ]
  },
  {
   "cell_type": "code",
   "execution_count": 7,
   "id": "402bea12-d356-421b-b164-3e3c9ad8ccca",
   "metadata": {},
   "outputs": [
    {
     "data": {
      "text/markdown": [
       "#### shapes"
      ],
      "text/plain": [
       "<IPython.core.display.Markdown object>"
      ]
     },
     "metadata": {},
     "output_type": "display_data"
    },
    {
     "data": {
      "text/html": [
       "<div>\n",
       "<style scoped>\n",
       "    .dataframe tbody tr th:only-of-type {\n",
       "        vertical-align: middle;\n",
       "    }\n",
       "\n",
       "    .dataframe tbody tr th {\n",
       "        vertical-align: top;\n",
       "    }\n",
       "\n",
       "    .dataframe thead th {\n",
       "        text-align: right;\n",
       "    }\n",
       "</style>\n",
       "<table border=\"1\" class=\"dataframe\">\n",
       "  <thead>\n",
       "    <tr style=\"text-align: right;\">\n",
       "      <th></th>\n",
       "      <th>shape_id</th>\n",
       "      <th>shape_pt_lat</th>\n",
       "      <th>shape_pt_lon</th>\n",
       "      <th>shape_pt_sequence</th>\n",
       "      <th>shape_dist_traveled</th>\n",
       "    </tr>\n",
       "  </thead>\n",
       "  <tbody>\n",
       "    <tr>\n",
       "      <th>0</th>\n",
       "      <td>shp_1_2</td>\n",
       "      <td>28.615887</td>\n",
       "      <td>77.022461</td>\n",
       "      <td>1</td>\n",
       "      <td>0.00</td>\n",
       "    </tr>\n",
       "    <tr>\n",
       "      <th>1</th>\n",
       "      <td>shp_1_2</td>\n",
       "      <td>28.616341</td>\n",
       "      <td>77.022499</td>\n",
       "      <td>2</td>\n",
       "      <td>50.51</td>\n",
       "    </tr>\n",
       "  </tbody>\n",
       "</table>\n",
       "</div>"
      ],
      "text/plain": [
       "  shape_id  shape_pt_lat  shape_pt_lon  shape_pt_sequence  shape_dist_traveled\n",
       "0  shp_1_2     28.615887     77.022461                  1                 0.00\n",
       "1  shp_1_2     28.616341     77.022499                  2                50.51"
      ]
     },
     "metadata": {},
     "output_type": "display_data"
    },
    {
     "name": "stdout",
     "output_type": "stream",
     "text": [
      "<class 'pandas.core.frame.DataFrame'>\n",
      "RangeIndex: 6643 entries, 0 to 6642\n",
      "Data columns (total 5 columns):\n",
      " #   Column               Non-Null Count  Dtype  \n",
      "---  ------               --------------  -----  \n",
      " 0   shape_id             6643 non-null   object \n",
      " 1   shape_pt_lat         6643 non-null   float64\n",
      " 2   shape_pt_lon         6643 non-null   float64\n",
      " 3   shape_pt_sequence    6643 non-null   int64  \n",
      " 4   shape_dist_traveled  6643 non-null   float64\n",
      "dtypes: float64(3), int64(1), object(1)\n",
      "memory usage: 259.6+ KB\n"
     ]
    },
    {
     "data": {
      "text/plain": [
       "None"
      ]
     },
     "metadata": {},
     "output_type": "display_data"
    }
   ],
   "source": [
    "display(Markdown(\"#### shapes\"), shapes.head(2))\n",
    "display(shapes.info())"
   ]
  },
  {
   "cell_type": "code",
   "execution_count": 8,
   "id": "80dfc05d-60a2-40f8-bc07-c663a155921d",
   "metadata": {},
   "outputs": [
    {
     "data": {
      "text/markdown": [
       "#### calendar"
      ],
      "text/plain": [
       "<IPython.core.display.Markdown object>"
      ]
     },
     "metadata": {},
     "output_type": "display_data"
    },
    {
     "data": {
      "text/html": [
       "<div>\n",
       "<style scoped>\n",
       "    .dataframe tbody tr th:only-of-type {\n",
       "        vertical-align: middle;\n",
       "    }\n",
       "\n",
       "    .dataframe tbody tr th {\n",
       "        vertical-align: top;\n",
       "    }\n",
       "\n",
       "    .dataframe thead th {\n",
       "        text-align: right;\n",
       "    }\n",
       "</style>\n",
       "<table border=\"1\" class=\"dataframe\">\n",
       "  <thead>\n",
       "    <tr style=\"text-align: right;\">\n",
       "      <th></th>\n",
       "      <th>service_id</th>\n",
       "      <th>monday</th>\n",
       "      <th>tuesday</th>\n",
       "      <th>wednesday</th>\n",
       "      <th>thursday</th>\n",
       "      <th>friday</th>\n",
       "      <th>saturday</th>\n",
       "      <th>sunday</th>\n",
       "      <th>start_date</th>\n",
       "      <th>end_date</th>\n",
       "    </tr>\n",
       "  </thead>\n",
       "  <tbody>\n",
       "    <tr>\n",
       "      <th>0</th>\n",
       "      <td>weekday</td>\n",
       "      <td>1</td>\n",
       "      <td>1</td>\n",
       "      <td>1</td>\n",
       "      <td>1</td>\n",
       "      <td>1</td>\n",
       "      <td>0</td>\n",
       "      <td>0</td>\n",
       "      <td>20190101</td>\n",
       "      <td>20251231</td>\n",
       "    </tr>\n",
       "    <tr>\n",
       "      <th>1</th>\n",
       "      <td>saturday</td>\n",
       "      <td>0</td>\n",
       "      <td>0</td>\n",
       "      <td>0</td>\n",
       "      <td>0</td>\n",
       "      <td>0</td>\n",
       "      <td>1</td>\n",
       "      <td>0</td>\n",
       "      <td>20190101</td>\n",
       "      <td>20251231</td>\n",
       "    </tr>\n",
       "  </tbody>\n",
       "</table>\n",
       "</div>"
      ],
      "text/plain": [
       "  service_id  monday  tuesday  wednesday  thursday  friday  saturday  sunday  \\\n",
       "0    weekday       1        1          1         1       1         0       0   \n",
       "1   saturday       0        0          0         0       0         1       0   \n",
       "\n",
       "   start_date  end_date  \n",
       "0    20190101  20251231  \n",
       "1    20190101  20251231  "
      ]
     },
     "metadata": {},
     "output_type": "display_data"
    },
    {
     "name": "stdout",
     "output_type": "stream",
     "text": [
      "<class 'pandas.core.frame.DataFrame'>\n",
      "RangeIndex: 3 entries, 0 to 2\n",
      "Data columns (total 10 columns):\n",
      " #   Column      Non-Null Count  Dtype \n",
      "---  ------      --------------  ----- \n",
      " 0   service_id  3 non-null      object\n",
      " 1   monday      3 non-null      int64 \n",
      " 2   tuesday     3 non-null      int64 \n",
      " 3   wednesday   3 non-null      int64 \n",
      " 4   thursday    3 non-null      int64 \n",
      " 5   friday      3 non-null      int64 \n",
      " 6   saturday    3 non-null      int64 \n",
      " 7   sunday      3 non-null      int64 \n",
      " 8   start_date  3 non-null      int64 \n",
      " 9   end_date    3 non-null      int64 \n",
      "dtypes: int64(9), object(1)\n",
      "memory usage: 372.0+ bytes\n"
     ]
    },
    {
     "data": {
      "text/plain": [
       "None"
      ]
     },
     "metadata": {},
     "output_type": "display_data"
    }
   ],
   "source": [
    "display(Markdown(\"#### calendar\"), calendar.head(2))\n",
    "display(calendar.info())"
   ]
  },
  {
   "cell_type": "code",
   "execution_count": 9,
   "id": "200fd8b0-3fc7-47c7-972a-8eaf486d49ef",
   "metadata": {},
   "outputs": [
    {
     "data": {
      "text/markdown": [
       "#### agency"
      ],
      "text/plain": [
       "<IPython.core.display.Markdown object>"
      ]
     },
     "metadata": {},
     "output_type": "display_data"
    },
    {
     "data": {
      "text/html": [
       "<div>\n",
       "<style scoped>\n",
       "    .dataframe tbody tr th:only-of-type {\n",
       "        vertical-align: middle;\n",
       "    }\n",
       "\n",
       "    .dataframe tbody tr th {\n",
       "        vertical-align: top;\n",
       "    }\n",
       "\n",
       "    .dataframe thead th {\n",
       "        text-align: right;\n",
       "    }\n",
       "</style>\n",
       "<table border=\"1\" class=\"dataframe\">\n",
       "  <thead>\n",
       "    <tr style=\"text-align: right;\">\n",
       "      <th></th>\n",
       "      <th>agency_id</th>\n",
       "      <th>agency_name</th>\n",
       "      <th>agency_url</th>\n",
       "      <th>agency_timezone</th>\n",
       "    </tr>\n",
       "  </thead>\n",
       "  <tbody>\n",
       "    <tr>\n",
       "      <th>0</th>\n",
       "      <td>DMRC</td>\n",
       "      <td>Delhi Metro Rail Corporation</td>\n",
       "      <td>http://www.delhimetrorail.com/</td>\n",
       "      <td>Asia/Kolkata</td>\n",
       "    </tr>\n",
       "  </tbody>\n",
       "</table>\n",
       "</div>"
      ],
      "text/plain": [
       "  agency_id                   agency_name                      agency_url  \\\n",
       "0      DMRC  Delhi Metro Rail Corporation  http://www.delhimetrorail.com/   \n",
       "\n",
       "  agency_timezone  \n",
       "0    Asia/Kolkata  "
      ]
     },
     "metadata": {},
     "output_type": "display_data"
    },
    {
     "name": "stdout",
     "output_type": "stream",
     "text": [
      "<class 'pandas.core.frame.DataFrame'>\n",
      "RangeIndex: 1 entries, 0 to 0\n",
      "Data columns (total 4 columns):\n",
      " #   Column           Non-Null Count  Dtype \n",
      "---  ------           --------------  ----- \n",
      " 0   agency_id        1 non-null      object\n",
      " 1   agency_name      1 non-null      object\n",
      " 2   agency_url       1 non-null      object\n",
      " 3   agency_timezone  1 non-null      object\n",
      "dtypes: object(4)\n",
      "memory usage: 164.0+ bytes\n"
     ]
    },
    {
     "data": {
      "text/plain": [
       "None"
      ]
     },
     "metadata": {},
     "output_type": "display_data"
    }
   ],
   "source": [
    "display(Markdown(\"#### agency\"), agency.head(2))\n",
    "display(agency.info())"
   ]
  },
  {
   "cell_type": "markdown",
   "id": "84172895-40f9-4dde-9227-e435b88d0111",
   "metadata": {},
   "source": [
    "#### 2.3 Identify primary keys and foreign keys\n"
   ]
  },
  {
   "cell_type": "markdown",
   "id": "644933d1-c2b9-4c3a-9d09-0970dbbffe59",
   "metadata": {},
   "source": [
    "##### 2.3.1 Primary Key"
   ]
  },
  {
   "cell_type": "code",
   "execution_count": 10,
   "id": "d9542d87-ddb9-4fdd-bd19-eb15c4403c98",
   "metadata": {},
   "outputs": [
    {
     "name": "stdout",
     "output_type": "stream",
     "text": [
      "Unique route_id count: 36\n",
      "Unique stop_id count: 262\n",
      "Unique trip_id count: 5438\n",
      "Unique shape_id count: 36\n",
      "Unique shape_id count: 3\n"
     ]
    }
   ],
   "source": [
    "# route_id is the primary key in routes and serves as a foreign key in trips\n",
    "print(\"Unique route_id count:\", routes['route_id'].nunique())\n",
    "\n",
    "# stop_id is the primary key in stops and serves as a foreign key in stop_times\n",
    "print(\"Unique stop_id count:\", stops['stop_id'].nunique())\n",
    "\n",
    "# trip_id is the primary key in trips and serves as a foreign key in stop_times\n",
    "print(\"Unique trip_id count:\", trips['trip_id'].nunique())\n",
    "\n",
    "# shape_id is NOT a primary key in shapes but serves as a link between shapes and trips\n",
    "# Unique identifiers in shapes is the combination of shape_pt_lat and shape_pt_lon\n",
    "print(\"Unique shape_id count:\", shapes['shape_id'].nunique())\n",
    "\n",
    "# service_id is a primary key in calendar and serves as a foreign key in trips\n",
    "print(\"Unique shape_id count:\", calendar['service_id'].nunique())"
   ]
  },
  {
   "cell_type": "markdown",
   "id": "3b610165-a19d-47f7-93fd-d55055d425f3",
   "metadata": {},
   "source": [
    "##### 2.3.2 Foreign Keys"
   ]
  },
  {
   "cell_type": "code",
   "execution_count": 11,
   "id": "302fa6d5-f7d2-4570-8fd9-cc38dacc4340",
   "metadata": {},
   "outputs": [
    {
     "name": "stdout",
     "output_type": "stream",
     "text": [
      "Are all route_id in trips valid? True\n",
      "Are all stop_id in stop_times valid? True\n",
      "Are all trip_id in stop_timesvalid? True\n",
      "Are all shape_id in trips valid? True\n",
      "Is the combination of shape_pt_lat and shape_pt_lon unique in shapes? True\n"
     ]
    }
   ],
   "source": [
    "# 1. Ensure that route_id in trips has matching values in trips\n",
    "print(\"Are all route_id in trips valid?\", trips['route_id'].isin(trips['route_id']).all())\n",
    "\n",
    "# 2. Ensure that stop_id in stop_times has matching values in stops\n",
    "print(\"Are all stop_id in stop_times valid?\", stop_times['stop_id'].isin(stops['stop_id']).all())\n",
    "\n",
    "# 3. Ensure that trip_id in stop_times has matching values in trips\n",
    "print(\"Are all trip_id in stop_timesvalid?\", stop_times['trip_id'].isin(trips['trip_id']).all())\n",
    "\n",
    "# 4. Ensure that shape_id in trips has matching values in shapes\n",
    "print(\"Are all shape_id in trips valid?\", trips['shape_id'].isin(shapes['shape_id']).all())\n",
    "\n",
    "# 5. Check for uniqueness in shapes using shape_pt_lat and shape_pt_lon\n",
    "print(\"Is the combination of shape_pt_lat and shape_pt_lon unique in shapes?\", \n",
    "      shapes[['shape_pt_lat', 'shape_pt_lon']].duplicated().any())\n"
   ]
  },
  {
   "cell_type": "markdown",
   "id": "0f03bfb5-a89d-4687-9f56-2e59ceeb2c4c",
   "metadata": {},
   "source": [
    "#### 2.4 Relational Analysis (ORM)"
   ]
  },
  {
   "cell_type": "markdown",
   "id": "08840712-d0dd-48ed-af8c-86c340a8c87e",
   "metadata": {},
   "source": [
    "<img src=\"img/dataframe_relationship_mapping.png\" width=600 height=60 />"
   ]
  },
  {
   "cell_type": "markdown",
   "id": "7cedb142-48d5-4c28-a37e-4fd18fa3fbf6",
   "metadata": {},
   "source": [
    "#### 2.5 Data Validation"
   ]
  },
  {
   "cell_type": "markdown",
   "id": "ffc80449-9d32-4091-adef-e1287e8daddb",
   "metadata": {},
   "source": [
    "##### 2.5.1 Check for Unique Mapping of `shape_id` and `route_id`"
   ]
  },
  {
   "cell_type": "code",
   "execution_count": 12,
   "id": "9dd721b3-1dac-401c-a098-b35391c3a4e6",
   "metadata": {},
   "outputs": [
    {
     "name": "stdout",
     "output_type": "stream",
     "text": [
      "Each Shape ID has a unique Route ID.\n"
     ]
    }
   ],
   "source": [
    "# Check for unique route_id per shape_id\n",
    "unique_route_check = trips.groupby('shape_id')['route_id'].nunique()\n",
    "non_unique_routes = unique_route_check[unique_route_check > 1]\n",
    "\n",
    "if not non_unique_routes.empty:\n",
    "    print(\"Shape IDs with non-unique Route IDs:\", non_unique_routes.index.tolist())\n",
    "else:\n",
    "    print(\"Each Shape ID has a unique Route ID.\")"
   ]
  },
  {
   "cell_type": "code",
   "execution_count": 13,
   "id": "6d17d667-08f0-43cc-8009-74a6b78d388e",
   "metadata": {},
   "outputs": [
    {
     "name": "stdout",
     "output_type": "stream",
     "text": [
      "Each Route ID has a unique Shape ID.\n"
     ]
    }
   ],
   "source": [
    "# Check for unique shape_id per route_id\n",
    "unique_shape_check = trips.groupby('route_id')['shape_id'].nunique()\n",
    "non_unique_shapes = unique_shape_check[unique_shape_check > 1]\n",
    "\n",
    "if not non_unique_shapes.empty:\n",
    "    print(\"Route IDs with non-unique Shape IDs:\", non_unique_shapes.index.tolist())\n",
    "else:\n",
    "    print(\"Each Route ID has a unique Shape ID.\")"
   ]
  },
  {
   "cell_type": "markdown",
   "id": "fe5bad9f-e721-4f99-8895-766e2e080ab4",
   "metadata": {},
   "source": [
    "***Rationale***:  \n",
    "   Each shape represents a unique geometric path followed by a specific route. Ensuring a unique `route_id` for each `shape_id` guarantees that the spatial geometry of a route is distinct and correctly associated with a specific route."
   ]
  },
  {
   "cell_type": "markdown",
   "id": "bc0ff6a3-d408-4804-bb1d-a11e1b1900f2",
   "metadata": {},
   "source": [
    "##### 2.5.2 Check the existance 1:N relationship between `route_id` and `trip_id` in trips"
   ]
  },
  {
   "cell_type": "code",
   "execution_count": 14,
   "id": "c48625ed-3408-49c5-9e6a-260d0a1f9749",
   "metadata": {},
   "outputs": [
    {
     "data": {
      "text/markdown": [
       "##### Checking routes with multiple trips"
      ],
      "text/plain": [
       "<IPython.core.display.Markdown object>"
      ]
     },
     "metadata": {},
     "output_type": "display_data"
    },
    {
     "name": "stdout",
     "output_type": "stream",
     "text": [
      "Route IDs with multiple trips associated:  [0, 1, 2, 3, 4, 5, 6, 7, 8, 9, 10, 11, 12, 13, 14, 15, 16, 17, 18, 19, 20, 21, 22, 23, 24, 25, 26, 27, 28, 29, 30, 31, 32, 33, 34, 35]\n"
     ]
    }
   ],
   "source": [
    "# For checking routes with multiple trips\n",
    "route_trip_counts = trips.groupby(\"route_id\")['trip_id'].nunique()\n",
    "\n",
    "display(Markdown(\"##### Checking routes with multiple trips\"))\n",
    "routes_with_multiple_trips = route_trip_counts[route_trip_counts > 1] # Routes with multiple trips\n",
    "if not routes_with_multiple_trips.empty:\n",
    "    print(\"Route IDs with multiple trips associated: \", routes_with_multiple_trips.index.tolist())\n",
    "else:\n",
    "    print(\"Each route is associated with the same trip.\")"
   ]
  },
  {
   "cell_type": "code",
   "execution_count": 15,
   "id": "2c0ebdb6-1ac4-4027-a3c2-601cb0428411",
   "metadata": {},
   "outputs": [
    {
     "data": {
      "text/markdown": [
       "##### Checking trips with multiple routes"
      ],
      "text/plain": [
       "<IPython.core.display.Markdown object>"
      ]
     },
     "metadata": {},
     "output_type": "display_data"
    },
    {
     "name": "stdout",
     "output_type": "stream",
     "text": [
      "Each trip is associated with the same route.\n"
     ]
    }
   ],
   "source": [
    "# For checking trips with multiple routes\n",
    "trip_route_counts = trips.groupby(\"trip_id\")['route_id'].nunique()\n",
    "\n",
    "display(Markdown(\"##### Checking trips with multiple routes\"))\n",
    "trips_with_multiple_routes = trip_route_counts[trip_route_counts > 1] # Trips with multiple routes\n",
    "if not trips_with_multiple_routes.empty:\n",
    "    print(\"Trip IDs with multiple routes associated: \", trips_with_multiple_routes.index.tolist())\n",
    "else:\n",
    "    print(\"Each trip is associated with the same route.\")"
   ]
  },
  {
   "cell_type": "markdown",
   "id": "9fddb98f-b6c9-4270-b372-aabca67d8a4d",
   "metadata": {},
   "source": [
    "***Rationale***:  \n",
    "   A single route can have multiple trips (e.g., different times of the day). However, each trip should belong to only one route. Validating this ensures that routes are not duplicated across different trips and that trips correctly belong to only one route, maintaining a logical and organized structure.\n"
   ]
  },
  {
   "cell_type": "markdown",
   "id": "91b060b0-a805-4cc8-857d-2d8c4520f943",
   "metadata": {},
   "source": [
    "##### 2.5.3 Check the relationship between `trip_id` and `stop_id` in `stop_times`"
   ]
  },
  {
   "cell_type": "code",
   "execution_count": 16,
   "id": "d38dd006-31dd-4dd2-aa57-3b14b5e2ecf3",
   "metadata": {},
   "outputs": [
    {
     "data": {
      "text/markdown": [
       "##### Checking trips with multiple stops"
      ],
      "text/plain": [
       "<IPython.core.display.Markdown object>"
      ]
     },
     "metadata": {},
     "output_type": "display_data"
    },
    {
     "name": "stdout",
     "output_type": "stream",
     "text": [
      "Trip count with multiple stops associated:  5438\n"
     ]
    }
   ],
   "source": [
    "# Checking trips with multiple stops\n",
    "trip_stop_counts = stop_times.groupby(\"trip_id\")['stop_id'].nunique()\n",
    "\n",
    "display(Markdown(\"##### Checking trips with multiple stops\"))\n",
    "trips_with_multiple_stops = trip_stop_counts[trip_stop_counts > 1] # Trips with multiple stops\n",
    "if not trips_with_multiple_stops.empty:\n",
    "    print(\"Trip count with multiple stops associated: \", trips_with_multiple_stops.count())\n",
    "else:\n",
    "    print(\"Each trip is associated with a single stop.\")"
   ]
  },
  {
   "cell_type": "code",
   "execution_count": 17,
   "id": "3ad59094-1e81-4f84-af8f-3661aae97245",
   "metadata": {},
   "outputs": [
    {
     "data": {
      "text/markdown": [
       "##### Checking stops with multiple trips"
      ],
      "text/plain": [
       "<IPython.core.display.Markdown object>"
      ]
     },
     "metadata": {},
     "output_type": "display_data"
    },
    {
     "name": "stdout",
     "output_type": "stream",
     "text": [
      "Stop count with multiple trips associated:  262\n"
     ]
    }
   ],
   "source": [
    "# Checking stops with multiple trips\n",
    "stop_trip_counts = stop_times.groupby(\"stop_id\")['trip_id'].nunique()\n",
    "\n",
    "display(Markdown(\"##### Checking stops with multiple trips\"))\n",
    "stops_with_multiple_trips = stop_trip_counts[stop_trip_counts > 1] # Stops with multiple trips\n",
    "if not stops_with_multiple_trips.empty:\n",
    "    print(\"Stop count with multiple trips associated: \", stops_with_multiple_trips.count())\n",
    "else:\n",
    "    print(\"Each stop is associated with a single trip.\")"
   ]
  },
  {
   "cell_type": "markdown",
   "id": "173b5bd0-466e-4845-9b98-6c21946fe813",
   "metadata": {},
   "source": [
    "***Rational***:  \n",
    "Trips involve multiple stops, and stops can be part of multiple trips. Validating the 1:N and N:1 relationships between trips and stops ensures that stops are accurately mapped to the trips they are part of, confirming the correctness of the stop sequence and travel data across various trips."
   ]
  },
  {
   "cell_type": "markdown",
   "id": "07144d19-f0fd-4e6d-98c8-257e3511aae5",
   "metadata": {},
   "source": [
    "##### 2.5.4 Geospatial Data Check (Latitude and Longitude)"
   ]
  },
  {
   "cell_type": "code",
   "execution_count": 18,
   "id": "7bc60967-8da4-4203-87e1-526f24901be1",
   "metadata": {},
   "outputs": [
    {
     "name": "stdout",
     "output_type": "stream",
     "text": [
      "No invalid geospatial data found in the dataset, good for analysis.\n"
     ]
    }
   ],
   "source": [
    "# Check latitude and longitude ranges for stops\n",
    "invalid_stops_lat = stops[(stops['stop_lat'] < -90) | (stops['stop_lat'] > 90)]\n",
    "invalid_stops_lon = stops[(stops['stop_lon'] < -180) | (stops['stop_lon'] > 180)]\n",
    "\n",
    "# Check latitude and longitude ranges for shapes\n",
    "invalid_shapes_lat = shapes[(shapes['shape_pt_lat'] < -90) | (shapes['shape_pt_lat'] > 90)]\n",
    "invalid_shapes_lon = shapes[(shapes['shape_pt_lon'] < -180) | (shapes['shape_pt_lon'] > 180)]\n",
    "\n",
    "# Print results\n",
    "if all([invalid_stops_lat.empty, invalid_stops_lon.empty, invalid_shapes_lat.empty, invalid_shapes_lon.empty]):\n",
    "    print(\"No invalid geospatial data found in the dataset, good for analysis.\")\n",
    "else:\n",
    "    print(\"Some invalid geospatial data found in the dataset.\")\n",
    "    if not invalid_stops_lat.empty:\n",
    "        print(\" - Invalid latitude values found in stops:\")\n",
    "        print(invalid_stops_lat[['stop_id', 'stop_lat']])\n",
    "    if not invalid_stops_lon.empty:\n",
    "        print(\" - Invalid longitude values found in stops:\")\n",
    "        print(invalid_stops_lon[['stop_id', 'stop_lon']])\n",
    "    if not invalid_shapes_lat.empty:\n",
    "        print(\" - Invalid latitude values found in shapes:\")\n",
    "        print(invalid_shapes_lat[['shape_id', 'shape_pt_lat']])\n",
    "    if not invalid_shapes_lon.empty:\n",
    "        print(\" - Invalid longitude values found in shapes:\")\n",
    "        print(invalid_shapes_lon[['shape_id', 'shape_pt_lon']])\n"
   ]
  },
  {
   "cell_type": "markdown",
   "id": "1636f98d-7ec7-448d-9d04-c971bb4981f9",
   "metadata": {},
   "source": [
    "***Rational***:  \n",
    "This check ensures that the latitude and longitude values in the `stops` and `shapes` datasets fall within valid geographic ranges. Latitude must be between -90 and 90 degrees, and longitude must be between -180 and 180 degrees. Validating these coordinates is crucial for accurate mapping and spatial analysis, as invalid values can lead to incorrect geographic representations and distort the results of subsequent analyses.\n"
   ]
  },
  {
   "cell_type": "markdown",
   "id": "0e8bfe71-7a14-4455-ac72-9e9e702b65d0",
   "metadata": {},
   "source": [
    "##### 2.5.5 Time Data Check (Arrival and Departure Times)"
   ]
  },
  {
   "cell_type": "code",
   "execution_count": 19,
   "id": "d95f6eb3-78c3-458e-adc5-435db9fd6536",
   "metadata": {},
   "outputs": [
    {
     "name": "stdout",
     "output_type": "stream",
     "text": [
      "No invalid time data found in the dataset, good for analysis.\n"
     ]
    }
   ],
   "source": [
    "# Check time-related fields in stop_times\n",
    "invalid_arrival_times = stop_times[~stop_times['arrival_time'].str.match(r'^\\d{2}:\\d{2}:\\d{2}$')]\n",
    "invalid_departure_times = stop_times[~stop_times['departure_time'].str.match(r'^\\d{2}:\\d{2}:\\d{2}$')]\n",
    "\n",
    "# Print results\n",
    "if all([invalid_arrival_times.empty, invalid_departure_times.empty]):\n",
    "    print(\"No invalid time data found in the dataset, good for analysis.\")\n",
    "else:\n",
    "    print(\"Some invalid time data found in the dataset.\")\n",
    "    if not invalid_arrival_times.empty:\n",
    "        print(\" - Invalid arrival times found:\")\n",
    "        print(invalid_arrival_times[['trip_id', 'arrival_time']])\n",
    "    if not invalid_departure_times.empty:\n",
    "        print(\" - Invalid departure times found:\")\n",
    "        print(invalid_departure_times[['trip_id', 'departure_time']])"
   ]
  },
  {
   "cell_type": "markdown",
   "id": "046a5660-0563-4162-816a-4a98428ab199",
   "metadata": {},
   "source": [
    "***Rational***:   \n",
    "This check validates the time-related fields in the `stop_times` dataset to ensure they adhere to expected formats and logical constraints. This validation is essential for maintaining the integrity of scheduling and ensuring that travel data is accurate, thereby supporting reliable analysis of transit operations and performance."
   ]
  },
  {
   "cell_type": "markdown",
   "id": "f697ca98-ec8c-4a84-8440-70c69c07d704",
   "metadata": {},
   "source": [
    "#### Data Merging"
   ]
  },
  {
   "cell_type": "code",
   "execution_count": 20,
   "id": "d3153a86-08c5-4283-984c-ba200e25b0bb",
   "metadata": {},
   "outputs": [
    {
     "name": "stdout",
     "output_type": "stream",
     "text": [
      "<class 'pandas.core.frame.DataFrame'>\n",
      "RangeIndex: 128434 entries, 0 to 128433\n",
      "Data columns (total 9 columns):\n",
      " #   Column               Non-Null Count   Dtype  \n",
      "---  ------               --------------   -----  \n",
      " 0   trip_id              128434 non-null  int64  \n",
      " 1   arrival_time         128434 non-null  object \n",
      " 2   departure_time       128434 non-null  object \n",
      " 3   stop_id              128434 non-null  int64  \n",
      " 4   stop_sequence        128434 non-null  int64  \n",
      " 5   shape_dist_traveled  128434 non-null  float64\n",
      " 6   stop_name            128434 non-null  object \n",
      " 7   stop_lat             128434 non-null  float64\n",
      " 8   stop_lon             128434 non-null  float64\n",
      "dtypes: float64(3), int64(3), object(3)\n",
      "memory usage: 8.8+ MB\n"
     ]
    },
    {
     "data": {
      "text/html": [
       "<div>\n",
       "<style scoped>\n",
       "    .dataframe tbody tr th:only-of-type {\n",
       "        vertical-align: middle;\n",
       "    }\n",
       "\n",
       "    .dataframe tbody tr th {\n",
       "        vertical-align: top;\n",
       "    }\n",
       "\n",
       "    .dataframe thead th {\n",
       "        text-align: right;\n",
       "    }\n",
       "</style>\n",
       "<table border=\"1\" class=\"dataframe\">\n",
       "  <thead>\n",
       "    <tr style=\"text-align: right;\">\n",
       "      <th></th>\n",
       "      <th>trip_id</th>\n",
       "      <th>arrival_time</th>\n",
       "      <th>departure_time</th>\n",
       "      <th>stop_id</th>\n",
       "      <th>stop_sequence</th>\n",
       "      <th>shape_dist_traveled</th>\n",
       "      <th>stop_name</th>\n",
       "      <th>stop_lat</th>\n",
       "      <th>stop_lon</th>\n",
       "    </tr>\n",
       "  </thead>\n",
       "  <tbody>\n",
       "    <tr>\n",
       "      <th>0</th>\n",
       "      <td>0</td>\n",
       "      <td>05:28:08</td>\n",
       "      <td>05:28:28</td>\n",
       "      <td>21</td>\n",
       "      <td>0</td>\n",
       "      <td>0.000</td>\n",
       "      <td>Rithala</td>\n",
       "      <td>28.720821</td>\n",
       "      <td>77.105042</td>\n",
       "    </tr>\n",
       "    <tr>\n",
       "      <th>1</th>\n",
       "      <td>0</td>\n",
       "      <td>05:30:58</td>\n",
       "      <td>05:31:18</td>\n",
       "      <td>20</td>\n",
       "      <td>1</td>\n",
       "      <td>1202.405</td>\n",
       "      <td>Rohini West</td>\n",
       "      <td>28.715008</td>\n",
       "      <td>77.115746</td>\n",
       "    </tr>\n",
       "  </tbody>\n",
       "</table>\n",
       "</div>"
      ],
      "text/plain": [
       "   trip_id arrival_time departure_time  stop_id  stop_sequence  \\\n",
       "0        0     05:28:08       05:28:28       21              0   \n",
       "1        0     05:30:58       05:31:18       20              1   \n",
       "\n",
       "   shape_dist_traveled    stop_name   stop_lat   stop_lon  \n",
       "0                0.000      Rithala  28.720821  77.105042  \n",
       "1             1202.405  Rohini West  28.715008  77.115746  "
      ]
     },
     "execution_count": 20,
     "metadata": {},
     "output_type": "execute_result"
    }
   ],
   "source": [
    "# stop_times\n",
    "# trip_id | arrival_time | departure_time | stop_id | stop_sequence | shape_dist_traveled\n",
    "# trip_id | station_id | station_sequence | arrival_time | departure_time | stop_duration | shape_dist_traveled\n",
    "\n",
    "stops_stop_times = pd.merge(stop_times, stops, on=\"stop_id\", how=\"inner\")\n",
    "\n",
    "stops_stop_times.info()\n",
    "stops_stop_times.head(2)"
   ]
  },
  {
   "cell_type": "code",
   "execution_count": 21,
   "id": "41c94603-345d-43aa-9e5d-cb88255d2de3",
   "metadata": {},
   "outputs": [
    {
     "name": "stdout",
     "output_type": "stream",
     "text": [
      "<class 'pandas.core.frame.DataFrame'>\n",
      "RangeIndex: 5438 entries, 0 to 5437\n",
      "Data columns (total 5 columns):\n",
      " #   Column           Non-Null Count  Dtype \n",
      "---  ------           --------------  ----- \n",
      " 0   route_id         5438 non-null   int64 \n",
      " 1   route_long_name  5438 non-null   object\n",
      " 2   service_id       5438 non-null   object\n",
      " 3   trip_id          5438 non-null   int64 \n",
      " 4   shape_id         5438 non-null   object\n",
      "dtypes: int64(2), object(3)\n",
      "memory usage: 212.6+ KB\n"
     ]
    },
    {
     "data": {
      "text/html": [
       "<div>\n",
       "<style scoped>\n",
       "    .dataframe tbody tr th:only-of-type {\n",
       "        vertical-align: middle;\n",
       "    }\n",
       "\n",
       "    .dataframe tbody tr th {\n",
       "        vertical-align: top;\n",
       "    }\n",
       "\n",
       "    .dataframe thead th {\n",
       "        text-align: right;\n",
       "    }\n",
       "</style>\n",
       "<table border=\"1\" class=\"dataframe\">\n",
       "  <thead>\n",
       "    <tr style=\"text-align: right;\">\n",
       "      <th></th>\n",
       "      <th>route_id</th>\n",
       "      <th>route_long_name</th>\n",
       "      <th>service_id</th>\n",
       "      <th>trip_id</th>\n",
       "      <th>shape_id</th>\n",
       "    </tr>\n",
       "  </thead>\n",
       "  <tbody>\n",
       "    <tr>\n",
       "      <th>0</th>\n",
       "      <td>33</td>\n",
       "      <td>RAPID_Phase 3 (Rapid Metro) to Sector 55-56 (R...</td>\n",
       "      <td>weekday</td>\n",
       "      <td>16449</td>\n",
       "      <td>shp_1_24</td>\n",
       "    </tr>\n",
       "    <tr>\n",
       "      <th>1</th>\n",
       "      <td>33</td>\n",
       "      <td>RAPID_Phase 3 (Rapid Metro) to Sector 55-56 (R...</td>\n",
       "      <td>weekday</td>\n",
       "      <td>16450</td>\n",
       "      <td>shp_1_24</td>\n",
       "    </tr>\n",
       "  </tbody>\n",
       "</table>\n",
       "</div>"
      ],
      "text/plain": [
       "   route_id                                    route_long_name service_id  \\\n",
       "0        33  RAPID_Phase 3 (Rapid Metro) to Sector 55-56 (R...    weekday   \n",
       "1        33  RAPID_Phase 3 (Rapid Metro) to Sector 55-56 (R...    weekday   \n",
       "\n",
       "   trip_id  shape_id  \n",
       "0    16449  shp_1_24  \n",
       "1    16450  shp_1_24  "
      ]
     },
     "execution_count": 21,
     "metadata": {},
     "output_type": "execute_result"
    }
   ],
   "source": [
    "routes_trips = pd.merge(routes, trips, on=\"route_id\", how=\"inner\")\n",
    "\n",
    "routes_trips.info()\n",
    "routes_trips.head(2)"
   ]
  },
  {
   "cell_type": "code",
   "execution_count": 22,
   "id": "c84dae93-774b-471b-8a2e-323ced0c64a9",
   "metadata": {},
   "outputs": [
    {
     "name": "stdout",
     "output_type": "stream",
     "text": [
      "<class 'pandas.core.frame.DataFrame'>\n",
      "RangeIndex: 6643 entries, 0 to 6642\n",
      "Data columns (total 7 columns):\n",
      " #   Column               Non-Null Count  Dtype  \n",
      "---  ------               --------------  -----  \n",
      " 0   shape_id             6643 non-null   object \n",
      " 1   shape_pt_lat         6643 non-null   float64\n",
      " 2   shape_pt_lon         6643 non-null   float64\n",
      " 3   shape_pt_sequence    6643 non-null   int64  \n",
      " 4   shape_dist_traveled  6643 non-null   float64\n",
      " 5   route_id             6643 non-null   int64  \n",
      " 6   route_long_name      6643 non-null   object \n",
      "dtypes: float64(3), int64(2), object(2)\n",
      "memory usage: 363.4+ KB\n"
     ]
    },
    {
     "data": {
      "text/html": [
       "<div>\n",
       "<style scoped>\n",
       "    .dataframe tbody tr th:only-of-type {\n",
       "        vertical-align: middle;\n",
       "    }\n",
       "\n",
       "    .dataframe tbody tr th {\n",
       "        vertical-align: top;\n",
       "    }\n",
       "\n",
       "    .dataframe thead th {\n",
       "        text-align: right;\n",
       "    }\n",
       "</style>\n",
       "<table border=\"1\" class=\"dataframe\">\n",
       "  <thead>\n",
       "    <tr style=\"text-align: right;\">\n",
       "      <th></th>\n",
       "      <th>shape_id</th>\n",
       "      <th>shape_pt_lat</th>\n",
       "      <th>shape_pt_lon</th>\n",
       "      <th>shape_pt_sequence</th>\n",
       "      <th>shape_dist_traveled</th>\n",
       "      <th>route_id</th>\n",
       "      <th>route_long_name</th>\n",
       "    </tr>\n",
       "  </thead>\n",
       "  <tbody>\n",
       "    <tr>\n",
       "      <th>0</th>\n",
       "      <td>shp_1_2</td>\n",
       "      <td>28.615887</td>\n",
       "      <td>77.022461</td>\n",
       "      <td>1</td>\n",
       "      <td>0.00</td>\n",
       "      <td>13</td>\n",
       "      <td>GRAY_Dwarka to Dhansa Bus Stand</td>\n",
       "    </tr>\n",
       "    <tr>\n",
       "      <th>1</th>\n",
       "      <td>shp_1_2</td>\n",
       "      <td>28.616341</td>\n",
       "      <td>77.022499</td>\n",
       "      <td>2</td>\n",
       "      <td>50.51</td>\n",
       "      <td>13</td>\n",
       "      <td>GRAY_Dwarka to Dhansa Bus Stand</td>\n",
       "    </tr>\n",
       "  </tbody>\n",
       "</table>\n",
       "</div>"
      ],
      "text/plain": [
       "  shape_id  shape_pt_lat  shape_pt_lon  shape_pt_sequence  \\\n",
       "0  shp_1_2     28.615887     77.022461                  1   \n",
       "1  shp_1_2     28.616341     77.022499                  2   \n",
       "\n",
       "   shape_dist_traveled  route_id                  route_long_name  \n",
       "0                 0.00        13  GRAY_Dwarka to Dhansa Bus Stand  \n",
       "1                50.51        13  GRAY_Dwarka to Dhansa Bus Stand  "
      ]
     },
     "execution_count": 22,
     "metadata": {},
     "output_type": "execute_result"
    }
   ],
   "source": [
    "routes_shapes = pd.merge(shapes, routes_trips[['route_id', 'route_long_name', 'shape_id']], on=\"shape_id\", how=\"inner\")\n",
    "\n",
    "routes_shapes = routes_shapes.drop_duplicates().reset_index(drop=True)\n",
    "\n",
    "routes_shapes.info()\n",
    "routes_shapes.head(2)"
   ]
  },
  {
   "cell_type": "code",
   "execution_count": 23,
   "id": "d71823ae-d064-4417-80b8-ea23200496fd",
   "metadata": {},
   "outputs": [
    {
     "name": "stdout",
     "output_type": "stream",
     "text": [
      "<class 'pandas.core.frame.DataFrame'>\n",
      "RangeIndex: 128434 entries, 0 to 128433\n",
      "Data columns (total 13 columns):\n",
      " #   Column               Non-Null Count   Dtype  \n",
      "---  ------               --------------   -----  \n",
      " 0   trip_id              128434 non-null  int64  \n",
      " 1   arrival_time         128434 non-null  object \n",
      " 2   departure_time       128434 non-null  object \n",
      " 3   stop_id              128434 non-null  int64  \n",
      " 4   stop_sequence        128434 non-null  int64  \n",
      " 5   shape_dist_traveled  128434 non-null  float64\n",
      " 6   stop_name            128434 non-null  object \n",
      " 7   stop_lat             128434 non-null  float64\n",
      " 8   stop_lon             128434 non-null  float64\n",
      " 9   route_id             128434 non-null  int64  \n",
      " 10  route_long_name      128434 non-null  object \n",
      " 11  service_id           128434 non-null  object \n",
      " 12  shape_id             128434 non-null  object \n",
      "dtypes: float64(3), int64(4), object(6)\n",
      "memory usage: 12.7+ MB\n"
     ]
    },
    {
     "data": {
      "text/html": [
       "<div>\n",
       "<style scoped>\n",
       "    .dataframe tbody tr th:only-of-type {\n",
       "        vertical-align: middle;\n",
       "    }\n",
       "\n",
       "    .dataframe tbody tr th {\n",
       "        vertical-align: top;\n",
       "    }\n",
       "\n",
       "    .dataframe thead th {\n",
       "        text-align: right;\n",
       "    }\n",
       "</style>\n",
       "<table border=\"1\" class=\"dataframe\">\n",
       "  <thead>\n",
       "    <tr style=\"text-align: right;\">\n",
       "      <th></th>\n",
       "      <th>trip_id</th>\n",
       "      <th>arrival_time</th>\n",
       "      <th>departure_time</th>\n",
       "      <th>stop_id</th>\n",
       "      <th>stop_sequence</th>\n",
       "      <th>shape_dist_traveled</th>\n",
       "      <th>stop_name</th>\n",
       "      <th>stop_lat</th>\n",
       "      <th>stop_lon</th>\n",
       "      <th>route_id</th>\n",
       "      <th>route_long_name</th>\n",
       "      <th>service_id</th>\n",
       "      <th>shape_id</th>\n",
       "    </tr>\n",
       "  </thead>\n",
       "  <tbody>\n",
       "    <tr>\n",
       "      <th>0</th>\n",
       "      <td>0</td>\n",
       "      <td>05:28:08</td>\n",
       "      <td>05:28:28</td>\n",
       "      <td>21</td>\n",
       "      <td>0</td>\n",
       "      <td>0.000</td>\n",
       "      <td>Rithala</td>\n",
       "      <td>28.720821</td>\n",
       "      <td>77.105042</td>\n",
       "      <td>0</td>\n",
       "      <td>RED_Rithala to Dilshad Garden</td>\n",
       "      <td>weekday</td>\n",
       "      <td>shp_1_30</td>\n",
       "    </tr>\n",
       "    <tr>\n",
       "      <th>1</th>\n",
       "      <td>0</td>\n",
       "      <td>05:30:58</td>\n",
       "      <td>05:31:18</td>\n",
       "      <td>20</td>\n",
       "      <td>1</td>\n",
       "      <td>1202.405</td>\n",
       "      <td>Rohini West</td>\n",
       "      <td>28.715008</td>\n",
       "      <td>77.115746</td>\n",
       "      <td>0</td>\n",
       "      <td>RED_Rithala to Dilshad Garden</td>\n",
       "      <td>weekday</td>\n",
       "      <td>shp_1_30</td>\n",
       "    </tr>\n",
       "  </tbody>\n",
       "</table>\n",
       "</div>"
      ],
      "text/plain": [
       "   trip_id arrival_time departure_time  stop_id  stop_sequence  \\\n",
       "0        0     05:28:08       05:28:28       21              0   \n",
       "1        0     05:30:58       05:31:18       20              1   \n",
       "\n",
       "   shape_dist_traveled    stop_name   stop_lat   stop_lon  route_id  \\\n",
       "0                0.000      Rithala  28.720821  77.105042         0   \n",
       "1             1202.405  Rohini West  28.715008  77.115746         0   \n",
       "\n",
       "                 route_long_name service_id  shape_id  \n",
       "0  RED_Rithala to Dilshad Garden    weekday  shp_1_30  \n",
       "1  RED_Rithala to Dilshad Garden    weekday  shp_1_30  "
      ]
     },
     "execution_count": 23,
     "metadata": {},
     "output_type": "execute_result"
    }
   ],
   "source": [
    "routes_stops = pd.merge(stops_stop_times, routes_trips, how='left', on='trip_id')\n",
    "\n",
    "routes_stops.info()\n",
    "routes_stops.head(2)"
   ]
  },
  {
   "cell_type": "code",
   "execution_count": 24,
   "id": "830450e5-8cab-4e22-8df9-bdfebf941686",
   "metadata": {},
   "outputs": [
    {
     "name": "stdout",
     "output_type": "stream",
     "text": [
      "<class 'pandas.core.frame.DataFrame'>\n",
      "Index: 830 entries, 0 to 125534\n",
      "Data columns (total 6 columns):\n",
      " #   Column           Non-Null Count  Dtype \n",
      "---  ------           --------------  ----- \n",
      " 0   stop_id          830 non-null    int64 \n",
      " 1   stop_sequence    830 non-null    int64 \n",
      " 2   stop_name        830 non-null    object\n",
      " 3   route_id         830 non-null    int64 \n",
      " 4   route_long_name  830 non-null    object\n",
      " 5   shape_id         830 non-null    object\n",
      "dtypes: int64(3), object(3)\n",
      "memory usage: 45.4+ KB\n"
     ]
    },
    {
     "data": {
      "text/html": [
       "<div>\n",
       "<style scoped>\n",
       "    .dataframe tbody tr th:only-of-type {\n",
       "        vertical-align: middle;\n",
       "    }\n",
       "\n",
       "    .dataframe tbody tr th {\n",
       "        vertical-align: top;\n",
       "    }\n",
       "\n",
       "    .dataframe thead th {\n",
       "        text-align: right;\n",
       "    }\n",
       "</style>\n",
       "<table border=\"1\" class=\"dataframe\">\n",
       "  <thead>\n",
       "    <tr style=\"text-align: right;\">\n",
       "      <th></th>\n",
       "      <th>stop_id</th>\n",
       "      <th>stop_sequence</th>\n",
       "      <th>stop_name</th>\n",
       "      <th>route_id</th>\n",
       "      <th>route_long_name</th>\n",
       "      <th>shape_id</th>\n",
       "    </tr>\n",
       "  </thead>\n",
       "  <tbody>\n",
       "    <tr>\n",
       "      <th>0</th>\n",
       "      <td>21</td>\n",
       "      <td>0</td>\n",
       "      <td>Rithala</td>\n",
       "      <td>0</td>\n",
       "      <td>RED_Rithala to Dilshad Garden</td>\n",
       "      <td>shp_1_30</td>\n",
       "    </tr>\n",
       "    <tr>\n",
       "      <th>1</th>\n",
       "      <td>20</td>\n",
       "      <td>1</td>\n",
       "      <td>Rohini West</td>\n",
       "      <td>0</td>\n",
       "      <td>RED_Rithala to Dilshad Garden</td>\n",
       "      <td>shp_1_30</td>\n",
       "    </tr>\n",
       "  </tbody>\n",
       "</table>\n",
       "</div>"
      ],
      "text/plain": [
       "   stop_id  stop_sequence    stop_name  route_id  \\\n",
       "0       21              0      Rithala         0   \n",
       "1       20              1  Rohini West         0   \n",
       "\n",
       "                 route_long_name  shape_id  \n",
       "0  RED_Rithala to Dilshad Garden  shp_1_30  \n",
       "1  RED_Rithala to Dilshad Garden  shp_1_30  "
      ]
     },
     "execution_count": 24,
     "metadata": {},
     "output_type": "execute_result"
    }
   ],
   "source": [
    "routes_stops_truncated = routes_stops.drop(['trip_id', 'arrival_time', 'departure_time', 'shape_dist_traveled', 'stop_lat', 'stop_lon', 'service_id'], axis=1)\n",
    "routes_stops_truncated.drop_duplicates(inplace=True)\n",
    "\n",
    "routes_stops_truncated.info()\n",
    "routes_stops_truncated.head(2)"
   ]
  },
  {
   "cell_type": "markdown",
   "id": "8ceb0d3b-7e04-4d5f-9887-91dedaa41917",
   "metadata": {},
   "source": [
    "##### 2.6.1 Create Data Lookup Indices for fast lookup"
   ]
  },
  {
   "cell_type": "markdown",
   "id": "2c19b15d-a92c-4cfa-8b08-89ed4789f27f",
   "metadata": {},
   "source": [
    "* Map `route_id` to `shape_id` (since each route has a unique shape).\n",
    "* Map `route_id` to `trip_ids`."
   ]
  },
  {
   "cell_type": "code",
   "execution_count": 25,
   "id": "9fa6902f-35c0-4bfa-9d98-d4babef86ae7",
   "metadata": {},
   "outputs": [],
   "source": [
    "# route_id -> unique shape_id \n",
    "route_shape_lookup = routes_shapes[['route_id', 'shape_id']].drop_duplicates().set_index('route_id').sort_index()['shape_id']\n",
    "\n",
    "# route_id -> unique trip_id\n",
    "route_trip_lookup = routes_trips[['route_id', 'trip_id']].drop_duplicates().set_index('route_id').sort_index()['trip_id']"
   ]
  },
  {
   "cell_type": "code",
   "execution_count": 26,
   "id": "87098951-bdd2-4843-b34a-42e8d88bc0ff",
   "metadata": {},
   "outputs": [
    {
     "data": {
      "text/markdown": [
       "##### Route_id to Shape_id Lookup"
      ],
      "text/plain": [
       "<IPython.core.display.Markdown object>"
      ]
     },
     "metadata": {},
     "output_type": "display_data"
    },
    {
     "data": {
      "text/plain": [
       "route_id\n",
       "0    shp_1_30\n",
       "1    shp_1_32\n",
       "2    shp_1_13\n",
       "3    shp_1_25\n",
       "4     shp_1_9\n",
       "Name: shape_id, dtype: object"
      ]
     },
     "metadata": {},
     "output_type": "display_data"
    },
    {
     "name": "stdout",
     "output_type": "stream",
     "text": [
      "Shape: (36,)\n"
     ]
    },
    {
     "data": {
      "text/markdown": [
       "##### Route_id to Trip_id Lookup"
      ],
      "text/plain": [
       "<IPython.core.display.Markdown object>"
      ]
     },
     "metadata": {},
     "output_type": "display_data"
    },
    {
     "data": {
      "text/plain": [
       "route_id\n",
       "0    109\n",
       "0      0\n",
       "0      1\n",
       "0     10\n",
       "0    101\n",
       "Name: trip_id, dtype: int64"
      ]
     },
     "metadata": {},
     "output_type": "display_data"
    },
    {
     "name": "stdout",
     "output_type": "stream",
     "text": [
      "Shape: (5438,)\n"
     ]
    }
   ],
   "source": [
    "display(Markdown(\"##### Route_id to Shape_id Lookup\"), route_shape_lookup.head())\n",
    "print('Shape: {}'.format(route_shape_lookup.shape))\n",
    "\n",
    "display(Markdown(\"##### Route_id to Trip_id Lookup\"), route_trip_lookup.head())\n",
    "print('Shape: {}'.format(route_trip_lookup.shape))"
   ]
  },
  {
   "cell_type": "markdown",
   "id": "b6149ffb-1f4e-46bc-a59b-63b59a5ccdfa",
   "metadata": {},
   "source": [
    "* Get unique combinations of `stop_id` and `route_id` by merging `stop_times` and `trips`."
   ]
  },
  {
   "cell_type": "code",
   "execution_count": 27,
   "id": "df44c010-e463-44cd-8dc0-d5be11bd3449",
   "metadata": {},
   "outputs": [],
   "source": [
    "# route_id -> stop_id\n",
    "route_stop_lookup = routes_stops[['route_id', 'stop_id']].drop_duplicates().set_index('route_id').sort_index()['stop_id']\n",
    "\n",
    "# stop_id -> route_id\n",
    "stop_route_lookup = routes_stops[['route_id', 'stop_id']].drop_duplicates().set_index('stop_id').sort_index()['route_id']"
   ]
  },
  {
   "cell_type": "code",
   "execution_count": 28,
   "id": "a0ee0f9e-a31c-4b9e-aa72-07c727ce7b43",
   "metadata": {},
   "outputs": [
    {
     "data": {
      "text/markdown": [
       "##### Route_id to Stop_id Lookup"
      ],
      "text/plain": [
       "<IPython.core.display.Markdown object>"
      ]
     },
     "metadata": {},
     "output_type": "display_data"
    },
    {
     "data": {
      "text/plain": [
       "route_id\n",
       "0    21\n",
       "0    20\n",
       "0    19\n",
       "0    18\n",
       "0    17\n",
       "Name: stop_id, dtype: int64"
      ]
     },
     "metadata": {},
     "output_type": "display_data"
    },
    {
     "data": {
      "text/markdown": [
       "##### Stop_id to Route_id Lookup"
      ],
      "text/plain": [
       "<IPython.core.display.Markdown object>"
      ]
     },
     "metadata": {},
     "output_type": "display_data"
    },
    {
     "data": {
      "text/plain": [
       "stop_id\n",
       "1    18\n",
       "1     1\n",
       "1    19\n",
       "1     0\n",
       "2     1\n",
       "Name: route_id, dtype: int64"
      ]
     },
     "metadata": {},
     "output_type": "display_data"
    }
   ],
   "source": [
    "display(Markdown(\"##### Route_id to Stop_id Lookup\"), route_stop_lookup.head())\n",
    "display(Markdown(\"##### Stop_id to Route_id Lookup\"), stop_route_lookup.head())"
   ]
  },
  {
   "cell_type": "code",
   "execution_count": 29,
   "id": "074355c5-f48c-4609-8b5e-87e69394e030",
   "metadata": {},
   "outputs": [],
   "source": [
    "# Select relevant columns and group by route_id to get a list of stops for each route\n",
    "routewise_stops = route_stop_lookup.reset_index()[['route_id', 'stop_id']].\\\n",
    "    groupby('route_id')['stop_id'].apply(lambda stops: list(set(stops))).sort_index()\n",
    "\n",
    "# Select relevant columns and group by stop_id to get a list of route_ids\n",
    "stopwise_routes = route_stop_lookup.reset_index()[['stop_id', 'route_id']].\\\n",
    "    groupby('stop_id')['route_id'].apply(lambda route: list(set(route))).sort_index()"
   ]
  },
  {
   "cell_type": "code",
   "execution_count": 30,
   "id": "373ad5b5-a658-4f81-95a2-6154103ec124",
   "metadata": {},
   "outputs": [
    {
     "data": {
      "text/markdown": [
       "##### Route_id to list of Stop_id"
      ],
      "text/plain": [
       "<IPython.core.display.Markdown object>"
      ]
     },
     "metadata": {},
     "output_type": "display_data"
    },
    {
     "data": {
      "text/plain": [
       "route_id\n",
       "0    [1, 2, 3, 4, 5, 6, 7, 8, 9, 10, 11, 12, 13, 14...\n",
       "1    [1, 2, 3, 4, 5, 6, 7, 8, 9, 10, 11, 12, 13, 14...\n",
       "2    [8, 36, 37, 38, 39, 40, 41, 42, 43, 44, 45, 46...\n",
       "3    [8, 44, 45, 46, 47, 48, 49, 50, 51, 52, 53, 54...\n",
       "4             [64, 65, 66, 67, 68, 69, 70, 71, 62, 63]\n",
       "Name: stop_id, dtype: object"
      ]
     },
     "metadata": {},
     "output_type": "display_data"
    },
    {
     "data": {
      "text/markdown": [
       "##### Stop_id to list of Route_id"
      ],
      "text/plain": [
       "<IPython.core.display.Markdown object>"
      ]
     },
     "metadata": {},
     "output_type": "display_data"
    },
    {
     "data": {
      "text/plain": [
       "stop_id\n",
       "1            [0, 1, 18, 19]\n",
       "2            [0, 1, 18, 19]\n",
       "3            [0, 1, 18, 19]\n",
       "4            [0, 1, 18, 19]\n",
       "5    [0, 1, 11, 18, 19, 29]\n",
       "Name: route_id, dtype: object"
      ]
     },
     "metadata": {},
     "output_type": "display_data"
    }
   ],
   "source": [
    "display(Markdown(\"##### Route_id to list of Stop_id\"), routewise_stops.head())\n",
    "display(Markdown(\"##### Stop_id to list of Route_id\"), stopwise_routes.head())"
   ]
  },
  {
   "cell_type": "code",
   "execution_count": 31,
   "id": "e6e72117-8d6e-4adf-bb2e-28cbedd30789",
   "metadata": {},
   "outputs": [],
   "source": [
    "stop_sequence_lookup = routes_stops[['trip_id', 'stop_id', 'stop_sequence', 'route_id', 'shape_id']].drop_duplicates()"
   ]
  },
  {
   "cell_type": "code",
   "execution_count": 32,
   "id": "613c919f-e2da-44e1-86bc-ffe712bd1886",
   "metadata": {},
   "outputs": [
    {
     "data": {
      "text/markdown": [
       "##### Stop Sequence lookup towards trip_id, route_id, shape_id and stop_id"
      ],
      "text/plain": [
       "<IPython.core.display.Markdown object>"
      ]
     },
     "metadata": {},
     "output_type": "display_data"
    },
    {
     "data": {
      "text/html": [
       "<div>\n",
       "<style scoped>\n",
       "    .dataframe tbody tr th:only-of-type {\n",
       "        vertical-align: middle;\n",
       "    }\n",
       "\n",
       "    .dataframe tbody tr th {\n",
       "        vertical-align: top;\n",
       "    }\n",
       "\n",
       "    .dataframe thead th {\n",
       "        text-align: right;\n",
       "    }\n",
       "</style>\n",
       "<table border=\"1\" class=\"dataframe\">\n",
       "  <thead>\n",
       "    <tr style=\"text-align: right;\">\n",
       "      <th></th>\n",
       "      <th>trip_id</th>\n",
       "      <th>stop_id</th>\n",
       "      <th>stop_sequence</th>\n",
       "      <th>route_id</th>\n",
       "      <th>shape_id</th>\n",
       "    </tr>\n",
       "  </thead>\n",
       "  <tbody>\n",
       "    <tr>\n",
       "      <th>0</th>\n",
       "      <td>0</td>\n",
       "      <td>21</td>\n",
       "      <td>0</td>\n",
       "      <td>0</td>\n",
       "      <td>shp_1_30</td>\n",
       "    </tr>\n",
       "    <tr>\n",
       "      <th>1</th>\n",
       "      <td>0</td>\n",
       "      <td>20</td>\n",
       "      <td>1</td>\n",
       "      <td>0</td>\n",
       "      <td>shp_1_30</td>\n",
       "    </tr>\n",
       "    <tr>\n",
       "      <th>2</th>\n",
       "      <td>0</td>\n",
       "      <td>19</td>\n",
       "      <td>2</td>\n",
       "      <td>0</td>\n",
       "      <td>shp_1_30</td>\n",
       "    </tr>\n",
       "    <tr>\n",
       "      <th>3</th>\n",
       "      <td>0</td>\n",
       "      <td>18</td>\n",
       "      <td>3</td>\n",
       "      <td>0</td>\n",
       "      <td>shp_1_30</td>\n",
       "    </tr>\n",
       "    <tr>\n",
       "      <th>4</th>\n",
       "      <td>0</td>\n",
       "      <td>17</td>\n",
       "      <td>4</td>\n",
       "      <td>0</td>\n",
       "      <td>shp_1_30</td>\n",
       "    </tr>\n",
       "  </tbody>\n",
       "</table>\n",
       "</div>"
      ],
      "text/plain": [
       "   trip_id  stop_id  stop_sequence  route_id  shape_id\n",
       "0        0       21              0         0  shp_1_30\n",
       "1        0       20              1         0  shp_1_30\n",
       "2        0       19              2         0  shp_1_30\n",
       "3        0       18              3         0  shp_1_30\n",
       "4        0       17              4         0  shp_1_30"
      ]
     },
     "metadata": {},
     "output_type": "display_data"
    }
   ],
   "source": [
    "display(Markdown(\"##### Stop Sequence lookup towards trip_id, route_id, shape_id and stop_id\"), stop_sequence_lookup.head())"
   ]
  },
  {
   "cell_type": "markdown",
   "id": "60248d39-2a71-4ca4-8262-6ce76a03fe11",
   "metadata": {},
   "source": [
    "#### 2.7 Feature Engineering"
   ]
  },
  {
   "cell_type": "markdown",
   "id": "0130750e-7f5a-43a4-8c43-44c21507b77a",
   "metadata": {},
   "source": [
    "##### 2.7.1 Stations Feature Engineering"
   ]
  },
  {
   "cell_type": "code",
   "execution_count": 33,
   "id": "63014335-de70-4bf9-8b75-df4fa3e07f13",
   "metadata": {},
   "outputs": [],
   "source": [
    "# stops -> stations.csv\n",
    "# stop_id | stop_name | stop_lat | stop_lon\n",
    "# station_id | station_name | metro_line | routes [] | latitude | longitude | station_type [Terminal, Normal, Interchange]\n",
    "\n",
    "# Start with the route_stop_lookup to get all the routes a stop is on (this will help us to gather information about the different metro lines)\n",
    "stations_df = route_stop_lookup.copy().reset_index()\n",
    "\n",
    "# To get the stops data\n",
    "stations_df = stations_df.merge(stops, on=\"stop_id\")\n",
    "\n",
    "# To get the routes data especially the route_long_name\n",
    "stations_df = stations_df.merge(routes, on=\"route_id\")\n",
    "\n",
    "# Get the color coded metro_line extracted from the route_long_name\n",
    "stations_df['metro_line'] = stations_df['route_long_name'].apply(lambda x: x.split('_')[0].capitalize() + ' Line')\n",
    "\n",
    "# Drop columns that are no more required\n",
    "stations_df.drop(['route_id', 'route_long_name'], axis=1, inplace=True)\n",
    "\n",
    "# Drop duplicated rows (This will ensure that only those stations occur more than once that are on more than one color coded line\n",
    "stations_df.drop_duplicates(inplace=True)\n",
    "\n",
    "# Add a routes[] column by merging the data with a stopwise_routes\n",
    "stopwise_routes_df = stopwise_routes.reset_index()\n",
    "stations_df['routes'] = stations_df['stop_id'].apply(lambda x: stopwise_routes.loc[x])\n",
    "\n",
    "# Adding station_type [Terminal, Normal, Interchage]\n",
    "# Default Normal | If station_id occurs more than once in dataframe - Interchange | If route starts or ends with the station_id & not an interchange - Terminal\n",
    "\n",
    "# Step 1: Mark all stations as 'Normal' by default\n",
    "stations_df['station_type'] = 'Normal'\n",
    "\n",
    "# Step 2: Count occurrences of each station_id\n",
    "station_counts = stations_df['stop_id'].value_counts()\n",
    "\n",
    "# Any station with more than one occurrence is an interchange\n",
    "interchange_stations = station_counts[station_counts > 1].index\n",
    "\n",
    "# Update the 'station_type' for interchange stations\n",
    "stations_df.loc[stations_df['stop_id'].isin(interchange_stations), 'station_type'] = 'Interchange'\n",
    "\n",
    "# Step 3: Identify Terminal stations from the routes dataframe\n",
    "# Assuming routes_df has 'route_start' and 'route_end' columns referring to station_id\n",
    "terminal_stations = routes['route_long_name']\n",
    "terminal_stations['route_start'] = routes['route_long_name'].apply(lambda x: x.split('_')[1].split(' to ')[0])\n",
    "terminal_stations['route_end'] = routes['route_long_name'].apply(lambda x: x.split('_')[1].split(' to ')[1])\n",
    "terminal_stations = pd.concat([terminal_stations['route_start'], terminal_stations['route_end']]).unique()\n",
    "\n",
    "# Step 4: Mark terminals, but avoid changing stations already marked as Interchange\n",
    "# Update only those that are still marked as 'Normal'\n",
    "stations_df.loc[(stations_df['stop_name'].isin(terminal_stations)) & (stations_df['station_type'] == 'Normal'), 'station_type'] = 'Terminal'\n",
    "\n",
    "# Step 5: Identify stations that are both Terminals and Interchanges\n",
    "# These should be marked as 'Terminal/Interchange'\n",
    "stations_df.loc[(stations_df['stop_name'].isin(terminal_stations)) & (stations_df['stop_id'].isin(interchange_stations)), 'station_type'] = 'Terminal/Interchange'\n",
    "\n",
    "\n",
    "# Rename and Rearrange Columns to match desired structure\n",
    "stations_df.rename(columns={'stop_id': 'station_id', 'stop_name': 'station_name', 'stop_lat': 'latitude', 'stop_lon': 'longitude'}, inplace=True)\n",
    "stations_df = stations_df[['station_id', 'station_name', 'metro_line', 'routes', 'latitude', 'longitude', 'station_type']]"
   ]
  },
  {
   "cell_type": "code",
   "execution_count": 34,
   "id": "4b37c012-4402-4891-a573-3d6a1e521b00",
   "metadata": {},
   "outputs": [
    {
     "data": {
      "text/html": [
       "<div>\n",
       "<style scoped>\n",
       "    .dataframe tbody tr th:only-of-type {\n",
       "        vertical-align: middle;\n",
       "    }\n",
       "\n",
       "    .dataframe tbody tr th {\n",
       "        vertical-align: top;\n",
       "    }\n",
       "\n",
       "    .dataframe thead th {\n",
       "        text-align: right;\n",
       "    }\n",
       "</style>\n",
       "<table border=\"1\" class=\"dataframe\">\n",
       "  <thead>\n",
       "    <tr style=\"text-align: right;\">\n",
       "      <th></th>\n",
       "      <th>station_id</th>\n",
       "      <th>station_name</th>\n",
       "      <th>metro_line</th>\n",
       "      <th>routes</th>\n",
       "      <th>latitude</th>\n",
       "      <th>longitude</th>\n",
       "      <th>station_type</th>\n",
       "    </tr>\n",
       "  </thead>\n",
       "  <tbody>\n",
       "    <tr>\n",
       "      <th>0</th>\n",
       "      <td>21</td>\n",
       "      <td>Rithala</td>\n",
       "      <td>Red Line</td>\n",
       "      <td>[0, 1, 18, 19]</td>\n",
       "      <td>28.720821</td>\n",
       "      <td>77.105042</td>\n",
       "      <td>Terminal</td>\n",
       "    </tr>\n",
       "    <tr>\n",
       "      <th>1</th>\n",
       "      <td>20</td>\n",
       "      <td>Rohini West</td>\n",
       "      <td>Red Line</td>\n",
       "      <td>[0, 1, 18, 19]</td>\n",
       "      <td>28.715008</td>\n",
       "      <td>77.115746</td>\n",
       "      <td>Normal</td>\n",
       "    </tr>\n",
       "    <tr>\n",
       "      <th>2</th>\n",
       "      <td>19</td>\n",
       "      <td>Rohini East</td>\n",
       "      <td>Red Line</td>\n",
       "      <td>[0, 1, 18, 19]</td>\n",
       "      <td>28.707941</td>\n",
       "      <td>77.125732</td>\n",
       "      <td>Normal</td>\n",
       "    </tr>\n",
       "    <tr>\n",
       "      <th>3</th>\n",
       "      <td>18</td>\n",
       "      <td>Pitampura</td>\n",
       "      <td>Red Line</td>\n",
       "      <td>[0, 1, 18, 19]</td>\n",
       "      <td>28.703180</td>\n",
       "      <td>77.132355</td>\n",
       "      <td>Normal</td>\n",
       "    </tr>\n",
       "    <tr>\n",
       "      <th>4</th>\n",
       "      <td>17</td>\n",
       "      <td>Kohat Enclave</td>\n",
       "      <td>Red Line</td>\n",
       "      <td>[0, 1, 18, 19]</td>\n",
       "      <td>28.697943</td>\n",
       "      <td>77.140465</td>\n",
       "      <td>Normal</td>\n",
       "    </tr>\n",
       "  </tbody>\n",
       "</table>\n",
       "</div>"
      ],
      "text/plain": [
       "   station_id   station_name metro_line          routes   latitude  longitude  \\\n",
       "0          21        Rithala   Red Line  [0, 1, 18, 19]  28.720821  77.105042   \n",
       "1          20    Rohini West   Red Line  [0, 1, 18, 19]  28.715008  77.115746   \n",
       "2          19    Rohini East   Red Line  [0, 1, 18, 19]  28.707941  77.125732   \n",
       "3          18      Pitampura   Red Line  [0, 1, 18, 19]  28.703180  77.132355   \n",
       "4          17  Kohat Enclave   Red Line  [0, 1, 18, 19]  28.697943  77.140465   \n",
       "\n",
       "  station_type  \n",
       "0     Terminal  \n",
       "1       Normal  \n",
       "2       Normal  \n",
       "3       Normal  \n",
       "4       Normal  "
      ]
     },
     "metadata": {},
     "output_type": "display_data"
    },
    {
     "name": "stdout",
     "output_type": "stream",
     "text": [
      "Shape:  286\n"
     ]
    }
   ],
   "source": [
    "display(stations_df.head())\n",
    "print('Shape: ', stations_df.shape[0])"
   ]
  },
  {
   "cell_type": "markdown",
   "id": "008ccefe-1e25-4de8-8443-5e31351f9cb0",
   "metadata": {},
   "source": [
    "##### 2.7.2 Routes Feature Engineering"
   ]
  },
  {
   "cell_type": "code",
   "execution_count": 35,
   "id": "10bc566d-3145-4eb9-99ef-dc2e200345e4",
   "metadata": {},
   "outputs": [],
   "source": [
    "# routes -> routes.csv\n",
    "# route_id | route_long_name\n",
    "# route_id | metro_line | route_name | route_start | route_end | route_type [Complete, Partial] | stations (stops) | terminalAt | interachangeAt | shape_id\n",
    "\n",
    "# to be implemented - terminalAt, interchangeAt\n",
    "routes_df = pd.DataFrame()\n",
    "\n",
    "routes_df['route_id'] = routes['route_id']\n",
    "\n",
    "# Get the color coded metro_line extracted from the route_long_name\n",
    "routes_df['metro_line'] = routes['route_long_name'].apply(lambda x: x.split('_')[0].capitalize() + ' Line')\n",
    "\n",
    "# Feature route_long_name to extract route_name, route_start and route_end\n",
    "routes_df['route_name'] = routes['route_long_name'].apply(lambda x: x.split('_')[1])\n",
    "routes_df['route_start'] = routes['route_long_name'].apply(lambda x: x.split('_')[1].split(' to ')[0])\n",
    "routes_df['route_end'] = routes['route_long_name'].apply(lambda x: x.split('_')[1].split(' to ')[1])\n",
    "\n",
    "# Create a new column route_type [Complete, Partial] in route_df\n",
    "complete_routes = [1, 2, 5, 6, 7, 10, 11, 12, 13, 14, 15, 19,20,23, 24, 25, 28, 29, 30, 31, 32, 33]\n",
    "routes_df['route_type'] = routes_df['route_id'].apply(lambda x: 'Complete' if x in complete_routes else 'Partial')\n",
    "\n",
    "# Using routewise_stops get list of stations on each route\n",
    "routes_df['stations'] = routes_df['route_id'].apply(lambda x: routewise_stops.iloc[x])\n",
    "\n",
    "# Create a dictionary for quick lookup of stop_id to stop_name\n",
    "stops_dict = dict(zip(stops['stop_id'], stops['stop_name']))\n",
    "\n",
    "# Create terminalAt column using route_start and route_end\n",
    "def get_terminal_info(route_start, route_end, stops_dict):\n",
    "    # Find the stop_id for route_start\n",
    "    start_id = [key for key, value in stops_dict.items() if value == route_start]\n",
    "    start_info = (start_id[0], route_start) if start_id else ('Unknown', 'Unknown')  # Get the stop_id or Unknown\n",
    "\n",
    "    # Find the stop_id for route_end\n",
    "    end_id = [key for key, value in stops_dict.items() if value == route_end]\n",
    "    end_info = (end_id[0], route_end) if end_id else ('Unknown', 'Unknown')  # Get the stop_id or Unknown\n",
    "\n",
    "    return [start_info, end_info]\n",
    "\n",
    "# Apply the function to create terminalAt\n",
    "#routes_df['terminalAt'] = routes_df.apply(\n",
    "#    lambda row: get_terminal_info(row['route_start'], row['route_end'], stops_dict), axis=1\n",
    "#)\n",
    "\n",
    "# Similarly, for interchangeAt column with both stop_id and stop_name\n",
    "routes_df['interchangeStations'] = routes_df['stations'].apply(\n",
    "    lambda x: [stops_dict.get(station, 'Unknown') for station in x if station in interchange_stations]\n",
    ")\n",
    "\n",
    "# Using route_shape_lookup to map shape_id to each route_id\n",
    "routes_df['shape_id'] = routes_df['route_id'].apply(lambda x: route_shape_lookup.iloc[x])\n",
    "\n",
    "# Sorting values by route_id and preparing for display\n",
    "routes_df = routes_df.sort_values('route_id').reset_index(drop=True)"
   ]
  },
  {
   "cell_type": "code",
   "execution_count": 36,
   "id": "7c9b8327-cea1-4c34-b03e-16432569bac6",
   "metadata": {},
   "outputs": [
    {
     "data": {
      "text/html": [
       "<div>\n",
       "<style scoped>\n",
       "    .dataframe tbody tr th:only-of-type {\n",
       "        vertical-align: middle;\n",
       "    }\n",
       "\n",
       "    .dataframe tbody tr th {\n",
       "        vertical-align: top;\n",
       "    }\n",
       "\n",
       "    .dataframe thead th {\n",
       "        text-align: right;\n",
       "    }\n",
       "</style>\n",
       "<table border=\"1\" class=\"dataframe\">\n",
       "  <thead>\n",
       "    <tr style=\"text-align: right;\">\n",
       "      <th></th>\n",
       "      <th>route_id</th>\n",
       "      <th>metro_line</th>\n",
       "      <th>route_name</th>\n",
       "      <th>route_start</th>\n",
       "      <th>route_end</th>\n",
       "      <th>route_type</th>\n",
       "      <th>stations</th>\n",
       "      <th>interchangeStations</th>\n",
       "      <th>shape_id</th>\n",
       "    </tr>\n",
       "  </thead>\n",
       "  <tbody>\n",
       "    <tr>\n",
       "      <th>0</th>\n",
       "      <td>0</td>\n",
       "      <td>Red Line</td>\n",
       "      <td>Rithala to Dilshad Garden</td>\n",
       "      <td>Rithala</td>\n",
       "      <td>Dilshad Garden</td>\n",
       "      <td>Partial</td>\n",
       "      <td>[1, 2, 3, 4, 5, 6, 7, 8, 9, 10, 11, 12, 13, 14...</td>\n",
       "      <td>[Welcome, Kashmere Gate, Inderlok, Netaji Suba...</td>\n",
       "      <td>shp_1_30</td>\n",
       "    </tr>\n",
       "    <tr>\n",
       "      <th>1</th>\n",
       "      <td>1</td>\n",
       "      <td>Red Line</td>\n",
       "      <td>Rithala to Shaheed Sthal (New Bus Adda)</td>\n",
       "      <td>Rithala</td>\n",
       "      <td>Shaheed Sthal (New Bus Adda)</td>\n",
       "      <td>Complete</td>\n",
       "      <td>[1, 2, 3, 4, 5, 6, 7, 8, 9, 10, 11, 12, 13, 14...</td>\n",
       "      <td>[Welcome, Kashmere Gate, Inderlok, Netaji Suba...</td>\n",
       "      <td>shp_1_32</td>\n",
       "    </tr>\n",
       "    <tr>\n",
       "      <th>2</th>\n",
       "      <td>2</td>\n",
       "      <td>Yellow Line</td>\n",
       "      <td>Huda City Centre to Samaypur Badli</td>\n",
       "      <td>Huda City Centre</td>\n",
       "      <td>Samaypur Badli</td>\n",
       "      <td>Complete</td>\n",
       "      <td>[8, 36, 37, 38, 39, 40, 41, 42, 43, 44, 45, 46...</td>\n",
       "      <td>[Kashmere Gate, Azadpur, New Delhi, Rajiv Chow...</td>\n",
       "      <td>shp_1_13</td>\n",
       "    </tr>\n",
       "    <tr>\n",
       "      <th>3</th>\n",
       "      <td>3</td>\n",
       "      <td>Yellow Line</td>\n",
       "      <td>Qutab Minar to Vishwavidyalaya</td>\n",
       "      <td>Qutab Minar</td>\n",
       "      <td>Vishwavidyalaya</td>\n",
       "      <td>Partial</td>\n",
       "      <td>[8, 44, 45, 46, 47, 48, 49, 50, 51, 52, 53, 54...</td>\n",
       "      <td>[Kashmere Gate, New Delhi, Rajiv Chowk, Centra...</td>\n",
       "      <td>shp_1_25</td>\n",
       "    </tr>\n",
       "    <tr>\n",
       "      <th>4</th>\n",
       "      <td>4</td>\n",
       "      <td>Yellow Line</td>\n",
       "      <td>Huda City Centre to Qutab Minar</td>\n",
       "      <td>Huda City Centre</td>\n",
       "      <td>Qutab Minar</td>\n",
       "      <td>Partial</td>\n",
       "      <td>[64, 65, 66, 67, 68, 69, 70, 71, 62, 63]</td>\n",
       "      <td>[Sikanderpur]</td>\n",
       "      <td>shp_1_9</td>\n",
       "    </tr>\n",
       "    <tr>\n",
       "      <th>5</th>\n",
       "      <td>5</td>\n",
       "      <td>Blue Line</td>\n",
       "      <td>Dwarka Sector - 21 to Noida Electronic City</td>\n",
       "      <td>Dwarka Sector - 21</td>\n",
       "      <td>Noida Electronic City</td>\n",
       "      <td>Complete</td>\n",
       "      <td>[233, 234, 235, 236, 237, 238, 50, 79, 80, 81,...</td>\n",
       "      <td>[Rajiv Chowk, Botanical Garden, Mayur Vihar-I,...</td>\n",
       "      <td>shp_1_14</td>\n",
       "    </tr>\n",
       "    <tr>\n",
       "      <th>6</th>\n",
       "      <td>6</td>\n",
       "      <td>Blue Line</td>\n",
       "      <td>Dwarka Sector - 21 to Vaishali</td>\n",
       "      <td>Dwarka Sector - 21</td>\n",
       "      <td>Vaishali</td>\n",
       "      <td>Complete</td>\n",
       "      <td>[50, 72, 73, 74, 75, 76, 77, 78, 89, 90, 91, 9...</td>\n",
       "      <td>[Rajiv Chowk, Anand Vihar, Karkarduma, Mandi H...</td>\n",
       "      <td>shp_1_12</td>\n",
       "    </tr>\n",
       "    <tr>\n",
       "      <th>7</th>\n",
       "      <td>7</td>\n",
       "      <td>Green Line</td>\n",
       "      <td>Kirti Nagar to Brigadier Hoshiyar Singh</td>\n",
       "      <td>Kirti Nagar</td>\n",
       "      <td>Brigadier Hoshiyar Singh</td>\n",
       "      <td>Complete</td>\n",
       "      <td>[22, 23, 24, 25, 26, 27, 28, 29, 30, 31, 32, 3...</td>\n",
       "      <td>[Kirti Nagar]</td>\n",
       "      <td>shp_1_17</td>\n",
       "    </tr>\n",
       "    <tr>\n",
       "      <th>8</th>\n",
       "      <td>8</td>\n",
       "      <td>Green Line</td>\n",
       "      <td>Inderlok to Brigadier Hoshiyar Singh</td>\n",
       "      <td>Inderlok</td>\n",
       "      <td>Brigadier Hoshiyar Singh</td>\n",
       "      <td>Partial</td>\n",
       "      <td>[13, 22, 23, 24, 25, 26, 27, 28, 29, 30, 31, 3...</td>\n",
       "      <td>[Inderlok]</td>\n",
       "      <td>shp_1_11</td>\n",
       "    </tr>\n",
       "    <tr>\n",
       "      <th>9</th>\n",
       "      <td>9</td>\n",
       "      <td>Violet Line</td>\n",
       "      <td>Kashmere Gate to Badarpur Border</td>\n",
       "      <td>Kashmere Gate</td>\n",
       "      <td>Badarpur Border</td>\n",
       "      <td>Partial</td>\n",
       "      <td>[128, 129, 130, 131, 132, 133, 134, 135, 8, 13...</td>\n",
       "      <td>[Kalkaji Mandir, Kashmere Gate, Central Secret...</td>\n",
       "      <td>shp_1_15</td>\n",
       "    </tr>\n",
       "    <tr>\n",
       "      <th>10</th>\n",
       "      <td>10</td>\n",
       "      <td>Violet Line</td>\n",
       "      <td>Kashmere Gate to Raja Nahar Singh</td>\n",
       "      <td>Kashmere Gate</td>\n",
       "      <td>Raja Nahar Singh</td>\n",
       "      <td>Complete</td>\n",
       "      <td>[128, 129, 130, 131, 132, 133, 134, 135, 8, 13...</td>\n",
       "      <td>[Kalkaji Mandir, Kashmere Gate, Central Secret...</td>\n",
       "      <td>shp_1_19</td>\n",
       "    </tr>\n",
       "    <tr>\n",
       "      <th>11</th>\n",
       "      <td>11</td>\n",
       "      <td>Pink Line</td>\n",
       "      <td>Majlis Park to Shiv Vihar</td>\n",
       "      <td>Majlis Park</td>\n",
       "      <td>Shiv Vihar</td>\n",
       "      <td>Complete</td>\n",
       "      <td>[5, 16, 41, 173, 174, 175, 176, 177, 178, 179,...</td>\n",
       "      <td>[Welcome, Netaji Subash Place, Azadpur, Dilli ...</td>\n",
       "      <td>shp_1_26</td>\n",
       "    </tr>\n",
       "    <tr>\n",
       "      <th>12</th>\n",
       "      <td>12</td>\n",
       "      <td>Magenta Line</td>\n",
       "      <td>Janak Puri West to Botanical Garden</td>\n",
       "      <td>Janak Puri West</td>\n",
       "      <td>Botanical Garden</td>\n",
       "      <td>Complete</td>\n",
       "      <td>[131, 161, 162, 163, 164, 165, 166, 167, 182, ...</td>\n",
       "      <td>[Kalkaji Mandir, Hauz Khas, Botanical Garden, ...</td>\n",
       "      <td>shp_1_16</td>\n",
       "    </tr>\n",
       "    <tr>\n",
       "      <th>13</th>\n",
       "      <td>13</td>\n",
       "      <td>Gray Line</td>\n",
       "      <td>Dwarka to Dhansa Bus Stand</td>\n",
       "      <td>Dwarka</td>\n",
       "      <td>Dhansa Bus Stand</td>\n",
       "      <td>Complete</td>\n",
       "      <td>[240, 113, 241, 239]</td>\n",
       "      <td>[Dwarka]</td>\n",
       "      <td>shp_1_2</td>\n",
       "    </tr>\n",
       "    <tr>\n",
       "      <th>14</th>\n",
       "      <td>14</td>\n",
       "      <td>Orange/airport Line</td>\n",
       "      <td>Dwarka Sector - 21 to New Delhi</td>\n",
       "      <td>Dwarka Sector - 21</td>\n",
       "      <td>New Delhi</td>\n",
       "      <td>Complete</td>\n",
       "      <td>[49, 121, 154, 155, 156, 157]</td>\n",
       "      <td>[New Delhi, Dwarka Sector - 21]</td>\n",
       "      <td>shp_1_7</td>\n",
       "    </tr>\n",
       "    <tr>\n",
       "      <th>15</th>\n",
       "      <td>15</td>\n",
       "      <td>Rapid Line</td>\n",
       "      <td>Sector 55-56 (Rapid Metro) to Phase 3 (Rapid M...</td>\n",
       "      <td>Sector 55-56 (Rapid Metro)</td>\n",
       "      <td>Phase 3 (Rapid Metro)</td>\n",
       "      <td>Complete</td>\n",
       "      <td>[68, 168, 169, 170, 171, 172, 148, 149, 150, 1...</td>\n",
       "      <td>[Sikanderpur]</td>\n",
       "      <td>shp_1_29</td>\n",
       "    </tr>\n",
       "    <tr>\n",
       "      <th>16</th>\n",
       "      <td>16</td>\n",
       "      <td>Aqua Line</td>\n",
       "      <td>Noida Sector 51 to Noida Sector 142</td>\n",
       "      <td>Noida Sector 51</td>\n",
       "      <td>Noida Sector 142</td>\n",
       "      <td>Partial</td>\n",
       "      <td>[500, 501, 502, 503, 504, 505, 506, 507, 508]</td>\n",
       "      <td>[]</td>\n",
       "      <td>shp_1_23</td>\n",
       "    </tr>\n",
       "    <tr>\n",
       "      <th>17</th>\n",
       "      <td>17</td>\n",
       "      <td>Aqua Line</td>\n",
       "      <td>Noida Sector 142 to Depot Station</td>\n",
       "      <td>Noida Sector 142</td>\n",
       "      <td>Depot Station</td>\n",
       "      <td>Partial</td>\n",
       "      <td>[512, 513, 514, 515, 516, 517, 518, 519, 520, ...</td>\n",
       "      <td>[]</td>\n",
       "      <td>shp_1_21</td>\n",
       "    </tr>\n",
       "    <tr>\n",
       "      <th>18</th>\n",
       "      <td>18</td>\n",
       "      <td>Red Line</td>\n",
       "      <td>Dilshad Garden  to Rithala</td>\n",
       "      <td>Dilshad Garden</td>\n",
       "      <td>Rithala</td>\n",
       "      <td>Partial</td>\n",
       "      <td>[1, 2, 3, 4, 5, 6, 7, 8, 9, 10, 11, 12, 13, 14...</td>\n",
       "      <td>[Welcome, Kashmere Gate, Inderlok, Netaji Suba...</td>\n",
       "      <td>shp_1_6</td>\n",
       "    </tr>\n",
       "    <tr>\n",
       "      <th>19</th>\n",
       "      <td>19</td>\n",
       "      <td>Red Line</td>\n",
       "      <td>Shaheed Sthal (New Bus Adda) to Rithala</td>\n",
       "      <td>Shaheed Sthal (New Bus Adda)</td>\n",
       "      <td>Rithala</td>\n",
       "      <td>Complete</td>\n",
       "      <td>[1, 2, 3, 4, 5, 6, 7, 8, 9, 10, 11, 12, 13, 14...</td>\n",
       "      <td>[Welcome, Kashmere Gate, Inderlok, Netaji Suba...</td>\n",
       "      <td>shp_1_33</td>\n",
       "    </tr>\n",
       "    <tr>\n",
       "      <th>20</th>\n",
       "      <td>20</td>\n",
       "      <td>Yellow Line</td>\n",
       "      <td>Samaypur Badli to Huda City Centre</td>\n",
       "      <td>Samaypur Badli</td>\n",
       "      <td>Huda City Centre</td>\n",
       "      <td>Complete</td>\n",
       "      <td>[8, 36, 37, 38, 39, 40, 41, 42, 43, 44, 45, 46...</td>\n",
       "      <td>[Kashmere Gate, Azadpur, New Delhi, Rajiv Chow...</td>\n",
       "      <td>shp_1_31</td>\n",
       "    </tr>\n",
       "    <tr>\n",
       "      <th>21</th>\n",
       "      <td>21</td>\n",
       "      <td>Yellow Line</td>\n",
       "      <td>Vishwavidyalaya to Qutab Minar</td>\n",
       "      <td>Vishwavidyalaya</td>\n",
       "      <td>Qutab Minar</td>\n",
       "      <td>Partial</td>\n",
       "      <td>[8, 44, 45, 46, 47, 48, 49, 50, 51, 52, 53, 54...</td>\n",
       "      <td>[Kashmere Gate, New Delhi, Rajiv Chowk, Centra...</td>\n",
       "      <td>shp_1_34</td>\n",
       "    </tr>\n",
       "    <tr>\n",
       "      <th>22</th>\n",
       "      <td>22</td>\n",
       "      <td>Yellow Line</td>\n",
       "      <td>Qutab Minar  to Huda City Centre</td>\n",
       "      <td>Qutab Minar</td>\n",
       "      <td>Huda City Centre</td>\n",
       "      <td>Partial</td>\n",
       "      <td>[64, 65, 66, 67, 68, 69, 70, 71, 62, 63]</td>\n",
       "      <td>[Sikanderpur]</td>\n",
       "      <td>shp_1_22</td>\n",
       "    </tr>\n",
       "    <tr>\n",
       "      <th>23</th>\n",
       "      <td>23</td>\n",
       "      <td>Blue Line</td>\n",
       "      <td>Noida Electronic City to Dwarka Sector - 21</td>\n",
       "      <td>Noida Electronic City</td>\n",
       "      <td>Dwarka Sector - 21</td>\n",
       "      <td>Complete</td>\n",
       "      <td>[50, 119, 120, 79, 80, 81, 82, 83, 84, 85, 86,...</td>\n",
       "      <td>[Rajiv Chowk, Botanical Garden, Mayur Vihar-I,...</td>\n",
       "      <td>shp_1_28</td>\n",
       "    </tr>\n",
       "    <tr>\n",
       "      <th>24</th>\n",
       "      <td>24</td>\n",
       "      <td>Blue Line</td>\n",
       "      <td>Vaishali to Dwarka Sector - 21</td>\n",
       "      <td>Vaishali</td>\n",
       "      <td>Dwarka Sector - 21</td>\n",
       "      <td>Complete</td>\n",
       "      <td>[50, 72, 73, 74, 75, 76, 77, 78, 89, 90, 91, 9...</td>\n",
       "      <td>[Rajiv Chowk, Anand Vihar, Karkarduma, Mandi H...</td>\n",
       "      <td>shp_1_36</td>\n",
       "    </tr>\n",
       "    <tr>\n",
       "      <th>25</th>\n",
       "      <td>25</td>\n",
       "      <td>Green Line</td>\n",
       "      <td>Brigadier Hoshiyar Singh to Kirti Nagar</td>\n",
       "      <td>Brigadier Hoshiyar Singh</td>\n",
       "      <td>Kirti Nagar</td>\n",
       "      <td>Complete</td>\n",
       "      <td>[22, 23, 24, 25, 26, 27, 28, 29, 30, 31, 32, 3...</td>\n",
       "      <td>[Kirti Nagar]</td>\n",
       "      <td>shp_1_4</td>\n",
       "    </tr>\n",
       "    <tr>\n",
       "      <th>26</th>\n",
       "      <td>26</td>\n",
       "      <td>Green Line</td>\n",
       "      <td>Brigadier Hoshiyar Singh to Inderlok</td>\n",
       "      <td>Brigadier Hoshiyar Singh</td>\n",
       "      <td>Inderlok</td>\n",
       "      <td>Partial</td>\n",
       "      <td>[13, 22, 23, 24, 25, 26, 27, 28, 29, 30, 31, 3...</td>\n",
       "      <td>[Inderlok]</td>\n",
       "      <td>shp_1_3</td>\n",
       "    </tr>\n",
       "    <tr>\n",
       "      <th>27</th>\n",
       "      <td>27</td>\n",
       "      <td>Violet Line</td>\n",
       "      <td>Badarpur Border to Kashmere Gate</td>\n",
       "      <td>Badarpur Border</td>\n",
       "      <td>Kashmere Gate</td>\n",
       "      <td>Partial</td>\n",
       "      <td>[128, 129, 130, 131, 132, 133, 134, 135, 136, ...</td>\n",
       "      <td>[Kalkaji Mandir, Kashmere Gate, Central Secret...</td>\n",
       "      <td>shp_1_5</td>\n",
       "    </tr>\n",
       "    <tr>\n",
       "      <th>28</th>\n",
       "      <td>28</td>\n",
       "      <td>Violet Line</td>\n",
       "      <td>Raja Nahar Singh to Kashmere Gate</td>\n",
       "      <td>Raja Nahar Singh</td>\n",
       "      <td>Kashmere Gate</td>\n",
       "      <td>Complete</td>\n",
       "      <td>[128, 129, 130, 131, 132, 133, 134, 135, 136, ...</td>\n",
       "      <td>[Kalkaji Mandir, Kashmere Gate, Central Secret...</td>\n",
       "      <td>shp_1_27</td>\n",
       "    </tr>\n",
       "    <tr>\n",
       "      <th>29</th>\n",
       "      <td>29</td>\n",
       "      <td>Pink Line</td>\n",
       "      <td>Shiv Vihar to Majlis Park</td>\n",
       "      <td>Shiv Vihar</td>\n",
       "      <td>Majlis Park</td>\n",
       "      <td>Complete</td>\n",
       "      <td>[5, 16, 41, 173, 174, 175, 176, 177, 178, 179,...</td>\n",
       "      <td>[Welcome, Netaji Subash Place, Azadpur, Dilli ...</td>\n",
       "      <td>shp_1_35</td>\n",
       "    </tr>\n",
       "    <tr>\n",
       "      <th>30</th>\n",
       "      <td>30</td>\n",
       "      <td>Magenta Line</td>\n",
       "      <td>Botanical Garden to Janak Puri West</td>\n",
       "      <td>Botanical Garden</td>\n",
       "      <td>Janak Puri West</td>\n",
       "      <td>Complete</td>\n",
       "      <td>[131, 161, 162, 163, 164, 165, 166, 167, 182, ...</td>\n",
       "      <td>[Kalkaji Mandir, Hauz Khas, Botanical Garden, ...</td>\n",
       "      <td>shp_1_8</td>\n",
       "    </tr>\n",
       "    <tr>\n",
       "      <th>31</th>\n",
       "      <td>31</td>\n",
       "      <td>Gray Line</td>\n",
       "      <td>Dhansa Bus Stand to Dwarka</td>\n",
       "      <td>Dhansa Bus Stand</td>\n",
       "      <td>Dwarka</td>\n",
       "      <td>Complete</td>\n",
       "      <td>[240, 241, 113, 239]</td>\n",
       "      <td>[Dwarka]</td>\n",
       "      <td>shp_1_1</td>\n",
       "    </tr>\n",
       "    <tr>\n",
       "      <th>32</th>\n",
       "      <td>32</td>\n",
       "      <td>Orange/airport Line</td>\n",
       "      <td>New Delhi to Dwarka Sector - 21</td>\n",
       "      <td>New Delhi</td>\n",
       "      <td>Dwarka Sector - 21</td>\n",
       "      <td>Complete</td>\n",
       "      <td>[49, 121, 154, 155, 156, 157]</td>\n",
       "      <td>[New Delhi, Dwarka Sector - 21]</td>\n",
       "      <td>shp_1_18</td>\n",
       "    </tr>\n",
       "    <tr>\n",
       "      <th>33</th>\n",
       "      <td>33</td>\n",
       "      <td>Rapid Line</td>\n",
       "      <td>Phase 3 (Rapid Metro) to Sector 55-56 (Rapid M...</td>\n",
       "      <td>Phase 3 (Rapid Metro)</td>\n",
       "      <td>Sector 55-56 (Rapid Metro)</td>\n",
       "      <td>Complete</td>\n",
       "      <td>[68, 168, 169, 170, 171, 172, 148, 149, 150, 1...</td>\n",
       "      <td>[Sikanderpur]</td>\n",
       "      <td>shp_1_24</td>\n",
       "    </tr>\n",
       "    <tr>\n",
       "      <th>34</th>\n",
       "      <td>34</td>\n",
       "      <td>Aqua Line</td>\n",
       "      <td>Noida Sector 142 to Noida Sector 51</td>\n",
       "      <td>Noida Sector 142</td>\n",
       "      <td>Noida Sector 51</td>\n",
       "      <td>Partial</td>\n",
       "      <td>[500, 501, 502, 503, 504, 505, 506, 507, 508]</td>\n",
       "      <td>[]</td>\n",
       "      <td>shp_1_20</td>\n",
       "    </tr>\n",
       "    <tr>\n",
       "      <th>35</th>\n",
       "      <td>35</td>\n",
       "      <td>Aqua Line</td>\n",
       "      <td>Depot Station to Noida Sector 142</td>\n",
       "      <td>Depot Station</td>\n",
       "      <td>Noida Sector 142</td>\n",
       "      <td>Partial</td>\n",
       "      <td>[512, 513, 514, 515, 516, 517, 518, 519, 520, ...</td>\n",
       "      <td>[]</td>\n",
       "      <td>shp_1_10</td>\n",
       "    </tr>\n",
       "  </tbody>\n",
       "</table>\n",
       "</div>"
      ],
      "text/plain": [
       "    route_id           metro_line  \\\n",
       "0          0             Red Line   \n",
       "1          1             Red Line   \n",
       "2          2          Yellow Line   \n",
       "3          3          Yellow Line   \n",
       "4          4          Yellow Line   \n",
       "5          5            Blue Line   \n",
       "6          6            Blue Line   \n",
       "7          7           Green Line   \n",
       "8          8           Green Line   \n",
       "9          9          Violet Line   \n",
       "10        10          Violet Line   \n",
       "11        11            Pink Line   \n",
       "12        12         Magenta Line   \n",
       "13        13            Gray Line   \n",
       "14        14  Orange/airport Line   \n",
       "15        15           Rapid Line   \n",
       "16        16            Aqua Line   \n",
       "17        17            Aqua Line   \n",
       "18        18             Red Line   \n",
       "19        19             Red Line   \n",
       "20        20          Yellow Line   \n",
       "21        21          Yellow Line   \n",
       "22        22          Yellow Line   \n",
       "23        23            Blue Line   \n",
       "24        24            Blue Line   \n",
       "25        25           Green Line   \n",
       "26        26           Green Line   \n",
       "27        27          Violet Line   \n",
       "28        28          Violet Line   \n",
       "29        29            Pink Line   \n",
       "30        30         Magenta Line   \n",
       "31        31            Gray Line   \n",
       "32        32  Orange/airport Line   \n",
       "33        33           Rapid Line   \n",
       "34        34            Aqua Line   \n",
       "35        35            Aqua Line   \n",
       "\n",
       "                                           route_name  \\\n",
       "0                           Rithala to Dilshad Garden   \n",
       "1             Rithala to Shaheed Sthal (New Bus Adda)   \n",
       "2                  Huda City Centre to Samaypur Badli   \n",
       "3                      Qutab Minar to Vishwavidyalaya   \n",
       "4                     Huda City Centre to Qutab Minar   \n",
       "5         Dwarka Sector - 21 to Noida Electronic City   \n",
       "6                      Dwarka Sector - 21 to Vaishali   \n",
       "7             Kirti Nagar to Brigadier Hoshiyar Singh   \n",
       "8                Inderlok to Brigadier Hoshiyar Singh   \n",
       "9                    Kashmere Gate to Badarpur Border   \n",
       "10                  Kashmere Gate to Raja Nahar Singh   \n",
       "11                          Majlis Park to Shiv Vihar   \n",
       "12                Janak Puri West to Botanical Garden   \n",
       "13                         Dwarka to Dhansa Bus Stand   \n",
       "14                    Dwarka Sector - 21 to New Delhi   \n",
       "15  Sector 55-56 (Rapid Metro) to Phase 3 (Rapid M...   \n",
       "16                Noida Sector 51 to Noida Sector 142   \n",
       "17                  Noida Sector 142 to Depot Station   \n",
       "18                         Dilshad Garden  to Rithala   \n",
       "19            Shaheed Sthal (New Bus Adda) to Rithala   \n",
       "20                 Samaypur Badli to Huda City Centre   \n",
       "21                     Vishwavidyalaya to Qutab Minar   \n",
       "22                   Qutab Minar  to Huda City Centre   \n",
       "23        Noida Electronic City to Dwarka Sector - 21   \n",
       "24                     Vaishali to Dwarka Sector - 21   \n",
       "25            Brigadier Hoshiyar Singh to Kirti Nagar   \n",
       "26               Brigadier Hoshiyar Singh to Inderlok   \n",
       "27                   Badarpur Border to Kashmere Gate   \n",
       "28                  Raja Nahar Singh to Kashmere Gate   \n",
       "29                          Shiv Vihar to Majlis Park   \n",
       "30                Botanical Garden to Janak Puri West   \n",
       "31                         Dhansa Bus Stand to Dwarka   \n",
       "32                    New Delhi to Dwarka Sector - 21   \n",
       "33  Phase 3 (Rapid Metro) to Sector 55-56 (Rapid M...   \n",
       "34                Noida Sector 142 to Noida Sector 51   \n",
       "35                  Depot Station to Noida Sector 142   \n",
       "\n",
       "                     route_start                     route_end route_type  \\\n",
       "0                        Rithala                Dilshad Garden    Partial   \n",
       "1                        Rithala  Shaheed Sthal (New Bus Adda)   Complete   \n",
       "2               Huda City Centre                Samaypur Badli   Complete   \n",
       "3                    Qutab Minar               Vishwavidyalaya    Partial   \n",
       "4               Huda City Centre                   Qutab Minar    Partial   \n",
       "5             Dwarka Sector - 21         Noida Electronic City   Complete   \n",
       "6             Dwarka Sector - 21                      Vaishali   Complete   \n",
       "7                    Kirti Nagar      Brigadier Hoshiyar Singh   Complete   \n",
       "8                       Inderlok      Brigadier Hoshiyar Singh    Partial   \n",
       "9                  Kashmere Gate               Badarpur Border    Partial   \n",
       "10                 Kashmere Gate              Raja Nahar Singh   Complete   \n",
       "11                   Majlis Park                    Shiv Vihar   Complete   \n",
       "12               Janak Puri West              Botanical Garden   Complete   \n",
       "13                        Dwarka              Dhansa Bus Stand   Complete   \n",
       "14            Dwarka Sector - 21                     New Delhi   Complete   \n",
       "15    Sector 55-56 (Rapid Metro)         Phase 3 (Rapid Metro)   Complete   \n",
       "16               Noida Sector 51              Noida Sector 142    Partial   \n",
       "17              Noida Sector 142                 Depot Station    Partial   \n",
       "18               Dilshad Garden                        Rithala    Partial   \n",
       "19  Shaheed Sthal (New Bus Adda)                       Rithala   Complete   \n",
       "20                Samaypur Badli              Huda City Centre   Complete   \n",
       "21               Vishwavidyalaya                   Qutab Minar    Partial   \n",
       "22                  Qutab Minar               Huda City Centre    Partial   \n",
       "23         Noida Electronic City            Dwarka Sector - 21   Complete   \n",
       "24                      Vaishali            Dwarka Sector - 21   Complete   \n",
       "25      Brigadier Hoshiyar Singh                   Kirti Nagar   Complete   \n",
       "26      Brigadier Hoshiyar Singh                      Inderlok    Partial   \n",
       "27               Badarpur Border                 Kashmere Gate    Partial   \n",
       "28              Raja Nahar Singh                 Kashmere Gate   Complete   \n",
       "29                    Shiv Vihar                   Majlis Park   Complete   \n",
       "30              Botanical Garden               Janak Puri West   Complete   \n",
       "31              Dhansa Bus Stand                        Dwarka   Complete   \n",
       "32                     New Delhi            Dwarka Sector - 21   Complete   \n",
       "33         Phase 3 (Rapid Metro)    Sector 55-56 (Rapid Metro)   Complete   \n",
       "34              Noida Sector 142               Noida Sector 51    Partial   \n",
       "35                 Depot Station              Noida Sector 142    Partial   \n",
       "\n",
       "                                             stations  \\\n",
       "0   [1, 2, 3, 4, 5, 6, 7, 8, 9, 10, 11, 12, 13, 14...   \n",
       "1   [1, 2, 3, 4, 5, 6, 7, 8, 9, 10, 11, 12, 13, 14...   \n",
       "2   [8, 36, 37, 38, 39, 40, 41, 42, 43, 44, 45, 46...   \n",
       "3   [8, 44, 45, 46, 47, 48, 49, 50, 51, 52, 53, 54...   \n",
       "4            [64, 65, 66, 67, 68, 69, 70, 71, 62, 63]   \n",
       "5   [233, 234, 235, 236, 237, 238, 50, 79, 80, 81,...   \n",
       "6   [50, 72, 73, 74, 75, 76, 77, 78, 89, 90, 91, 9...   \n",
       "7   [22, 23, 24, 25, 26, 27, 28, 29, 30, 31, 32, 3...   \n",
       "8   [13, 22, 23, 24, 25, 26, 27, 28, 29, 30, 31, 3...   \n",
       "9   [128, 129, 130, 131, 132, 133, 134, 135, 8, 13...   \n",
       "10  [128, 129, 130, 131, 132, 133, 134, 135, 8, 13...   \n",
       "11  [5, 16, 41, 173, 174, 175, 176, 177, 178, 179,...   \n",
       "12  [131, 161, 162, 163, 164, 165, 166, 167, 182, ...   \n",
       "13                               [240, 113, 241, 239]   \n",
       "14                      [49, 121, 154, 155, 156, 157]   \n",
       "15  [68, 168, 169, 170, 171, 172, 148, 149, 150, 1...   \n",
       "16      [500, 501, 502, 503, 504, 505, 506, 507, 508]   \n",
       "17  [512, 513, 514, 515, 516, 517, 518, 519, 520, ...   \n",
       "18  [1, 2, 3, 4, 5, 6, 7, 8, 9, 10, 11, 12, 13, 14...   \n",
       "19  [1, 2, 3, 4, 5, 6, 7, 8, 9, 10, 11, 12, 13, 14...   \n",
       "20  [8, 36, 37, 38, 39, 40, 41, 42, 43, 44, 45, 46...   \n",
       "21  [8, 44, 45, 46, 47, 48, 49, 50, 51, 52, 53, 54...   \n",
       "22           [64, 65, 66, 67, 68, 69, 70, 71, 62, 63]   \n",
       "23  [50, 119, 120, 79, 80, 81, 82, 83, 84, 85, 86,...   \n",
       "24  [50, 72, 73, 74, 75, 76, 77, 78, 89, 90, 91, 9...   \n",
       "25  [22, 23, 24, 25, 26, 27, 28, 29, 30, 31, 32, 3...   \n",
       "26  [13, 22, 23, 24, 25, 26, 27, 28, 29, 30, 31, 3...   \n",
       "27  [128, 129, 130, 131, 132, 133, 134, 135, 136, ...   \n",
       "28  [128, 129, 130, 131, 132, 133, 134, 135, 136, ...   \n",
       "29  [5, 16, 41, 173, 174, 175, 176, 177, 178, 179,...   \n",
       "30  [131, 161, 162, 163, 164, 165, 166, 167, 182, ...   \n",
       "31                               [240, 241, 113, 239]   \n",
       "32                      [49, 121, 154, 155, 156, 157]   \n",
       "33  [68, 168, 169, 170, 171, 172, 148, 149, 150, 1...   \n",
       "34      [500, 501, 502, 503, 504, 505, 506, 507, 508]   \n",
       "35  [512, 513, 514, 515, 516, 517, 518, 519, 520, ...   \n",
       "\n",
       "                                  interchangeStations  shape_id  \n",
       "0   [Welcome, Kashmere Gate, Inderlok, Netaji Suba...  shp_1_30  \n",
       "1   [Welcome, Kashmere Gate, Inderlok, Netaji Suba...  shp_1_32  \n",
       "2   [Kashmere Gate, Azadpur, New Delhi, Rajiv Chow...  shp_1_13  \n",
       "3   [Kashmere Gate, New Delhi, Rajiv Chowk, Centra...  shp_1_25  \n",
       "4                                       [Sikanderpur]   shp_1_9  \n",
       "5   [Rajiv Chowk, Botanical Garden, Mayur Vihar-I,...  shp_1_14  \n",
       "6   [Rajiv Chowk, Anand Vihar, Karkarduma, Mandi H...  shp_1_12  \n",
       "7                                       [Kirti Nagar]  shp_1_17  \n",
       "8                                          [Inderlok]  shp_1_11  \n",
       "9   [Kalkaji Mandir, Kashmere Gate, Central Secret...  shp_1_15  \n",
       "10  [Kalkaji Mandir, Kashmere Gate, Central Secret...  shp_1_19  \n",
       "11  [Welcome, Netaji Subash Place, Azadpur, Dilli ...  shp_1_26  \n",
       "12  [Kalkaji Mandir, Hauz Khas, Botanical Garden, ...  shp_1_16  \n",
       "13                                           [Dwarka]   shp_1_2  \n",
       "14                    [New Delhi, Dwarka Sector - 21]   shp_1_7  \n",
       "15                                      [Sikanderpur]  shp_1_29  \n",
       "16                                                 []  shp_1_23  \n",
       "17                                                 []  shp_1_21  \n",
       "18  [Welcome, Kashmere Gate, Inderlok, Netaji Suba...   shp_1_6  \n",
       "19  [Welcome, Kashmere Gate, Inderlok, Netaji Suba...  shp_1_33  \n",
       "20  [Kashmere Gate, Azadpur, New Delhi, Rajiv Chow...  shp_1_31  \n",
       "21  [Kashmere Gate, New Delhi, Rajiv Chowk, Centra...  shp_1_34  \n",
       "22                                      [Sikanderpur]  shp_1_22  \n",
       "23  [Rajiv Chowk, Botanical Garden, Mayur Vihar-I,...  shp_1_28  \n",
       "24  [Rajiv Chowk, Anand Vihar, Karkarduma, Mandi H...  shp_1_36  \n",
       "25                                      [Kirti Nagar]   shp_1_4  \n",
       "26                                         [Inderlok]   shp_1_3  \n",
       "27  [Kalkaji Mandir, Kashmere Gate, Central Secret...   shp_1_5  \n",
       "28  [Kalkaji Mandir, Kashmere Gate, Central Secret...  shp_1_27  \n",
       "29  [Welcome, Netaji Subash Place, Azadpur, Dilli ...  shp_1_35  \n",
       "30  [Kalkaji Mandir, Hauz Khas, Botanical Garden, ...   shp_1_8  \n",
       "31                                           [Dwarka]   shp_1_1  \n",
       "32                    [New Delhi, Dwarka Sector - 21]  shp_1_18  \n",
       "33                                      [Sikanderpur]  shp_1_24  \n",
       "34                                                 []  shp_1_20  \n",
       "35                                                 []  shp_1_10  "
      ]
     },
     "metadata": {},
     "output_type": "display_data"
    },
    {
     "name": "stdout",
     "output_type": "stream",
     "text": [
      "Shape:  36\n",
      "<class 'pandas.core.frame.DataFrame'>\n",
      "RangeIndex: 36 entries, 0 to 35\n",
      "Data columns (total 9 columns):\n",
      " #   Column               Non-Null Count  Dtype \n",
      "---  ------               --------------  ----- \n",
      " 0   route_id             36 non-null     int64 \n",
      " 1   metro_line           36 non-null     object\n",
      " 2   route_name           36 non-null     object\n",
      " 3   route_start          36 non-null     object\n",
      " 4   route_end            36 non-null     object\n",
      " 5   route_type           36 non-null     object\n",
      " 6   stations             36 non-null     object\n",
      " 7   interchangeStations  36 non-null     object\n",
      " 8   shape_id             36 non-null     object\n",
      "dtypes: int64(1), object(8)\n",
      "memory usage: 2.7+ KB\n"
     ]
    }
   ],
   "source": [
    "display(routes_df)\n",
    "print('Shape: ', routes_df.shape[0])\n",
    "\n",
    "routes_df.info()"
   ]
  },
  {
   "cell_type": "markdown",
   "id": "28dac717-4d68-4b07-8292-10b9740b0003",
   "metadata": {},
   "source": [
    "##### 2.7.3 Stop_times Feature Engineering"
   ]
  },
  {
   "cell_type": "code",
   "execution_count": 37,
   "id": "a615ebbc-c08b-4101-b81b-3c86e60f2a80",
   "metadata": {},
   "outputs": [
    {
     "data": {
      "text/html": [
       "<div>\n",
       "<style scoped>\n",
       "    .dataframe tbody tr th:only-of-type {\n",
       "        vertical-align: middle;\n",
       "    }\n",
       "\n",
       "    .dataframe tbody tr th {\n",
       "        vertical-align: top;\n",
       "    }\n",
       "\n",
       "    .dataframe thead th {\n",
       "        text-align: right;\n",
       "    }\n",
       "</style>\n",
       "<table border=\"1\" class=\"dataframe\">\n",
       "  <thead>\n",
       "    <tr style=\"text-align: right;\">\n",
       "      <th></th>\n",
       "      <th>station_id</th>\n",
       "      <th>station_name</th>\n",
       "      <th>metro_line</th>\n",
       "      <th>routes</th>\n",
       "      <th>latitude</th>\n",
       "      <th>longitude</th>\n",
       "      <th>station_type</th>\n",
       "    </tr>\n",
       "  </thead>\n",
       "  <tbody>\n",
       "    <tr>\n",
       "      <th>0</th>\n",
       "      <td>21</td>\n",
       "      <td>Rithala</td>\n",
       "      <td>Red Line</td>\n",
       "      <td>[0, 1, 18, 19]</td>\n",
       "      <td>28.720821</td>\n",
       "      <td>77.105042</td>\n",
       "      <td>Terminal</td>\n",
       "    </tr>\n",
       "    <tr>\n",
       "      <th>1</th>\n",
       "      <td>20</td>\n",
       "      <td>Rohini West</td>\n",
       "      <td>Red Line</td>\n",
       "      <td>[0, 1, 18, 19]</td>\n",
       "      <td>28.715008</td>\n",
       "      <td>77.115746</td>\n",
       "      <td>Normal</td>\n",
       "    </tr>\n",
       "    <tr>\n",
       "      <th>2</th>\n",
       "      <td>19</td>\n",
       "      <td>Rohini East</td>\n",
       "      <td>Red Line</td>\n",
       "      <td>[0, 1, 18, 19]</td>\n",
       "      <td>28.707941</td>\n",
       "      <td>77.125732</td>\n",
       "      <td>Normal</td>\n",
       "    </tr>\n",
       "    <tr>\n",
       "      <th>3</th>\n",
       "      <td>18</td>\n",
       "      <td>Pitampura</td>\n",
       "      <td>Red Line</td>\n",
       "      <td>[0, 1, 18, 19]</td>\n",
       "      <td>28.703180</td>\n",
       "      <td>77.132355</td>\n",
       "      <td>Normal</td>\n",
       "    </tr>\n",
       "    <tr>\n",
       "      <th>4</th>\n",
       "      <td>17</td>\n",
       "      <td>Kohat Enclave</td>\n",
       "      <td>Red Line</td>\n",
       "      <td>[0, 1, 18, 19]</td>\n",
       "      <td>28.697943</td>\n",
       "      <td>77.140465</td>\n",
       "      <td>Normal</td>\n",
       "    </tr>\n",
       "  </tbody>\n",
       "</table>\n",
       "</div>"
      ],
      "text/plain": [
       "   station_id   station_name metro_line          routes   latitude  longitude  \\\n",
       "0          21        Rithala   Red Line  [0, 1, 18, 19]  28.720821  77.105042   \n",
       "1          20    Rohini West   Red Line  [0, 1, 18, 19]  28.715008  77.115746   \n",
       "2          19    Rohini East   Red Line  [0, 1, 18, 19]  28.707941  77.125732   \n",
       "3          18      Pitampura   Red Line  [0, 1, 18, 19]  28.703180  77.132355   \n",
       "4          17  Kohat Enclave   Red Line  [0, 1, 18, 19]  28.697943  77.140465   \n",
       "\n",
       "  station_type  \n",
       "0     Terminal  \n",
       "1       Normal  \n",
       "2       Normal  \n",
       "3       Normal  \n",
       "4       Normal  "
      ]
     },
     "metadata": {},
     "output_type": "display_data"
    },
    {
     "name": "stdout",
     "output_type": "stream",
     "text": [
      "Shape:  128434\n",
      "<class 'pandas.core.frame.DataFrame'>\n",
      "Index: 286 entries, 0 to 414\n",
      "Data columns (total 7 columns):\n",
      " #   Column        Non-Null Count  Dtype  \n",
      "---  ------        --------------  -----  \n",
      " 0   station_id    286 non-null    int64  \n",
      " 1   station_name  286 non-null    object \n",
      " 2   metro_line    286 non-null    object \n",
      " 3   routes        286 non-null    object \n",
      " 4   latitude      286 non-null    float64\n",
      " 5   longitude     286 non-null    float64\n",
      " 6   station_type  286 non-null    object \n",
      "dtypes: float64(2), int64(1), object(4)\n",
      "memory usage: 17.9+ KB\n"
     ]
    }
   ],
   "source": [
    "# stop_times\n",
    "# trip_id | arrival_time | departure_time | stop_id | stop_sequence | shape_dist_traveled\n",
    "# trip_id | station_id | station_sequence | arrival_time | departure_time | shape_dist_traveled\n",
    "\n",
    "stop_times_df = stops_stop_times.copy()\n",
    "\n",
    "# Renaming and restructuring stop_times dataframe\n",
    "stop_times_df.rename(columns={'stop_id': 'station_id', 'stop_name': 'station_name', 'stop_lat': 'latitude', 'stop_lon': 'longitude', 'stop_sequence': 'station_sequence'}, inplace=True)\n",
    "stop_times_df = stop_times_df[['trip_id', 'station_id', 'station_sequence', 'arrival_time', 'departure_time', 'shape_dist_traveled']]\n",
    "\n",
    "display(stations_df.head())\n",
    "print('Shape: ', stop_times_df.shape[0])\n",
    "\n",
    "stations_df.info()"
   ]
  },
  {
   "cell_type": "markdown",
   "id": "00675528-538e-48f6-9531-fcd1ecfeb62d",
   "metadata": {},
   "source": [
    "##### 2.7.4 Trips Feature Engineering"
   ]
  },
  {
   "cell_type": "code",
   "execution_count": 38,
   "id": "36f51b23-1d85-4eb4-b94b-f022fda1cf2d",
   "metadata": {},
   "outputs": [
    {
     "data": {
      "text/html": [
       "<div>\n",
       "<style scoped>\n",
       "    .dataframe tbody tr th:only-of-type {\n",
       "        vertical-align: middle;\n",
       "    }\n",
       "\n",
       "    .dataframe tbody tr th {\n",
       "        vertical-align: top;\n",
       "    }\n",
       "\n",
       "    .dataframe thead th {\n",
       "        text-align: right;\n",
       "    }\n",
       "</style>\n",
       "<table border=\"1\" class=\"dataframe\">\n",
       "  <thead>\n",
       "    <tr style=\"text-align: right;\">\n",
       "      <th></th>\n",
       "      <th>route_id</th>\n",
       "      <th>service_type</th>\n",
       "      <th>trip_id</th>\n",
       "      <th>shape_id</th>\n",
       "    </tr>\n",
       "  </thead>\n",
       "  <tbody>\n",
       "    <tr>\n",
       "      <th>0</th>\n",
       "      <td>0</td>\n",
       "      <td>1</td>\n",
       "      <td>0</td>\n",
       "      <td>shp_1_30</td>\n",
       "    </tr>\n",
       "    <tr>\n",
       "      <th>1</th>\n",
       "      <td>0</td>\n",
       "      <td>1</td>\n",
       "      <td>1</td>\n",
       "      <td>shp_1_30</td>\n",
       "    </tr>\n",
       "    <tr>\n",
       "      <th>2</th>\n",
       "      <td>0</td>\n",
       "      <td>1</td>\n",
       "      <td>10</td>\n",
       "      <td>shp_1_30</td>\n",
       "    </tr>\n",
       "    <tr>\n",
       "      <th>3</th>\n",
       "      <td>0</td>\n",
       "      <td>1</td>\n",
       "      <td>100</td>\n",
       "      <td>shp_1_30</td>\n",
       "    </tr>\n",
       "    <tr>\n",
       "      <th>4</th>\n",
       "      <td>2</td>\n",
       "      <td>1</td>\n",
       "      <td>1000</td>\n",
       "      <td>shp_1_13</td>\n",
       "    </tr>\n",
       "  </tbody>\n",
       "</table>\n",
       "</div>"
      ],
      "text/plain": [
       "   route_id  service_type  trip_id  shape_id\n",
       "0         0             1        0  shp_1_30\n",
       "1         0             1        1  shp_1_30\n",
       "2         0             1       10  shp_1_30\n",
       "3         0             1      100  shp_1_30\n",
       "4         2             1     1000  shp_1_13"
      ]
     },
     "metadata": {},
     "output_type": "display_data"
    },
    {
     "name": "stdout",
     "output_type": "stream",
     "text": [
      "Shape:  5438\n",
      "<class 'pandas.core.frame.DataFrame'>\n",
      "RangeIndex: 5438 entries, 0 to 5437\n",
      "Data columns (total 4 columns):\n",
      " #   Column        Non-Null Count  Dtype \n",
      "---  ------        --------------  ----- \n",
      " 0   route_id      5438 non-null   int64 \n",
      " 1   service_type  5438 non-null   int64 \n",
      " 2   trip_id       5438 non-null   int64 \n",
      " 3   shape_id      5438 non-null   object\n",
      "dtypes: int64(3), object(1)\n",
      "memory usage: 170.1+ KB\n"
     ]
    }
   ],
   "source": [
    "# trips\n",
    "# route_id | service_id | trip_id | shape_id\n",
    "# route_id | service_type |  trip_id | shape_id\n",
    "\n",
    "trips_df = trips.copy()\n",
    "trips_df['service_type'] = trips_df['service_id'].apply(lambda x: 1 if x == 'weekday' else 0)\n",
    "\n",
    "trips_df = trips_df[['route_id', 'service_type', 'trip_id', 'shape_id']]\n",
    "\n",
    "display(trips_df.head())\n",
    "print('Shape: ', trips_df.shape[0])\n",
    "\n",
    "trips_df.info()"
   ]
  },
  {
   "cell_type": "markdown",
   "id": "7c31f2d1-1a97-4b51-889c-21de2f5ed7a9",
   "metadata": {},
   "source": [
    "##### 2.7.5 Shapes Feature Engineering"
   ]
  },
  {
   "cell_type": "code",
   "execution_count": 39,
   "id": "ccf3fab3-1f69-4bee-a6de-299447bb0627",
   "metadata": {},
   "outputs": [
    {
     "data": {
      "text/html": [
       "<div>\n",
       "<style scoped>\n",
       "    .dataframe tbody tr th:only-of-type {\n",
       "        vertical-align: middle;\n",
       "    }\n",
       "\n",
       "    .dataframe tbody tr th {\n",
       "        vertical-align: top;\n",
       "    }\n",
       "\n",
       "    .dataframe thead th {\n",
       "        text-align: right;\n",
       "    }\n",
       "</style>\n",
       "<table border=\"1\" class=\"dataframe\">\n",
       "  <thead>\n",
       "    <tr style=\"text-align: right;\">\n",
       "      <th></th>\n",
       "      <th>shape_id</th>\n",
       "      <th>route_id</th>\n",
       "      <th>metro_line</th>\n",
       "      <th>shape_pt_sequence</th>\n",
       "      <th>shape_pt_lat</th>\n",
       "      <th>shape_pt_lon</th>\n",
       "      <th>shape_dist_traveled</th>\n",
       "    </tr>\n",
       "  </thead>\n",
       "  <tbody>\n",
       "    <tr>\n",
       "      <th>0</th>\n",
       "      <td>shp_1_2</td>\n",
       "      <td>13</td>\n",
       "      <td>Gray Line</td>\n",
       "      <td>1</td>\n",
       "      <td>28.615887</td>\n",
       "      <td>77.022461</td>\n",
       "      <td>0.000</td>\n",
       "    </tr>\n",
       "    <tr>\n",
       "      <th>1</th>\n",
       "      <td>shp_1_2</td>\n",
       "      <td>13</td>\n",
       "      <td>Gray Line</td>\n",
       "      <td>2</td>\n",
       "      <td>28.616341</td>\n",
       "      <td>77.022499</td>\n",
       "      <td>50.510</td>\n",
       "    </tr>\n",
       "    <tr>\n",
       "      <th>2</th>\n",
       "      <td>shp_1_2</td>\n",
       "      <td>13</td>\n",
       "      <td>Gray Line</td>\n",
       "      <td>3</td>\n",
       "      <td>28.617985</td>\n",
       "      <td>77.022453</td>\n",
       "      <td>233.586</td>\n",
       "    </tr>\n",
       "    <tr>\n",
       "      <th>3</th>\n",
       "      <td>shp_1_2</td>\n",
       "      <td>13</td>\n",
       "      <td>Gray Line</td>\n",
       "      <td>4</td>\n",
       "      <td>28.618252</td>\n",
       "      <td>77.022453</td>\n",
       "      <td>263.487</td>\n",
       "    </tr>\n",
       "    <tr>\n",
       "      <th>4</th>\n",
       "      <td>shp_1_2</td>\n",
       "      <td>13</td>\n",
       "      <td>Gray Line</td>\n",
       "      <td>5</td>\n",
       "      <td>28.618425</td>\n",
       "      <td>77.022438</td>\n",
       "      <td>282.857</td>\n",
       "    </tr>\n",
       "  </tbody>\n",
       "</table>\n",
       "</div>"
      ],
      "text/plain": [
       "  shape_id  route_id metro_line  shape_pt_sequence  shape_pt_lat  \\\n",
       "0  shp_1_2        13  Gray Line                  1     28.615887   \n",
       "1  shp_1_2        13  Gray Line                  2     28.616341   \n",
       "2  shp_1_2        13  Gray Line                  3     28.617985   \n",
       "3  shp_1_2        13  Gray Line                  4     28.618252   \n",
       "4  shp_1_2        13  Gray Line                  5     28.618425   \n",
       "\n",
       "   shape_pt_lon  shape_dist_traveled  \n",
       "0     77.022461                0.000  \n",
       "1     77.022499               50.510  \n",
       "2     77.022453              233.586  \n",
       "3     77.022453              263.487  \n",
       "4     77.022438              282.857  "
      ]
     },
     "metadata": {},
     "output_type": "display_data"
    },
    {
     "name": "stdout",
     "output_type": "stream",
     "text": [
      "Shape:  6643\n"
     ]
    }
   ],
   "source": [
    "# shapes\n",
    "# shape_id | route_id | metro_line |  shape_pt_sequence | shape_pt_lat | shape_pt_lon | shape_dist_traveled\n",
    "\n",
    "shapes_df = routes_shapes.copy()\n",
    "\n",
    "# Get the color coded metro_line extracted from the route_long_name\n",
    "shapes_df['metro_line'] = shapes_df['route_long_name'].apply(lambda x: x.split('_')[0].capitalize() + ' Line')\n",
    "\n",
    "# Drop Duplicates\n",
    "shapes_df.drop_duplicates(inplace=True)\n",
    "\n",
    "# Drop route_long_name \n",
    "shapes_df.drop('route_long_name', axis=1, inplace=True)\n",
    "\n",
    "\n",
    "shapes_df = shapes_df[['shape_id', 'route_id', 'metro_line', 'shape_pt_sequence', 'shape_pt_lat', 'shape_pt_lon', 'shape_dist_traveled']]\n",
    "\n",
    "display(shapes_df.head())\n",
    "print('Shape: ', shapes_df.shape[0])"
   ]
  },
  {
   "cell_type": "markdown",
   "id": "acbd72c8-d804-4136-a69d-e105ad915f36",
   "metadata": {},
   "source": [
    "#### 2.9 Export Processed Data"
   ]
  },
  {
   "cell_type": "code",
   "execution_count": 40,
   "id": "b615ba1f-1fff-4e89-9720-02f7fe06dad7",
   "metadata": {},
   "outputs": [],
   "source": [
    "# Create directory if it doesn't exist\n",
    "if not os.path.exists(output_dir):\n",
    "    os.makedirs(output_dir)\n",
    "\n",
    "routes_df.to_csv(os.path.join(output_dir, 'routes.csv'), index=False)\n",
    "stations_df.to_csv(os.path.join(output_dir, 'stations.csv'), index=False)\n",
    "trips_df.to_csv(os.path.join(output_dir, 'trips.csv'), index=False)\n",
    "shapes_df.to_csv(os.path.join(output_dir, 'shapes.csv'), index=False)\n",
    "stop_times_df.to_csv(os.path.join(output_dir, 'stop_times.csv'), index=False)"
   ]
  },
  {
   "cell_type": "code",
   "execution_count": null,
   "id": "a4313a08-fe72-4be2-a610-042b6aafafd6",
   "metadata": {},
   "outputs": [],
   "source": []
  }
 ],
 "metadata": {
  "kernelspec": {
   "display_name": "Python 3 (ipykernel)",
   "language": "python",
   "name": "python3"
  },
  "language_info": {
   "codemirror_mode": {
    "name": "ipython",
    "version": 3
   },
   "file_extension": ".py",
   "mimetype": "text/x-python",
   "name": "python",
   "nbconvert_exporter": "python",
   "pygments_lexer": "ipython3",
   "version": "3.12.5"
  }
 },
 "nbformat": 4,
 "nbformat_minor": 5
}
