{
 "cells": [
  {
   "cell_type": "markdown",
   "id": "a3bdeed9-6308-438d-87e5-b794c017c01a",
   "metadata": {},
   "source": [
    "## 1. Data Cleaning"
   ]
  },
  {
   "cell_type": "markdown",
   "id": "39d78374-f557-41bf-b02e-e6ca234dc175",
   "metadata": {},
   "source": [
    "#### 1.1 Import necessary modules and libraries and initiate the project"
   ]
  },
  {
   "cell_type": "code",
   "execution_count": 1,
   "id": "54dc6626-12e8-4cc9-9ead-b7af9e210313",
   "metadata": {},
   "outputs": [],
   "source": [
    "import os\n",
    "import numpy as np # linear algebra\n",
    "import pandas as pd # data processing, CSV file I/O (e.g. pd.read_csv)\n",
    "from IPython.display import display, Markdown\n",
    "import warnings\n",
    "warnings.filterwarnings('ignore')\n",
    "\n",
    "# Add path to the Static Data directory\n",
    "input_dir = \"../data/DMRC_GTFS/\"\n",
    "output_dir = \"../data/cleaned_data/\""
   ]
  },
  {
   "cell_type": "markdown",
   "id": "ab53d9ab-037d-4113-a6bc-6fda61545c84",
   "metadata": {},
   "source": [
    "#### 1.2 Load the Data"
   ]
  },
  {
   "cell_type": "code",
   "execution_count": 2,
   "id": "561ac2b8-b765-4bd0-8fc4-aeb94611e233",
   "metadata": {},
   "outputs": [],
   "source": [
    "routes = pd.read_csv(input_dir + 'routes.txt')\n",
    "stops = pd.read_csv(input_dir + 'stops.txt')\n",
    "trips = pd.read_csv(input_dir + 'trips.txt')\n",
    "stop_times = pd.read_csv(input_dir +  'stop_times.txt')\n",
    "shapes = pd.read_csv(input_dir +  'shapes.txt')\n",
    "agency = pd.read_csv(input_dir + 'agency.txt')\n",
    "calendar = pd.read_csv(input_dir + 'calendar.txt')"
   ]
  },
  {
   "cell_type": "markdown",
   "id": "b95ea6a4-8944-46a5-a1d3-741e2d5a7e13",
   "metadata": {},
   "source": [
    "#### 1.3 Handle Missing Values"
   ]
  },
  {
   "cell_type": "code",
   "execution_count": 3,
   "id": "06e4d72e-e8f9-46d7-9d28-55a97fc9c611",
   "metadata": {},
   "outputs": [
    {
     "data": {
      "text/markdown": [
       "##### Null values in routes dataframe"
      ],
      "text/plain": [
       "<IPython.core.display.Markdown object>"
      ]
     },
     "metadata": {},
     "output_type": "display_data"
    },
    {
     "name": "stdout",
     "output_type": "stream",
     "text": [
      "route_id                0\n",
      "agency_id              36\n",
      "route_short_name        0\n",
      "route_long_name         0\n",
      "route_desc             36\n",
      "route_type              0\n",
      "route_url              36\n",
      "route_color            36\n",
      "route_text_color       36\n",
      "route_sort_order       36\n",
      "continuous_pickup      36\n",
      "continuous_drop_off    36\n",
      "dtype: int64\n"
     ]
    }
   ],
   "source": [
    "display(Markdown(\"##### Null values in routes dataframe\"))\n",
    "print(routes.isnull().sum())"
   ]
  },
  {
   "cell_type": "code",
   "execution_count": 4,
   "id": "bfad31f5-751b-4b64-b31e-5a60d751f599",
   "metadata": {},
   "outputs": [
    {
     "data": {
      "text/markdown": [
       "##### Null values in stops dataframe"
      ],
      "text/plain": [
       "<IPython.core.display.Markdown object>"
      ]
     },
     "metadata": {},
     "output_type": "display_data"
    },
    {
     "name": "stdout",
     "output_type": "stream",
     "text": [
      "stop_id        0\n",
      "stop_code    262\n",
      "stop_name      0\n",
      "stop_desc    262\n",
      "stop_lat       0\n",
      "stop_lon       0\n",
      "dtype: int64\n"
     ]
    }
   ],
   "source": [
    "display(Markdown(\"##### Null values in stops dataframe\"))\n",
    "print(stops.isnull().sum())"
   ]
  },
  {
   "cell_type": "code",
   "execution_count": 5,
   "id": "2b6ff898-8d1c-48ca-a729-0763f2b3645c",
   "metadata": {},
   "outputs": [
    {
     "data": {
      "text/markdown": [
       "##### Null values in trips dataframe"
      ],
      "text/plain": [
       "<IPython.core.display.Markdown object>"
      ]
     },
     "metadata": {},
     "output_type": "display_data"
    },
    {
     "name": "stdout",
     "output_type": "stream",
     "text": [
      "route_id                    0\n",
      "service_id                  0\n",
      "trip_id                     0\n",
      "trip_headsign            5438\n",
      "trip_short_name          5438\n",
      "direction_id             5438\n",
      "block_id                 5438\n",
      "shape_id                    0\n",
      "wheelchair_accessible       0\n",
      "bikes_allowed               0\n",
      "dtype: int64\n"
     ]
    }
   ],
   "source": [
    "display(Markdown(\"##### Null values in trips dataframe\"))\n",
    "print(trips.isnull().sum())"
   ]
  },
  {
   "cell_type": "code",
   "execution_count": 6,
   "id": "06a8f397-1683-41b8-8b76-48db34ccc347",
   "metadata": {},
   "outputs": [
    {
     "data": {
      "text/markdown": [
       "##### Null values in stop_times dataframe"
      ],
      "text/plain": [
       "<IPython.core.display.Markdown object>"
      ]
     },
     "metadata": {},
     "output_type": "display_data"
    },
    {
     "name": "stdout",
     "output_type": "stream",
     "text": [
      "trip_id                     0\n",
      "arrival_time                0\n",
      "departure_time              0\n",
      "stop_id                     0\n",
      "stop_sequence               0\n",
      "stop_headsign          128434\n",
      "pickup_type                 0\n",
      "drop_off_type               0\n",
      "shape_dist_traveled         0\n",
      "timepoint                   0\n",
      "continuous_pickup      128434\n",
      "continuous_drop_off    128434\n",
      "dtype: int64\n"
     ]
    }
   ],
   "source": [
    "display(Markdown(\"##### Null values in stop_times dataframe\"))\n",
    "print(stop_times.isnull().sum())"
   ]
  },
  {
   "cell_type": "code",
   "execution_count": 7,
   "id": "890b3a68-2aad-4154-90fd-0ac447df9863",
   "metadata": {},
   "outputs": [
    {
     "data": {
      "text/markdown": [
       "##### Null values in shapes dataframe"
      ],
      "text/plain": [
       "<IPython.core.display.Markdown object>"
      ]
     },
     "metadata": {},
     "output_type": "display_data"
    },
    {
     "name": "stdout",
     "output_type": "stream",
     "text": [
      "shape_id               0\n",
      "shape_pt_lat           0\n",
      "shape_pt_lon           0\n",
      "shape_pt_sequence      0\n",
      "shape_dist_traveled    0\n",
      "dtype: int64\n"
     ]
    }
   ],
   "source": [
    "display(Markdown(\"##### Null values in shapes dataframe\"))\n",
    "print(shapes.isnull().sum())"
   ]
  },
  {
   "cell_type": "code",
   "execution_count": 8,
   "id": "d365e75d-26a4-4f01-9864-7a5eb9d035e9",
   "metadata": {},
   "outputs": [
    {
     "data": {
      "text/markdown": [
       "##### Null values in agency dataframe"
      ],
      "text/plain": [
       "<IPython.core.display.Markdown object>"
      ]
     },
     "metadata": {},
     "output_type": "display_data"
    },
    {
     "name": "stdout",
     "output_type": "stream",
     "text": [
      "agency_id          0\n",
      "agency_name        0\n",
      "agency_url         0\n",
      "agency_timezone    0\n",
      "agency_lang        1\n",
      "agency_phone       1\n",
      "agency_fare_url    1\n",
      "agency_email       1\n",
      "dtype: int64\n"
     ]
    }
   ],
   "source": [
    "display(Markdown(\"##### Null values in agency dataframe\"))\n",
    "print(agency.isnull().sum())"
   ]
  },
  {
   "cell_type": "code",
   "execution_count": 9,
   "id": "3ddc2369-3531-447f-90e5-73d7030868b4",
   "metadata": {},
   "outputs": [
    {
     "data": {
      "text/markdown": [
       "##### Null values in calendar dataframe"
      ],
      "text/plain": [
       "<IPython.core.display.Markdown object>"
      ]
     },
     "metadata": {},
     "output_type": "display_data"
    },
    {
     "name": "stdout",
     "output_type": "stream",
     "text": [
      "service_id    0\n",
      "monday        0\n",
      "tuesday       0\n",
      "wednesday     0\n",
      "thursday      0\n",
      "friday        0\n",
      "saturday      0\n",
      "sunday        0\n",
      "start_date    0\n",
      "end_date      0\n",
      "dtype: int64\n"
     ]
    }
   ],
   "source": [
    "display(Markdown(\"##### Null values in calendar dataframe\"))\n",
    "print(calendar.isnull().sum())"
   ]
  },
  {
   "cell_type": "markdown",
   "id": "afce6168-b91d-4fa0-9869-4616bdca060e",
   "metadata": {},
   "source": [
    "#### 1.4 Remove columns with all NaN values"
   ]
  },
  {
   "cell_type": "code",
   "execution_count": 10,
   "id": "29d654ee-bb1c-47e9-a1fa-233906209a2c",
   "metadata": {},
   "outputs": [],
   "source": [
    "routes_cleaned = routes.dropna(axis=1, how='all')\n",
    "stops_cleaned = stops.dropna(axis=1, how='all')\n",
    "trips_cleaned = trips.dropna(axis=1, how='all')\n",
    "stop_times_cleaned = stop_times.dropna(axis=1, how='all')\n",
    "shapes_cleaned = shapes.dropna(axis=1, how='all')\n",
    "agency_cleaned = agency.dropna(axis=1, how='all')\n",
    "calendar_cleaned = calendar.dropna(axis=1, how='all')"
   ]
  },
  {
   "cell_type": "markdown",
   "id": "3bb3f255-3a96-436f-99cf-1bf7f63fb6f8",
   "metadata": {},
   "source": [
    "#### 1.5 Printing shape and first 5 rows of all the cleaned dataframes"
   ]
  },
  {
   "cell_type": "code",
   "execution_count": 11,
   "id": "3df3fff6-a847-4e7e-a1f2-14ff8aedbc47",
   "metadata": {},
   "outputs": [
    {
     "name": "stdout",
     "output_type": "stream",
     "text": [
      "(36, 4)\n"
     ]
    },
    {
     "data": {
      "text/html": [
       "<div>\n",
       "<style scoped>\n",
       "    .dataframe tbody tr th:only-of-type {\n",
       "        vertical-align: middle;\n",
       "    }\n",
       "\n",
       "    .dataframe tbody tr th {\n",
       "        vertical-align: top;\n",
       "    }\n",
       "\n",
       "    .dataframe thead th {\n",
       "        text-align: right;\n",
       "    }\n",
       "</style>\n",
       "<table border=\"1\" class=\"dataframe\">\n",
       "  <thead>\n",
       "    <tr style=\"text-align: right;\">\n",
       "      <th></th>\n",
       "      <th>route_id</th>\n",
       "      <th>route_short_name</th>\n",
       "      <th>route_long_name</th>\n",
       "      <th>route_type</th>\n",
       "    </tr>\n",
       "  </thead>\n",
       "  <tbody>\n",
       "    <tr>\n",
       "      <th>0</th>\n",
       "      <td>33</td>\n",
       "      <td>R_SP_R</td>\n",
       "      <td>RAPID_Phase 3 (Rapid Metro) to Sector 55-56 (R...</td>\n",
       "      <td>1</td>\n",
       "    </tr>\n",
       "    <tr>\n",
       "      <th>1</th>\n",
       "      <td>31</td>\n",
       "      <td>G_DD_R</td>\n",
       "      <td>GRAY_Dhansa Bus Stand to Dwarka</td>\n",
       "      <td>1</td>\n",
       "    </tr>\n",
       "    <tr>\n",
       "      <th>2</th>\n",
       "      <td>29</td>\n",
       "      <td>P_MS_R</td>\n",
       "      <td>PINK_Shiv Vihar to Majlis Park</td>\n",
       "      <td>1</td>\n",
       "    </tr>\n",
       "    <tr>\n",
       "      <th>3</th>\n",
       "      <td>12</td>\n",
       "      <td>M_JB</td>\n",
       "      <td>MAGENTA_Janak Puri West to Botanical Garden</td>\n",
       "      <td>1</td>\n",
       "    </tr>\n",
       "    <tr>\n",
       "      <th>4</th>\n",
       "      <td>11</td>\n",
       "      <td>P_MS</td>\n",
       "      <td>PINK_Majlis Park to Shiv Vihar</td>\n",
       "      <td>1</td>\n",
       "    </tr>\n",
       "  </tbody>\n",
       "</table>\n",
       "</div>"
      ],
      "text/plain": [
       "   route_id route_short_name  \\\n",
       "0        33           R_SP_R   \n",
       "1        31           G_DD_R   \n",
       "2        29           P_MS_R   \n",
       "3        12             M_JB   \n",
       "4        11             P_MS   \n",
       "\n",
       "                                     route_long_name  route_type  \n",
       "0  RAPID_Phase 3 (Rapid Metro) to Sector 55-56 (R...           1  \n",
       "1                    GRAY_Dhansa Bus Stand to Dwarka           1  \n",
       "2                     PINK_Shiv Vihar to Majlis Park           1  \n",
       "3        MAGENTA_Janak Puri West to Botanical Garden           1  \n",
       "4                     PINK_Majlis Park to Shiv Vihar           1  "
      ]
     },
     "execution_count": 11,
     "metadata": {},
     "output_type": "execute_result"
    }
   ],
   "source": [
    "print(routes_cleaned.shape)\n",
    "routes_cleaned.head()"
   ]
  },
  {
   "cell_type": "code",
   "execution_count": 12,
   "id": "a714e582-4483-4fdb-b44f-a1ed56c6417e",
   "metadata": {},
   "outputs": [
    {
     "name": "stdout",
     "output_type": "stream",
     "text": [
      "(262, 4)\n"
     ]
    },
    {
     "data": {
      "text/html": [
       "<div>\n",
       "<style scoped>\n",
       "    .dataframe tbody tr th:only-of-type {\n",
       "        vertical-align: middle;\n",
       "    }\n",
       "\n",
       "    .dataframe tbody tr th {\n",
       "        vertical-align: top;\n",
       "    }\n",
       "\n",
       "    .dataframe thead th {\n",
       "        text-align: right;\n",
       "    }\n",
       "</style>\n",
       "<table border=\"1\" class=\"dataframe\">\n",
       "  <thead>\n",
       "    <tr style=\"text-align: right;\">\n",
       "      <th></th>\n",
       "      <th>stop_id</th>\n",
       "      <th>stop_name</th>\n",
       "      <th>stop_lat</th>\n",
       "      <th>stop_lon</th>\n",
       "    </tr>\n",
       "  </thead>\n",
       "  <tbody>\n",
       "    <tr>\n",
       "      <th>0</th>\n",
       "      <td>1</td>\n",
       "      <td>Dilshad Garden</td>\n",
       "      <td>28.675991</td>\n",
       "      <td>77.321495</td>\n",
       "    </tr>\n",
       "    <tr>\n",
       "      <th>1</th>\n",
       "      <td>2</td>\n",
       "      <td>Jhilmil</td>\n",
       "      <td>28.675648</td>\n",
       "      <td>77.312393</td>\n",
       "    </tr>\n",
       "    <tr>\n",
       "      <th>2</th>\n",
       "      <td>3</td>\n",
       "      <td>Mansrover park</td>\n",
       "      <td>28.675352</td>\n",
       "      <td>77.301178</td>\n",
       "    </tr>\n",
       "    <tr>\n",
       "      <th>3</th>\n",
       "      <td>4</td>\n",
       "      <td>Shahdara</td>\n",
       "      <td>28.673531</td>\n",
       "      <td>77.287270</td>\n",
       "    </tr>\n",
       "    <tr>\n",
       "      <th>4</th>\n",
       "      <td>5</td>\n",
       "      <td>Welcome</td>\n",
       "      <td>28.671986</td>\n",
       "      <td>77.277931</td>\n",
       "    </tr>\n",
       "  </tbody>\n",
       "</table>\n",
       "</div>"
      ],
      "text/plain": [
       "   stop_id       stop_name   stop_lat   stop_lon\n",
       "0        1  Dilshad Garden  28.675991  77.321495\n",
       "1        2         Jhilmil  28.675648  77.312393\n",
       "2        3  Mansrover park  28.675352  77.301178\n",
       "3        4        Shahdara  28.673531  77.287270\n",
       "4        5         Welcome  28.671986  77.277931"
      ]
     },
     "execution_count": 12,
     "metadata": {},
     "output_type": "execute_result"
    }
   ],
   "source": [
    "print(stops_cleaned.shape)\n",
    "stops_cleaned.head()"
   ]
  },
  {
   "cell_type": "code",
   "execution_count": 13,
   "id": "2afedf8c-d82e-4348-afff-a06339810963",
   "metadata": {},
   "outputs": [
    {
     "name": "stdout",
     "output_type": "stream",
     "text": [
      "(5438, 6)\n"
     ]
    },
    {
     "data": {
      "text/html": [
       "<div>\n",
       "<style scoped>\n",
       "    .dataframe tbody tr th:only-of-type {\n",
       "        vertical-align: middle;\n",
       "    }\n",
       "\n",
       "    .dataframe tbody tr th {\n",
       "        vertical-align: top;\n",
       "    }\n",
       "\n",
       "    .dataframe thead th {\n",
       "        text-align: right;\n",
       "    }\n",
       "</style>\n",
       "<table border=\"1\" class=\"dataframe\">\n",
       "  <thead>\n",
       "    <tr style=\"text-align: right;\">\n",
       "      <th></th>\n",
       "      <th>route_id</th>\n",
       "      <th>service_id</th>\n",
       "      <th>trip_id</th>\n",
       "      <th>shape_id</th>\n",
       "      <th>wheelchair_accessible</th>\n",
       "      <th>bikes_allowed</th>\n",
       "    </tr>\n",
       "  </thead>\n",
       "  <tbody>\n",
       "    <tr>\n",
       "      <th>0</th>\n",
       "      <td>0</td>\n",
       "      <td>weekday</td>\n",
       "      <td>0</td>\n",
       "      <td>shp_1_30</td>\n",
       "      <td>0</td>\n",
       "      <td>0</td>\n",
       "    </tr>\n",
       "    <tr>\n",
       "      <th>1</th>\n",
       "      <td>0</td>\n",
       "      <td>weekday</td>\n",
       "      <td>1</td>\n",
       "      <td>shp_1_30</td>\n",
       "      <td>0</td>\n",
       "      <td>0</td>\n",
       "    </tr>\n",
       "    <tr>\n",
       "      <th>2</th>\n",
       "      <td>0</td>\n",
       "      <td>weekday</td>\n",
       "      <td>10</td>\n",
       "      <td>shp_1_30</td>\n",
       "      <td>0</td>\n",
       "      <td>0</td>\n",
       "    </tr>\n",
       "    <tr>\n",
       "      <th>3</th>\n",
       "      <td>0</td>\n",
       "      <td>weekday</td>\n",
       "      <td>100</td>\n",
       "      <td>shp_1_30</td>\n",
       "      <td>0</td>\n",
       "      <td>0</td>\n",
       "    </tr>\n",
       "    <tr>\n",
       "      <th>4</th>\n",
       "      <td>2</td>\n",
       "      <td>weekday</td>\n",
       "      <td>1000</td>\n",
       "      <td>shp_1_13</td>\n",
       "      <td>0</td>\n",
       "      <td>0</td>\n",
       "    </tr>\n",
       "  </tbody>\n",
       "</table>\n",
       "</div>"
      ],
      "text/plain": [
       "   route_id service_id  trip_id  shape_id  wheelchair_accessible  \\\n",
       "0         0    weekday        0  shp_1_30                      0   \n",
       "1         0    weekday        1  shp_1_30                      0   \n",
       "2         0    weekday       10  shp_1_30                      0   \n",
       "3         0    weekday      100  shp_1_30                      0   \n",
       "4         2    weekday     1000  shp_1_13                      0   \n",
       "\n",
       "   bikes_allowed  \n",
       "0              0  \n",
       "1              0  \n",
       "2              0  \n",
       "3              0  \n",
       "4              0  "
      ]
     },
     "execution_count": 13,
     "metadata": {},
     "output_type": "execute_result"
    }
   ],
   "source": [
    "print(trips_cleaned.shape)\n",
    "trips_cleaned.head()"
   ]
  },
  {
   "cell_type": "code",
   "execution_count": 14,
   "id": "75ef9db3-b483-468c-b18f-c49b24767621",
   "metadata": {},
   "outputs": [
    {
     "name": "stdout",
     "output_type": "stream",
     "text": [
      "(128434, 9)\n"
     ]
    },
    {
     "data": {
      "text/html": [
       "<div>\n",
       "<style scoped>\n",
       "    .dataframe tbody tr th:only-of-type {\n",
       "        vertical-align: middle;\n",
       "    }\n",
       "\n",
       "    .dataframe tbody tr th {\n",
       "        vertical-align: top;\n",
       "    }\n",
       "\n",
       "    .dataframe thead th {\n",
       "        text-align: right;\n",
       "    }\n",
       "</style>\n",
       "<table border=\"1\" class=\"dataframe\">\n",
       "  <thead>\n",
       "    <tr style=\"text-align: right;\">\n",
       "      <th></th>\n",
       "      <th>trip_id</th>\n",
       "      <th>arrival_time</th>\n",
       "      <th>departure_time</th>\n",
       "      <th>stop_id</th>\n",
       "      <th>stop_sequence</th>\n",
       "      <th>pickup_type</th>\n",
       "      <th>drop_off_type</th>\n",
       "      <th>shape_dist_traveled</th>\n",
       "      <th>timepoint</th>\n",
       "    </tr>\n",
       "  </thead>\n",
       "  <tbody>\n",
       "    <tr>\n",
       "      <th>0</th>\n",
       "      <td>0</td>\n",
       "      <td>05:28:08</td>\n",
       "      <td>05:28:28</td>\n",
       "      <td>21</td>\n",
       "      <td>0</td>\n",
       "      <td>0</td>\n",
       "      <td>0</td>\n",
       "      <td>0.000</td>\n",
       "      <td>1</td>\n",
       "    </tr>\n",
       "    <tr>\n",
       "      <th>1</th>\n",
       "      <td>0</td>\n",
       "      <td>05:30:58</td>\n",
       "      <td>05:31:18</td>\n",
       "      <td>20</td>\n",
       "      <td>1</td>\n",
       "      <td>0</td>\n",
       "      <td>0</td>\n",
       "      <td>1202.405</td>\n",
       "      <td>1</td>\n",
       "    </tr>\n",
       "    <tr>\n",
       "      <th>2</th>\n",
       "      <td>0</td>\n",
       "      <td>05:33:28</td>\n",
       "      <td>05:33:48</td>\n",
       "      <td>19</td>\n",
       "      <td>2</td>\n",
       "      <td>0</td>\n",
       "      <td>0</td>\n",
       "      <td>2480.750</td>\n",
       "      <td>1</td>\n",
       "    </tr>\n",
       "    <tr>\n",
       "      <th>3</th>\n",
       "      <td>0</td>\n",
       "      <td>05:35:33</td>\n",
       "      <td>05:35:53</td>\n",
       "      <td>18</td>\n",
       "      <td>3</td>\n",
       "      <td>0</td>\n",
       "      <td>0</td>\n",
       "      <td>3314.936</td>\n",
       "      <td>1</td>\n",
       "    </tr>\n",
       "    <tr>\n",
       "      <th>4</th>\n",
       "      <td>0</td>\n",
       "      <td>05:37:53</td>\n",
       "      <td>05:38:13</td>\n",
       "      <td>17</td>\n",
       "      <td>4</td>\n",
       "      <td>0</td>\n",
       "      <td>0</td>\n",
       "      <td>4300.216</td>\n",
       "      <td>1</td>\n",
       "    </tr>\n",
       "  </tbody>\n",
       "</table>\n",
       "</div>"
      ],
      "text/plain": [
       "   trip_id arrival_time departure_time  stop_id  stop_sequence  pickup_type  \\\n",
       "0        0     05:28:08       05:28:28       21              0            0   \n",
       "1        0     05:30:58       05:31:18       20              1            0   \n",
       "2        0     05:33:28       05:33:48       19              2            0   \n",
       "3        0     05:35:33       05:35:53       18              3            0   \n",
       "4        0     05:37:53       05:38:13       17              4            0   \n",
       "\n",
       "   drop_off_type  shape_dist_traveled  timepoint  \n",
       "0              0                0.000          1  \n",
       "1              0             1202.405          1  \n",
       "2              0             2480.750          1  \n",
       "3              0             3314.936          1  \n",
       "4              0             4300.216          1  "
      ]
     },
     "execution_count": 14,
     "metadata": {},
     "output_type": "execute_result"
    }
   ],
   "source": [
    "print(stop_times_cleaned.shape)\n",
    "stop_times_cleaned.head()"
   ]
  },
  {
   "cell_type": "code",
   "execution_count": 15,
   "id": "8f1528db-0fbf-4051-9d53-892a89fbf98d",
   "metadata": {},
   "outputs": [
    {
     "name": "stdout",
     "output_type": "stream",
     "text": [
      "(6643, 5)\n"
     ]
    },
    {
     "data": {
      "text/html": [
       "<div>\n",
       "<style scoped>\n",
       "    .dataframe tbody tr th:only-of-type {\n",
       "        vertical-align: middle;\n",
       "    }\n",
       "\n",
       "    .dataframe tbody tr th {\n",
       "        vertical-align: top;\n",
       "    }\n",
       "\n",
       "    .dataframe thead th {\n",
       "        text-align: right;\n",
       "    }\n",
       "</style>\n",
       "<table border=\"1\" class=\"dataframe\">\n",
       "  <thead>\n",
       "    <tr style=\"text-align: right;\">\n",
       "      <th></th>\n",
       "      <th>shape_id</th>\n",
       "      <th>shape_pt_lat</th>\n",
       "      <th>shape_pt_lon</th>\n",
       "      <th>shape_pt_sequence</th>\n",
       "      <th>shape_dist_traveled</th>\n",
       "    </tr>\n",
       "  </thead>\n",
       "  <tbody>\n",
       "    <tr>\n",
       "      <th>0</th>\n",
       "      <td>shp_1_2</td>\n",
       "      <td>28.615887</td>\n",
       "      <td>77.022461</td>\n",
       "      <td>1</td>\n",
       "      <td>0.000</td>\n",
       "    </tr>\n",
       "    <tr>\n",
       "      <th>1</th>\n",
       "      <td>shp_1_2</td>\n",
       "      <td>28.616341</td>\n",
       "      <td>77.022499</td>\n",
       "      <td>2</td>\n",
       "      <td>50.510</td>\n",
       "    </tr>\n",
       "    <tr>\n",
       "      <th>2</th>\n",
       "      <td>shp_1_2</td>\n",
       "      <td>28.617985</td>\n",
       "      <td>77.022453</td>\n",
       "      <td>3</td>\n",
       "      <td>233.586</td>\n",
       "    </tr>\n",
       "    <tr>\n",
       "      <th>3</th>\n",
       "      <td>shp_1_2</td>\n",
       "      <td>28.618252</td>\n",
       "      <td>77.022453</td>\n",
       "      <td>4</td>\n",
       "      <td>263.487</td>\n",
       "    </tr>\n",
       "    <tr>\n",
       "      <th>4</th>\n",
       "      <td>shp_1_2</td>\n",
       "      <td>28.618425</td>\n",
       "      <td>77.022438</td>\n",
       "      <td>5</td>\n",
       "      <td>282.857</td>\n",
       "    </tr>\n",
       "  </tbody>\n",
       "</table>\n",
       "</div>"
      ],
      "text/plain": [
       "  shape_id  shape_pt_lat  shape_pt_lon  shape_pt_sequence  shape_dist_traveled\n",
       "0  shp_1_2     28.615887     77.022461                  1                0.000\n",
       "1  shp_1_2     28.616341     77.022499                  2               50.510\n",
       "2  shp_1_2     28.617985     77.022453                  3              233.586\n",
       "3  shp_1_2     28.618252     77.022453                  4              263.487\n",
       "4  shp_1_2     28.618425     77.022438                  5              282.857"
      ]
     },
     "execution_count": 15,
     "metadata": {},
     "output_type": "execute_result"
    }
   ],
   "source": [
    "print(shapes_cleaned.shape)\n",
    "shapes_cleaned.head()"
   ]
  },
  {
   "cell_type": "code",
   "execution_count": 16,
   "id": "d5f364b3-3ba1-4a16-b56a-d85a3a9c4e0e",
   "metadata": {},
   "outputs": [
    {
     "name": "stdout",
     "output_type": "stream",
     "text": [
      "(1, 4)\n"
     ]
    },
    {
     "data": {
      "text/html": [
       "<div>\n",
       "<style scoped>\n",
       "    .dataframe tbody tr th:only-of-type {\n",
       "        vertical-align: middle;\n",
       "    }\n",
       "\n",
       "    .dataframe tbody tr th {\n",
       "        vertical-align: top;\n",
       "    }\n",
       "\n",
       "    .dataframe thead th {\n",
       "        text-align: right;\n",
       "    }\n",
       "</style>\n",
       "<table border=\"1\" class=\"dataframe\">\n",
       "  <thead>\n",
       "    <tr style=\"text-align: right;\">\n",
       "      <th></th>\n",
       "      <th>agency_id</th>\n",
       "      <th>agency_name</th>\n",
       "      <th>agency_url</th>\n",
       "      <th>agency_timezone</th>\n",
       "    </tr>\n",
       "  </thead>\n",
       "  <tbody>\n",
       "    <tr>\n",
       "      <th>0</th>\n",
       "      <td>DMRC</td>\n",
       "      <td>Delhi Metro Rail Corporation</td>\n",
       "      <td>http://www.delhimetrorail.com/</td>\n",
       "      <td>Asia/Kolkata</td>\n",
       "    </tr>\n",
       "  </tbody>\n",
       "</table>\n",
       "</div>"
      ],
      "text/plain": [
       "  agency_id                   agency_name                      agency_url  \\\n",
       "0      DMRC  Delhi Metro Rail Corporation  http://www.delhimetrorail.com/   \n",
       "\n",
       "  agency_timezone  \n",
       "0    Asia/Kolkata  "
      ]
     },
     "execution_count": 16,
     "metadata": {},
     "output_type": "execute_result"
    }
   ],
   "source": [
    "print(agency_cleaned.shape)\n",
    "agency_cleaned.head()"
   ]
  },
  {
   "cell_type": "code",
   "execution_count": 17,
   "id": "02735c6a-d893-45d6-aacb-328f314cbfab",
   "metadata": {},
   "outputs": [
    {
     "name": "stdout",
     "output_type": "stream",
     "text": [
      "(3, 10)\n"
     ]
    },
    {
     "data": {
      "text/html": [
       "<div>\n",
       "<style scoped>\n",
       "    .dataframe tbody tr th:only-of-type {\n",
       "        vertical-align: middle;\n",
       "    }\n",
       "\n",
       "    .dataframe tbody tr th {\n",
       "        vertical-align: top;\n",
       "    }\n",
       "\n",
       "    .dataframe thead th {\n",
       "        text-align: right;\n",
       "    }\n",
       "</style>\n",
       "<table border=\"1\" class=\"dataframe\">\n",
       "  <thead>\n",
       "    <tr style=\"text-align: right;\">\n",
       "      <th></th>\n",
       "      <th>service_id</th>\n",
       "      <th>monday</th>\n",
       "      <th>tuesday</th>\n",
       "      <th>wednesday</th>\n",
       "      <th>thursday</th>\n",
       "      <th>friday</th>\n",
       "      <th>saturday</th>\n",
       "      <th>sunday</th>\n",
       "      <th>start_date</th>\n",
       "      <th>end_date</th>\n",
       "    </tr>\n",
       "  </thead>\n",
       "  <tbody>\n",
       "    <tr>\n",
       "      <th>0</th>\n",
       "      <td>weekday</td>\n",
       "      <td>1</td>\n",
       "      <td>1</td>\n",
       "      <td>1</td>\n",
       "      <td>1</td>\n",
       "      <td>1</td>\n",
       "      <td>0</td>\n",
       "      <td>0</td>\n",
       "      <td>20190101</td>\n",
       "      <td>20251231</td>\n",
       "    </tr>\n",
       "    <tr>\n",
       "      <th>1</th>\n",
       "      <td>saturday</td>\n",
       "      <td>0</td>\n",
       "      <td>0</td>\n",
       "      <td>0</td>\n",
       "      <td>0</td>\n",
       "      <td>0</td>\n",
       "      <td>1</td>\n",
       "      <td>0</td>\n",
       "      <td>20190101</td>\n",
       "      <td>20251231</td>\n",
       "    </tr>\n",
       "    <tr>\n",
       "      <th>2</th>\n",
       "      <td>sunday</td>\n",
       "      <td>0</td>\n",
       "      <td>0</td>\n",
       "      <td>0</td>\n",
       "      <td>0</td>\n",
       "      <td>0</td>\n",
       "      <td>0</td>\n",
       "      <td>1</td>\n",
       "      <td>20190101</td>\n",
       "      <td>20251231</td>\n",
       "    </tr>\n",
       "  </tbody>\n",
       "</table>\n",
       "</div>"
      ],
      "text/plain": [
       "  service_id  monday  tuesday  wednesday  thursday  friday  saturday  sunday  \\\n",
       "0    weekday       1        1          1         1       1         0       0   \n",
       "1   saturday       0        0          0         0       0         1       0   \n",
       "2     sunday       0        0          0         0       0         0       1   \n",
       "\n",
       "   start_date  end_date  \n",
       "0    20190101  20251231  \n",
       "1    20190101  20251231  \n",
       "2    20190101  20251231  "
      ]
     },
     "execution_count": 17,
     "metadata": {},
     "output_type": "execute_result"
    }
   ],
   "source": [
    "print(calendar_cleaned.shape)\n",
    "calendar_cleaned.head()"
   ]
  },
  {
   "cell_type": "markdown",
   "id": "9554bc48-68cd-4c13-87bc-2cf7912f9e10",
   "metadata": {},
   "source": [
    "#### 1.6 Check and remove duplicates"
   ]
  },
  {
   "cell_type": "code",
   "execution_count": 18,
   "id": "b89febab-5f5c-4f3e-a6c4-7bb10be25381",
   "metadata": {},
   "outputs": [],
   "source": [
    "routes_cleaned.drop_duplicates(inplace=True)\n",
    "stops_cleaned.drop_duplicates(inplace=True)\n",
    "stop_times_cleaned.drop_duplicates(inplace=True)\n",
    "shapes_cleaned.drop_duplicates(inplace=True)"
   ]
  },
  {
   "cell_type": "markdown",
   "id": "87d85279-6bdc-4018-aa27-9aff06e9896d",
   "metadata": {},
   "source": [
    "#### 1.7 Removing irrelevant attributes"
   ]
  },
  {
   "cell_type": "code",
   "execution_count": 19,
   "id": "5ce326ce-27b4-43df-9f6c-ab5190dd50eb",
   "metadata": {},
   "outputs": [
    {
     "data": {
      "text/html": [
       "<div>\n",
       "<style scoped>\n",
       "    .dataframe tbody tr th:only-of-type {\n",
       "        vertical-align: middle;\n",
       "    }\n",
       "\n",
       "    .dataframe tbody tr th {\n",
       "        vertical-align: top;\n",
       "    }\n",
       "\n",
       "    .dataframe thead th {\n",
       "        text-align: right;\n",
       "    }\n",
       "</style>\n",
       "<table border=\"1\" class=\"dataframe\">\n",
       "  <thead>\n",
       "    <tr style=\"text-align: right;\">\n",
       "      <th></th>\n",
       "      <th>route_id</th>\n",
       "      <th>route_long_name</th>\n",
       "    </tr>\n",
       "  </thead>\n",
       "  <tbody>\n",
       "    <tr>\n",
       "      <th>0</th>\n",
       "      <td>33</td>\n",
       "      <td>RAPID_Phase 3 (Rapid Metro) to Sector 55-56 (R...</td>\n",
       "    </tr>\n",
       "    <tr>\n",
       "      <th>1</th>\n",
       "      <td>31</td>\n",
       "      <td>GRAY_Dhansa Bus Stand to Dwarka</td>\n",
       "    </tr>\n",
       "  </tbody>\n",
       "</table>\n",
       "</div>"
      ],
      "text/plain": [
       "   route_id                                    route_long_name\n",
       "0        33  RAPID_Phase 3 (Rapid Metro) to Sector 55-56 (R...\n",
       "1        31                    GRAY_Dhansa Bus Stand to Dwarka"
      ]
     },
     "execution_count": 19,
     "metadata": {},
     "output_type": "execute_result"
    }
   ],
   "source": [
    "# routes_cleaned dataframe has `route_short_name` which is a redundant way to recognise the routes and `route_type` which is always 1.\n",
    "routes_cleaned = routes_cleaned.drop(columns=['route_short_name', 'route_type'])\n",
    "routes_cleaned.head(2)"
   ]
  },
  {
   "cell_type": "code",
   "execution_count": 20,
   "id": "de7c6509-ee38-4817-a807-18b05ce6bd7c",
   "metadata": {},
   "outputs": [
    {
     "data": {
      "text/html": [
       "<div>\n",
       "<style scoped>\n",
       "    .dataframe tbody tr th:only-of-type {\n",
       "        vertical-align: middle;\n",
       "    }\n",
       "\n",
       "    .dataframe tbody tr th {\n",
       "        vertical-align: top;\n",
       "    }\n",
       "\n",
       "    .dataframe thead th {\n",
       "        text-align: right;\n",
       "    }\n",
       "</style>\n",
       "<table border=\"1\" class=\"dataframe\">\n",
       "  <thead>\n",
       "    <tr style=\"text-align: right;\">\n",
       "      <th></th>\n",
       "      <th>trip_id</th>\n",
       "      <th>arrival_time</th>\n",
       "      <th>departure_time</th>\n",
       "      <th>stop_id</th>\n",
       "      <th>stop_sequence</th>\n",
       "      <th>shape_dist_traveled</th>\n",
       "    </tr>\n",
       "  </thead>\n",
       "  <tbody>\n",
       "    <tr>\n",
       "      <th>0</th>\n",
       "      <td>0</td>\n",
       "      <td>05:28:08</td>\n",
       "      <td>05:28:28</td>\n",
       "      <td>21</td>\n",
       "      <td>0</td>\n",
       "      <td>0.000</td>\n",
       "    </tr>\n",
       "    <tr>\n",
       "      <th>1</th>\n",
       "      <td>0</td>\n",
       "      <td>05:30:58</td>\n",
       "      <td>05:31:18</td>\n",
       "      <td>20</td>\n",
       "      <td>1</td>\n",
       "      <td>1202.405</td>\n",
       "    </tr>\n",
       "  </tbody>\n",
       "</table>\n",
       "</div>"
      ],
      "text/plain": [
       "   trip_id arrival_time departure_time  stop_id  stop_sequence  \\\n",
       "0        0     05:28:08       05:28:28       21              0   \n",
       "1        0     05:30:58       05:31:18       20              1   \n",
       "\n",
       "   shape_dist_traveled  \n",
       "0                0.000  \n",
       "1             1202.405  "
      ]
     },
     "execution_count": 20,
     "metadata": {},
     "output_type": "execute_result"
    }
   ],
   "source": [
    "# stops_times_cleaned dataframe has pickup_type and drop_off_type which are arrays of a single value i.e 0\n",
    "# Similarly it has timepoint that is 1 for all rows.\n",
    "stop_times_cleaned = stop_times_cleaned.drop(columns=['pickup_type', 'drop_off_type', 'timepoint'])\n",
    "stop_times_cleaned.head(2)"
   ]
  },
  {
   "cell_type": "code",
   "execution_count": 21,
   "id": "bf791515-df50-41f3-bb5e-63813e909a02",
   "metadata": {},
   "outputs": [
    {
     "data": {
      "text/html": [
       "<div>\n",
       "<style scoped>\n",
       "    .dataframe tbody tr th:only-of-type {\n",
       "        vertical-align: middle;\n",
       "    }\n",
       "\n",
       "    .dataframe tbody tr th {\n",
       "        vertical-align: top;\n",
       "    }\n",
       "\n",
       "    .dataframe thead th {\n",
       "        text-align: right;\n",
       "    }\n",
       "</style>\n",
       "<table border=\"1\" class=\"dataframe\">\n",
       "  <thead>\n",
       "    <tr style=\"text-align: right;\">\n",
       "      <th></th>\n",
       "      <th>route_id</th>\n",
       "      <th>service_id</th>\n",
       "      <th>trip_id</th>\n",
       "      <th>shape_id</th>\n",
       "    </tr>\n",
       "  </thead>\n",
       "  <tbody>\n",
       "    <tr>\n",
       "      <th>0</th>\n",
       "      <td>0</td>\n",
       "      <td>weekday</td>\n",
       "      <td>0</td>\n",
       "      <td>shp_1_30</td>\n",
       "    </tr>\n",
       "    <tr>\n",
       "      <th>1</th>\n",
       "      <td>0</td>\n",
       "      <td>weekday</td>\n",
       "      <td>1</td>\n",
       "      <td>shp_1_30</td>\n",
       "    </tr>\n",
       "  </tbody>\n",
       "</table>\n",
       "</div>"
      ],
      "text/plain": [
       "   route_id service_id  trip_id  shape_id\n",
       "0         0    weekday        0  shp_1_30\n",
       "1         0    weekday        1  shp_1_30"
      ]
     },
     "execution_count": 21,
     "metadata": {},
     "output_type": "execute_result"
    }
   ],
   "source": [
    "# Values for wheelchair_accessible and bikes_allowed are 0 in dataframe trips_cleaned\n",
    "trips_cleaned = trips_cleaned.drop(columns=['wheelchair_accessible', 'bikes_allowed'])\n",
    "trips_cleaned.head(2)"
   ]
  },
  {
   "cell_type": "markdown",
   "id": "0512c697-f67c-41ad-a21c-4c76435661ba",
   "metadata": {},
   "source": [
    "#### 1.8 Export data to data/cleaned_data"
   ]
  },
  {
   "cell_type": "code",
   "execution_count": 22,
   "id": "747832b9-98e7-421e-939d-6078813ccad1",
   "metadata": {},
   "outputs": [],
   "source": [
    "# Create directory if it doesn't exist\n",
    "output_dir = '../data/cleaned_data'\n",
    "if not os.path.exists(output_dir):\n",
    "    os.makedirs(output_dir)\n",
    "\n",
    "routes_cleaned.to_csv(os.path.join(output_dir, 'routes.csv'), index=False)\n",
    "stops_cleaned.to_csv(os.path.join(output_dir, 'stops.csv'), index=False)\n",
    "trips_cleaned.to_csv(os.path.join(output_dir, 'trips.csv'), index=False)\n",
    "shapes_cleaned.to_csv(os.path.join(output_dir, 'shapes.csv'), index=False)\n",
    "stop_times_cleaned.to_csv(os.path.join(output_dir, 'stop_times.csv'), index=False)\n",
    "agency_cleaned.to_csv(os.path.join(output_dir, 'agency.csv'), index=False)\n",
    "calendar_cleaned.to_csv(os.path.join(output_dir, 'calendar.csv'), index=False)"
   ]
  }
 ],
 "metadata": {
  "kernelspec": {
   "display_name": "Python 3 (ipykernel)",
   "language": "python",
   "name": "python3"
  },
  "language_info": {
   "codemirror_mode": {
    "name": "ipython",
    "version": 3
   },
   "file_extension": ".py",
   "mimetype": "text/x-python",
   "name": "python",
   "nbconvert_exporter": "python",
   "pygments_lexer": "ipython3",
   "version": "3.12.5"
  }
 },
 "nbformat": 4,
 "nbformat_minor": 5
}
