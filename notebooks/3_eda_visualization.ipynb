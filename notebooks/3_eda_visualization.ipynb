{
 "cells": [
  {
   "cell_type": "markdown",
   "id": "4dbe0eec-b8f9-43e5-be3c-52d593ccc5d5",
   "metadata": {},
   "source": [
    "## 4. Exploratory Data Analysis and Visualization"
   ]
  },
  {
   "cell_type": "markdown",
   "id": "c8d92615-7382-459a-9363-3be24dfb33b4",
   "metadata": {},
   "source": [
    "#### 4.1 Introduction to this notebook"
   ]
  },
  {
   "cell_type": "markdown",
   "id": "51e042f5-450a-4396-b7c1-6f4317b36faa",
   "metadata": {},
   "source": [
    "#### 4.2 Data Loading and Setup"
   ]
  },
  {
   "cell_type": "code",
   "execution_count": 9,
   "id": "81888522-c21f-4fb7-a0a8-4aaef78eb8e3",
   "metadata": {},
   "outputs": [
    {
     "name": "stdout",
     "output_type": "stream",
     "text": [
      "Collecting pandoc\n",
      "  Downloading pandoc-2.4.tar.gz (34 kB)\n",
      "  Installing build dependencies: started\n",
      "  Installing build dependencies: finished with status 'done'\n",
      "  Getting requirements to build wheel: started\n",
      "  Getting requirements to build wheel: finished with status 'done'\n",
      "  Preparing metadata (pyproject.toml): started\n",
      "  Preparing metadata (pyproject.toml): finished with status 'done'\n",
      "Collecting plumbum (from pandoc)\n",
      "  Downloading plumbum-1.9.0-py3-none-any.whl.metadata (10 kB)\n",
      "Collecting ply (from pandoc)\n",
      "  Downloading ply-3.11-py2.py3-none-any.whl.metadata (844 bytes)\n",
      "Requirement already satisfied: pywin32 in c:\\users\\dell\\desktop\\aguide\\env\\lib\\site-packages (from plumbum->pandoc) (310)\n",
      "Downloading plumbum-1.9.0-py3-none-any.whl (127 kB)\n",
      "Downloading ply-3.11-py2.py3-none-any.whl (49 kB)\n",
      "Building wheels for collected packages: pandoc\n",
      "  Building wheel for pandoc (pyproject.toml): started\n",
      "  Building wheel for pandoc (pyproject.toml): finished with status 'done'\n",
      "  Created wheel for pandoc: filename=pandoc-2.4-py3-none-any.whl size=34898 sha256=97426b5067de9dd20d2fafaebe45cabc4fd73443204f28379202f26c63a6a3ac\n",
      "  Stored in directory: c:\\users\\dell\\appdata\\local\\pip\\cache\\wheels\\9c\\2f\\9f\\b1aac8c3e74b4ee327dc8c6eac5128996f9eadf586e2c0ba67\n",
      "Successfully built pandoc\n",
      "Installing collected packages: ply, plumbum, pandoc\n",
      "Successfully installed pandoc-2.4 plumbum-1.9.0 ply-3.11\n"
     ]
    },
    {
     "name": "stderr",
     "output_type": "stream",
     "text": [
      "\n",
      "[notice] A new release of pip is available: 25.0.1 -> 25.1.1\n",
      "[notice] To update, run: python.exe -m pip install --upgrade pip\n"
     ]
    }
   ],
   "source": [
    "!pip install pandoc\n",
    "import os\n",
    "import numpy as np # linear algebra\n",
    "import pandas as pd # data processing, CSV file I/O (e.g. pd.read_csv)\n",
    "import matplotlib.pyplot as plt # plotting pandas data \n",
    "import seaborn as sns # improving visual aesthetics and offers wide range of plots\n",
    "import plotly.express as px # interactive mapping (used for Network Analysis and Line Analysis)\n",
    "import plotly.graph_objects as go\n",
    "import folium # interactive mapping (used for Network Analysis and Line Analysis)\n",
    "from folium.plugins import MarkerCluster\n",
    "from IPython.display import display, Markdown\n",
    "import warnings\n",
    "warnings.filterwarnings('ignore')\n",
    "\n",
    "# Add path to the Static Data directory\n",
    "path_to_dir = \"../data/processed_data/\"\n",
    "\n",
    "# Processed data\n",
    "routes = pd.read_csv(path_to_dir + 'routes.csv')\n",
    "stations = pd.read_csv(path_to_dir + 'stations.csv')\n",
    "shapes = pd.read_csv(path_to_dir + 'shapes.csv')\n",
    "stop_times = pd.read_csv(path_to_dir + 'stop_times.csv')\n",
    "trips = pd.read_csv(path_to_dir + 'trips.csv')"
   ]
  },
  {
   "cell_type": "markdown",
   "id": "49d39e29-11ec-435c-b15f-d4ff3849f21c",
   "metadata": {},
   "source": [
    "#### 4.3 Initial Data Cleaning and Exploration"
   ]
  },
  {
   "cell_type": "markdown",
   "id": "54b727f8-61e6-47d0-a064-9011b4ba12b5",
   "metadata": {},
   "source": [
    "##### 4.3.1 Missing Values"
   ]
  },
  {
   "cell_type": "code",
   "execution_count": 3,
   "id": "98199a66-82c2-4304-8760-bf5c11768ed9",
   "metadata": {},
   "outputs": [
    {
     "name": "stdout",
     "output_type": "stream",
     "text": [
      "Missing values in Routes:\n",
      "route_id               0\n",
      "metro_line             0\n",
      "route_name             0\n",
      "route_start            0\n",
      "route_end              0\n",
      "route_type             0\n",
      "stations               0\n",
      "interchangeStations    0\n",
      "shape_id               0\n",
      "dtype: int64\n",
      "\n",
      "Missing values in Stations:\n",
      "station_id      0\n",
      "station_name    0\n",
      "metro_line      0\n",
      "routes          0\n",
      "latitude        0\n",
      "longitude       0\n",
      "station_type    0\n",
      "dtype: int64\n",
      "\n",
      "Missing values in Shapes:\n",
      "shape_id               0\n",
      "route_id               0\n",
      "metro_line             0\n",
      "shape_pt_sequence      0\n",
      "shape_pt_lat           0\n",
      "shape_pt_lon           0\n",
      "shape_dist_traveled    0\n",
      "dtype: int64\n",
      "\n",
      "Missing values in Stop Times:\n",
      "trip_id                0\n",
      "station_id             0\n",
      "station_sequence       0\n",
      "arrival_time           0\n",
      "departure_time         0\n",
      "shape_dist_traveled    0\n",
      "dtype: int64\n",
      "\n",
      "Missing values in Trips:\n",
      "route_id        0\n",
      "service_type    0\n",
      "trip_id         0\n",
      "shape_id        0\n",
      "dtype: int64\n",
      "\n"
     ]
    }
   ],
   "source": [
    "datasets = [routes, stations, shapes, stop_times, trips]\n",
    "for df, name in zip(datasets, ['Routes', 'Stations', 'Shapes', 'Stop Times', 'Trips']):\n",
    "    print(f\"Missing values in {name}:\\n{df.isnull().sum()}\\n\")"
   ]
  },
  {
   "cell_type": "markdown",
   "id": "8f843373-133c-45db-817d-01625d976ada",
   "metadata": {},
   "source": [
    "No missing values since we have already dealt with it in the data cleaning and processing stage."
   ]
  },
  {
   "cell_type": "markdown",
   "id": "258a2e99-4298-49bc-b3be-c4a915f120b9",
   "metadata": {},
   "source": [
    "##### 4.3.2 Data Types"
   ]
  },
  {
   "cell_type": "code",
   "execution_count": 4,
   "id": "c06a6918-7d19-4fff-8d75-a13f97e6a2f3",
   "metadata": {},
   "outputs": [
    {
     "name": "stdout",
     "output_type": "stream",
     "text": [
      "Data types in Routes:\n",
      "route_id                int64\n",
      "metro_line             object\n",
      "route_name             object\n",
      "route_start            object\n",
      "route_end              object\n",
      "route_type             object\n",
      "stations               object\n",
      "interchangeStations    object\n",
      "shape_id               object\n",
      "dtype: object\n",
      "\n",
      "Data types in Stations:\n",
      "station_id        int64\n",
      "station_name     object\n",
      "metro_line       object\n",
      "routes           object\n",
      "latitude        float64\n",
      "longitude       float64\n",
      "station_type     object\n",
      "dtype: object\n",
      "\n",
      "Data types in Shapes:\n",
      "shape_id                object\n",
      "route_id                 int64\n",
      "metro_line              object\n",
      "shape_pt_sequence        int64\n",
      "shape_pt_lat           float64\n",
      "shape_pt_lon           float64\n",
      "shape_dist_traveled    float64\n",
      "dtype: object\n",
      "\n",
      "Data types in Stop Times:\n",
      "trip_id                  int64\n",
      "station_id               int64\n",
      "station_sequence         int64\n",
      "arrival_time            object\n",
      "departure_time          object\n",
      "shape_dist_traveled    float64\n",
      "dtype: object\n",
      "\n",
      "Data types in Trips:\n",
      "route_id         int64\n",
      "service_type     int64\n",
      "trip_id          int64\n",
      "shape_id        object\n",
      "dtype: object\n",
      "\n"
     ]
    }
   ],
   "source": [
    "for df, name in zip(datasets, ['Routes', 'Stations', 'Shapes', 'Stop Times', 'Trips']):\n",
    "    print(f\"Data types in {name}:\\n{df.dtypes}\\n\")"
   ]
  },
  {
   "cell_type": "markdown",
   "id": "018d01bb-987b-493d-924b-dd3f2c57e81f",
   "metadata": {},
   "source": [
    "##### 4.3.3 Datetime Formatting"
   ]
  },
  {
   "cell_type": "code",
   "execution_count": 5,
   "id": "f9d8e598-50ed-4000-b4d5-5c54b076b823",
   "metadata": {},
   "outputs": [],
   "source": [
    "stop_times['arrival_time'] = pd.to_datetime(stop_times['arrival_time'], format='%H:%M:%S', errors='coerce')\n",
    "stop_times['departure_time'] = pd.to_datetime(stop_times['departure_time'], format='%H:%M:%S', errors='coerce')"
   ]
  },
  {
   "cell_type": "markdown",
   "id": "f843630d-02db-479b-af4c-e47b71b12f7e",
   "metadata": {},
   "source": [
    "##### 4.3.4 Basic Statistics"
   ]
  },
  {
   "cell_type": "code",
   "execution_count": 6,
   "id": "83630df7-e6de-461f-b707-e0bd665a6131",
   "metadata": {},
   "outputs": [
    {
     "name": "stdout",
     "output_type": "stream",
     "text": [
      "Basic statistics for Routes:\n",
      "        route_id\n",
      "count  36.000000\n",
      "mean   17.500000\n",
      "std    10.535654\n",
      "min     0.000000\n",
      "25%     8.750000\n",
      "50%    17.500000\n",
      "75%    26.250000\n",
      "max    35.000000\n",
      "\n",
      "Basic statistics for Stations:\n",
      "       station_id    latitude   longitude\n",
      "count  286.000000  286.000000  286.000000\n",
      "mean   145.132867   28.598539   77.215460\n",
      "std    122.565972    0.079988    0.118197\n",
      "min      1.000000   28.339899   76.919128\n",
      "25%     61.250000   28.550648   77.127554\n",
      "50%    121.500000   28.614899   77.214692\n",
      "75%    190.750000   28.667693   77.296618\n",
      "max    520.000000   28.742872   77.544075\n",
      "\n",
      "Basic statistics for Shapes:\n",
      "          route_id  shape_pt_sequence  shape_pt_lat  shape_pt_lon  \\\n",
      "count  6643.000000        6643.000000   6643.000000   6643.000000   \n",
      "mean     16.332530         124.625922     28.602008     77.210184   \n",
      "std      10.203636         100.105057      0.072177      0.111904   \n",
      "min       0.000000           1.000000     28.339899     76.919144   \n",
      "25%       6.000000          47.000000     28.554176     77.129505   \n",
      "50%      17.000000          97.000000     28.620087     77.212883   \n",
      "75%      24.000000         180.000000     28.667496     77.291809   \n",
      "max      35.000000         442.000000     28.742872     77.543983   \n",
      "\n",
      "       shape_dist_traveled  \n",
      "count          6643.000000  \n",
      "mean          19034.132664  \n",
      "std           14232.975021  \n",
      "min               0.000000  \n",
      "25%            7598.317500  \n",
      "50%           15305.828000  \n",
      "75%           27725.340000  \n",
      "max           56073.137000  \n",
      "\n",
      "Basic statistics for Stop Times:\n",
      "             trip_id     station_id  station_sequence  \\\n",
      "count  128434.000000  128434.000000     128434.000000   \n",
      "mean     8825.161865     131.869248         14.801937   \n",
      "min         0.000000       1.000000          0.000000   \n",
      "25%      4175.000000      59.000000          5.000000   \n",
      "50%      9452.000000     106.000000         12.000000   \n",
      "75%     13086.000000     170.000000         22.000000   \n",
      "max     17548.000000     520.000000         49.000000   \n",
      "std      4995.788059     114.481590         11.411931   \n",
      "\n",
      "                        arrival_time                 departure_time  \\\n",
      "count                         127043                         127024   \n",
      "mean   1900-01-01 15:13:27.975433472  1900-01-01 15:13:43.251566848   \n",
      "min              1900-01-01 04:45:00            1900-01-01 04:45:20   \n",
      "25%              1900-01-01 10:53:06            1900-01-01 10:53:25   \n",
      "50%              1900-01-01 15:19:16            1900-01-01 15:19:35   \n",
      "75%       1900-01-01 19:37:04.500000            1900-01-01 19:37:21   \n",
      "max              1900-01-01 23:59:58            1900-01-01 23:59:59   \n",
      "std                              NaN                            NaN   \n",
      "\n",
      "       shape_dist_traveled  \n",
      "count        128434.000000  \n",
      "mean          19301.582421  \n",
      "min               0.000000  \n",
      "25%            7428.589000  \n",
      "50%           16446.064000  \n",
      "75%           28347.781000  \n",
      "max           56073.137000  \n",
      "std           14422.242113  \n",
      "\n",
      "Basic statistics for Trips:\n",
      "          route_id  service_type       trip_id\n",
      "count  5438.000000   5438.000000   5438.000000\n",
      "mean     17.830085      0.989150   9264.407871\n",
      "std      10.141078      0.103604   5119.850289\n",
      "min       0.000000      0.000000      0.000000\n",
      "25%       9.000000      1.000000   4826.250000\n",
      "50%      18.000000      1.000000   9412.500000\n",
      "75%      26.000000      1.000000  13845.750000\n",
      "max      35.000000      1.000000  17548.000000\n",
      "\n"
     ]
    }
   ],
   "source": [
    "for df, name in zip(datasets, ['Routes', 'Stations', 'Shapes', 'Stop Times', 'Trips']):\n",
    "    print(f\"Basic statistics for {name}:\\n{df.describe()}\\n\")"
   ]
  },
  {
   "cell_type": "markdown",
   "id": "6bc90aa2-2b0e-48e7-b9b8-0c353ff724c3",
   "metadata": {},
   "source": [
    "#### 4.4 Geographical Analysis"
   ]
  },
  {
   "cell_type": "markdown",
   "id": "e444b362-ea22-4db5-97b9-6f74e05a9799",
   "metadata": {},
   "source": [
    "##### 4.4.1 Plotting stations"
   ]
  },
  {
   "cell_type": "code",
   "execution_count": 7,
   "id": "69b87d84-a9af-4d4e-8c95-a654c0cae924",
   "metadata": {},
   "outputs": [],
   "source": [
    "metro_color_codes = {\n",
    "    'Red Line': \"#FF4040\",\n",
    "    'Yellow Line': \"#FFDF00\",\n",
    "    'Blue Line': \"#4169E1\",\n",
    "    'Green Line': \"#20B2AA\",\n",
    "    'Violet Line': \"#553592\",\n",
    "    'Pink Line': \"#FC8EAC\",\n",
    "    'Magenta Line': \"#CC338B\",\n",
    "    'Gray Line': \"#838996\",\n",
    "    'Orange/airport Line': \"#FF8C00\",\n",
    "    'Rapid Line': \"cadetblue\",\n",
    "    'Aqua Line': \"aqua\"\n",
    "}"
   ]
  },
  {
   "cell_type": "code",
   "execution_count": 8,
   "id": "c8be7bac-6a67-433e-9e8f-d82ae219c9aa",
   "metadata": {},
   "outputs": [
    {
     "ename": "KeyError",
     "evalue": "'color'",
     "output_type": "error",
     "traceback": [
      "\u001b[31m---------------------------------------------------------------------------\u001b[39m",
      "\u001b[31mKeyError\u001b[39m                                  Traceback (most recent call last)",
      "\u001b[36mFile \u001b[39m\u001b[32m~\\Desktop\\aguide\\env\\Lib\\site-packages\\pandas\\core\\indexes\\base.py:3812\u001b[39m, in \u001b[36mIndex.get_loc\u001b[39m\u001b[34m(self, key)\u001b[39m\n\u001b[32m   3811\u001b[39m \u001b[38;5;28;01mtry\u001b[39;00m:\n\u001b[32m-> \u001b[39m\u001b[32m3812\u001b[39m     \u001b[38;5;28;01mreturn\u001b[39;00m \u001b[38;5;28;43mself\u001b[39;49m\u001b[43m.\u001b[49m\u001b[43m_engine\u001b[49m\u001b[43m.\u001b[49m\u001b[43mget_loc\u001b[49m\u001b[43m(\u001b[49m\u001b[43mcasted_key\u001b[49m\u001b[43m)\u001b[49m\n\u001b[32m   3813\u001b[39m \u001b[38;5;28;01mexcept\u001b[39;00m \u001b[38;5;167;01mKeyError\u001b[39;00m \u001b[38;5;28;01mas\u001b[39;00m err:\n",
      "\u001b[36mFile \u001b[39m\u001b[32mpandas/_libs/index.pyx:167\u001b[39m, in \u001b[36mpandas._libs.index.IndexEngine.get_loc\u001b[39m\u001b[34m()\u001b[39m\n",
      "\u001b[36mFile \u001b[39m\u001b[32mpandas/_libs/index.pyx:196\u001b[39m, in \u001b[36mpandas._libs.index.IndexEngine.get_loc\u001b[39m\u001b[34m()\u001b[39m\n",
      "\u001b[36mFile \u001b[39m\u001b[32mpandas/_libs/hashtable_class_helper.pxi:7088\u001b[39m, in \u001b[36mpandas._libs.hashtable.PyObjectHashTable.get_item\u001b[39m\u001b[34m()\u001b[39m\n",
      "\u001b[36mFile \u001b[39m\u001b[32mpandas/_libs/hashtable_class_helper.pxi:7096\u001b[39m, in \u001b[36mpandas._libs.hashtable.PyObjectHashTable.get_item\u001b[39m\u001b[34m()\u001b[39m\n",
      "\u001b[31mKeyError\u001b[39m: 'color'",
      "\nThe above exception was the direct cause of the following exception:\n",
      "\u001b[31mKeyError\u001b[39m                                  Traceback (most recent call last)",
      "\u001b[36mCell\u001b[39m\u001b[36m \u001b[39m\u001b[32mIn[8]\u001b[39m\u001b[32m, line 25\u001b[39m\n\u001b[32m     10\u001b[39m     fig.add_trace(go.Scattermapbox(\n\u001b[32m     11\u001b[39m         mode=\u001b[33m'\u001b[39m\u001b[33mlines\u001b[39m\u001b[33m'\u001b[39m,\n\u001b[32m     12\u001b[39m         lon=shape_data[\u001b[33m'\u001b[39m\u001b[33mshape_pt_lon\u001b[39m\u001b[33m'\u001b[39m],\n\u001b[32m   (...)\u001b[39m\u001b[32m     17\u001b[39m         hovertext=\u001b[33mf\u001b[39m\u001b[33m\"\u001b[39m\u001b[33mRoute: \u001b[39m\u001b[38;5;132;01m{\u001b[39;00mroute[\u001b[33m'\u001b[39m\u001b[33mroute_name\u001b[39m\u001b[33m'\u001b[39m]\u001b[38;5;132;01m}\u001b[39;00m\u001b[33m\"\u001b[39m\n\u001b[32m     18\u001b[39m     ))\n\u001b[32m     20\u001b[39m \u001b[38;5;66;03m# Plot the stations\u001b[39;00m\n\u001b[32m     21\u001b[39m fig.add_trace(go.Scattermapbox(\n\u001b[32m     22\u001b[39m     mode=\u001b[33m'\u001b[39m\u001b[33mmarkers+text\u001b[39m\u001b[33m'\u001b[39m,\n\u001b[32m     23\u001b[39m     lon=stations[\u001b[33m'\u001b[39m\u001b[33mlongitude\u001b[39m\u001b[33m'\u001b[39m],\n\u001b[32m     24\u001b[39m     lat=stations[\u001b[33m'\u001b[39m\u001b[33mlatitude\u001b[39m\u001b[33m'\u001b[39m],\n\u001b[32m---> \u001b[39m\u001b[32m25\u001b[39m     marker=\u001b[38;5;28mdict\u001b[39m(size=\u001b[32m11\u001b[39m, color=\u001b[43mstations\u001b[49m\u001b[43m[\u001b[49m\u001b[33;43m'\u001b[39;49m\u001b[33;43mcolor\u001b[39;49m\u001b[33;43m'\u001b[39;49m\u001b[43m]\u001b[49m, symbol=\u001b[33m'\u001b[39m\u001b[33mcircle\u001b[39m\u001b[33m'\u001b[39m),\n\u001b[32m     26\u001b[39m     text=stations[\u001b[33m'\u001b[39m\u001b[33mstation_name\u001b[39m\u001b[33m'\u001b[39m],\n\u001b[32m     27\u001b[39m     textposition=\u001b[33m'\u001b[39m\u001b[33mtop center\u001b[39m\u001b[33m'\u001b[39m,\n\u001b[32m     28\u001b[39m     hoverinfo=\u001b[33m'\u001b[39m\u001b[33mtext\u001b[39m\u001b[33m'\u001b[39m,\n\u001b[32m     29\u001b[39m     hovertext=stations[\u001b[33m'\u001b[39m\u001b[33mstation_name\u001b[39m\u001b[33m'\u001b[39m] + \u001b[33m'\u001b[39m\u001b[33m<br>Metro Line: \u001b[39m\u001b[33m'\u001b[39m + stations[\u001b[33m'\u001b[39m\u001b[33mmetro_line\u001b[39m\u001b[33m'\u001b[39m]\n\u001b[32m     30\u001b[39m ))\n\u001b[32m     32\u001b[39m \u001b[38;5;66;03m# Update layout\u001b[39;00m\n\u001b[32m     33\u001b[39m fig.update_layout(\n\u001b[32m     34\u001b[39m     mapbox=\u001b[38;5;28mdict\u001b[39m(\n\u001b[32m     35\u001b[39m         style=\u001b[33m'\u001b[39m\u001b[33mcarto-positron\u001b[39m\u001b[33m'\u001b[39m,\n\u001b[32m   (...)\u001b[39m\u001b[32m     42\u001b[39m     showlegend=\u001b[38;5;28;01mFalse\u001b[39;00m,\n\u001b[32m     43\u001b[39m )\n",
      "\u001b[36mFile \u001b[39m\u001b[32m~\\Desktop\\aguide\\env\\Lib\\site-packages\\pandas\\core\\frame.py:4107\u001b[39m, in \u001b[36mDataFrame.__getitem__\u001b[39m\u001b[34m(self, key)\u001b[39m\n\u001b[32m   4105\u001b[39m \u001b[38;5;28;01mif\u001b[39;00m \u001b[38;5;28mself\u001b[39m.columns.nlevels > \u001b[32m1\u001b[39m:\n\u001b[32m   4106\u001b[39m     \u001b[38;5;28;01mreturn\u001b[39;00m \u001b[38;5;28mself\u001b[39m._getitem_multilevel(key)\n\u001b[32m-> \u001b[39m\u001b[32m4107\u001b[39m indexer = \u001b[38;5;28;43mself\u001b[39;49m\u001b[43m.\u001b[49m\u001b[43mcolumns\u001b[49m\u001b[43m.\u001b[49m\u001b[43mget_loc\u001b[49m\u001b[43m(\u001b[49m\u001b[43mkey\u001b[49m\u001b[43m)\u001b[49m\n\u001b[32m   4108\u001b[39m \u001b[38;5;28;01mif\u001b[39;00m is_integer(indexer):\n\u001b[32m   4109\u001b[39m     indexer = [indexer]\n",
      "\u001b[36mFile \u001b[39m\u001b[32m~\\Desktop\\aguide\\env\\Lib\\site-packages\\pandas\\core\\indexes\\base.py:3819\u001b[39m, in \u001b[36mIndex.get_loc\u001b[39m\u001b[34m(self, key)\u001b[39m\n\u001b[32m   3814\u001b[39m     \u001b[38;5;28;01mif\u001b[39;00m \u001b[38;5;28misinstance\u001b[39m(casted_key, \u001b[38;5;28mslice\u001b[39m) \u001b[38;5;129;01mor\u001b[39;00m (\n\u001b[32m   3815\u001b[39m         \u001b[38;5;28misinstance\u001b[39m(casted_key, abc.Iterable)\n\u001b[32m   3816\u001b[39m         \u001b[38;5;129;01mand\u001b[39;00m \u001b[38;5;28many\u001b[39m(\u001b[38;5;28misinstance\u001b[39m(x, \u001b[38;5;28mslice\u001b[39m) \u001b[38;5;28;01mfor\u001b[39;00m x \u001b[38;5;129;01min\u001b[39;00m casted_key)\n\u001b[32m   3817\u001b[39m     ):\n\u001b[32m   3818\u001b[39m         \u001b[38;5;28;01mraise\u001b[39;00m InvalidIndexError(key)\n\u001b[32m-> \u001b[39m\u001b[32m3819\u001b[39m     \u001b[38;5;28;01mraise\u001b[39;00m \u001b[38;5;167;01mKeyError\u001b[39;00m(key) \u001b[38;5;28;01mfrom\u001b[39;00m\u001b[38;5;250m \u001b[39m\u001b[34;01merr\u001b[39;00m\n\u001b[32m   3820\u001b[39m \u001b[38;5;28;01mexcept\u001b[39;00m \u001b[38;5;167;01mTypeError\u001b[39;00m:\n\u001b[32m   3821\u001b[39m     \u001b[38;5;66;03m# If we have a listlike key, _check_indexing_error will raise\u001b[39;00m\n\u001b[32m   3822\u001b[39m     \u001b[38;5;66;03m#  InvalidIndexError. Otherwise we fall through and re-raise\u001b[39;00m\n\u001b[32m   3823\u001b[39m     \u001b[38;5;66;03m#  the TypeError.\u001b[39;00m\n\u001b[32m   3824\u001b[39m     \u001b[38;5;28mself\u001b[39m._check_indexing_error(key)\n",
      "\u001b[31mKeyError\u001b[39m: 'color'"
     ]
    }
   ],
   "source": [
    "# Create a blank map\n",
    "fig = go.Figure()\n",
    "\n",
    "# Plot each route\n",
    "for _, route in routes.iterrows():\n",
    "    # Get the shape points for the route\n",
    "    shape_data = shapes[shapes['route_id'] == route['route_id']]\n",
    "    \n",
    "    # Add route lines to the figure\n",
    "    fig.add_trace(go.Scattermapbox(\n",
    "        mode='lines',\n",
    "        lon=shape_data['shape_pt_lon'],\n",
    "        lat=shape_data['shape_pt_lat'],\n",
    "        line=dict(width=3, color=metro_color_codes.get(route['metro_line'], 'gray')),\n",
    "        name=route['metro_line'],\n",
    "        hoverinfo='text',\n",
    "        hovertext=f\"Route: {route['route_name']}\"\n",
    "    ))\n",
    "\n",
    "# Plot the stations\n",
    "fig.add_trace(go.Scattermapbox(\n",
    "    mode='markers+text',\n",
    "    lon=stations['longitude'],\n",
    "    lat=stations['latitude'],\n",
    "    marker=dict(size=11, color=stations['color'], symbol='circle'),\n",
    "    text=stations['station_name'],\n",
    "    textposition='top center',\n",
    "    hoverinfo='text',\n",
    "    hovertext=stations['station_name'] + '<br>Metro Line: ' + stations['metro_line']\n",
    "))\n",
    "\n",
    "# Update layout\n",
    "fig.update_layout(\n",
    "    mapbox=dict(\n",
    "        style='carto-positron',\n",
    "        center=dict(lat=28.6139, lon=77.2090),\n",
    "        zoom=11\n",
    "    ),\n",
    "    title=\"Delhi Metro Network\",\n",
    "    title_x=0.5,\n",
    "    margin={\"r\":0,\"t\":50,\"l\":0,\"b\":0},\n",
    "    showlegend=False,\n",
    ")\n",
    "\n",
    "# Display the map\n",
    "fig.show()"
   ]
  },
  {
   "cell_type": "code",
   "execution_count": null,
   "id": "5f429542-50a3-4ea3-ac29-5bdaa44c2413",
   "metadata": {},
   "outputs": [],
   "source": [
    "# Create a base map centered around Delhi\n",
    "map_delhi = folium.Map(location=[28.6139, 77.2090], tiles=\"cartodbpositron\", zoom_start=11)\n",
    "\n",
    "# Define custom icons for stations (optional, you can use a URL to an icon if you have it)\n",
    "custom_icon_url = './img/metro_pin.png'  # Replace with your icon's URL\n",
    "custom_icon = folium.CustomIcon(custom_icon_url, icon_size=(25, 25))\n",
    "\n",
    "# Plot the routes\n",
    "for _, route in routes.iterrows():\n",
    "    # Get the shape points for the route\n",
    "    shape_data = shapes[shapes['route_id'] == route['route_id']]\n",
    "    \n",
    "    # Create a list of coordinates (latitude, longitude) for the polyline\n",
    "    route_coords = list(zip(shape_data['shape_pt_lat'], shape_data['shape_pt_lon']))\n",
    "    \n",
    "    # Add the route as a polyline on the map\n",
    "    folium.PolyLine(\n",
    "        route_coords,\n",
    "        color=metro_color_codes.get(route['metro_line'], 'gray'),  # Get color for metro line\n",
    "        weight=3,  # Line thickness\n",
    "        tooltip=f\"Route: {route['route_name']} ({route['metro_line']})\",  # Hover information\n",
    "    ).add_to(map_delhi)\n",
    "\n",
    "# Add stations with hover info and custom marker (use MarkerCluster to cluster nearby stations)\n",
    "marker_cluster = MarkerCluster().add_to(map_delhi)\n",
    "\n",
    "for _, station in stations.iterrows():\n",
    "    # Use a custom icon if available, otherwise use a default folium marker\n",
    "    color = 'black' if station['station_type'] in ['Interchange', 'Terminal/Interchange'] else metro_color_codes.get(station['metro_line'], 'blue')\n",
    "    icon = 'info' if station['station_type'] in ['Interchange', 'Terminal/Interchange'] else 'train'\n",
    "    \n",
    "    folium.Marker(\n",
    "        location=[station['latitude'], station['longitude']],\n",
    "        popup=f\"Station: <b>{station['station_name']}</b><br>Metro Line: {station['metro_line']}\",\n",
    "        icon=folium.Icon(color=\"white\", icon_color=color, icon=icon, prefix='fa'),\n",
    "        tooltip=f\"<b>{station['station_name']}</b><br>Metro Line: {station['metro_line']}\"\n",
    "    ).add_to(map_delhi)\n",
    "\n",
    "# Display the map\n",
    "map_delhi"
   ]
  },
  {
   "cell_type": "code",
   "execution_count": null,
   "id": "4c1162d5-14cc-4615-ac1f-9e7a42038000",
   "metadata": {},
   "outputs": [],
   "source": []
  }
 ],
 "metadata": {
  "kernelspec": {
   "display_name": "Python 3 (ipykernel)",
   "language": "python",
   "name": "python3"
  },
  "language_info": {
   "codemirror_mode": {
    "name": "ipython",
    "version": 3
   },
   "file_extension": ".py",
   "mimetype": "text/x-python",
   "name": "python",
   "nbconvert_exporter": "python",
   "pygments_lexer": "ipython3",
   "version": "3.12.10"
  }
 },
 "nbformat": 4,
 "nbformat_minor": 5
}
