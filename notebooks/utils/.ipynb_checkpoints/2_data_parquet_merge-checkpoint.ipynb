{
 "cells": [
  {
   "cell_type": "markdown",
   "id": "36b59e18-765d-4478-892c-995a54194f42",
   "metadata": {},
   "source": [
    "## [Aux] Parquet File Creation"
   ]
  },
  {
   "cell_type": "markdown",
   "id": "2ce0853c-ccd7-4fa5-9bb6-6aeea161e2f2",
   "metadata": {},
   "source": [
    "#### 1 Import necessary modules and libraries and initiate the project"
   ]
  },
  {
   "cell_type": "code",
   "execution_count": 1,
   "id": "de0f9f41-2e1e-4ee2-8bc5-4c73f746aba8",
   "metadata": {},
   "outputs": [],
   "source": [
    "import os\n",
    "import numpy as np # linear algebra\n",
    "import pandas as pd # data processing, CSV file I/O (e.g. pd.read_csv)\n",
    "from IPython.display import display, Markdown\n",
    "import warnings\n",
    "warnings.filterwarnings('ignore')\n",
    "\n",
    "# Add path to the Static Data directory\n",
    "path_to_dir = \"../data/cleaned_data/\""
   ]
  },
  {
   "cell_type": "markdown",
   "id": "d0f43b6c-62d9-4424-9e9f-edc9bc3fa3d7",
   "metadata": {},
   "source": [
    "#### 2 Load the data"
   ]
  },
  {
   "cell_type": "code",
   "execution_count": 2,
   "id": "ab963f6c-71b8-412a-84e1-ad0c8a487dfb",
   "metadata": {},
   "outputs": [],
   "source": [
    "routes = pd.read_csv(path_to_dir + 'routes.csv')\n",
    "stops = pd.read_csv(path_to_dir + 'stops.csv')\n",
    "trips = pd.read_csv(path_to_dir + 'trips.csv')\n",
    "stop_times = pd.read_csv(path_to_dir +  'stop_times.csv')\n",
    "shapes = pd.read_csv(path_to_dir +  'shapes.csv')\n",
    "agency = pd.read_csv(path_to_dir + 'agency.csv')\n",
    "calendar = pd.read_csv(path_to_dir + 'calendar.csv')"
   ]
  },
  {
   "cell_type": "markdown",
   "id": "66bff50d-cee1-4b6f-9fc6-61c332449f68",
   "metadata": {},
   "source": [
    "#### 3 Merge the datasets"
   ]
  },
  {
   "cell_type": "markdown",
   "id": "b39cb84a-8ffe-4fb2-8261-41adbcd0141f",
   "metadata": {},
   "source": [
    "##### Step 1: Get unique trip_id for each stop_id from stop_times"
   ]
  },
  {
   "cell_type": "code",
   "execution_count": 3,
   "id": "f0074b00-add8-4858-9174-08a5af75c65c",
   "metadata": {},
   "outputs": [],
   "source": [
    "stop_trip_agg = stop_times.groupby('stop_id').agg({\n",
    "    'trip_id': lambda x: list(x.unique()),  # Gather unique trip_ids for each stop\n",
    "    'stop_sequence': 'first',               # Take the first stop sequence\n",
    "    'shape_dist_traveled': 'first'         # Take the first distance travelled\n",
    "}).reset_index()"
   ]
  },
  {
   "cell_type": "markdown",
   "id": "30f6ef29-1be7-4940-8c97-4576703dad91",
   "metadata": {},
   "source": [
    "##### Step 2: Use trip_id to find associated route_id and shape_id in trips"
   ]
  },
  {
   "cell_type": "code",
   "execution_count": 4,
   "id": "f105c77e-298a-416c-81b7-20dff83d55cb",
   "metadata": {},
   "outputs": [],
   "source": [
    "# We will expand the trip_ids first and then merge with trips\n",
    "stop_trip_agg_expanded = stop_trip_agg.explode('trip_id')  # Explode trip_id list into individual rows\n",
    "\n",
    "# Merge with trips to get route_id and shape_id\n",
    "stop_trip_agg_routes = pd.merge(stop_trip_agg_expanded,\n",
    "                                trips[['trip_id', 'route_id', 'shape_id']],\n",
    "                                on='trip_id',\n",
    "                                how='left')"
   ]
  },
  {
   "cell_type": "markdown",
   "id": "51cb9110-3441-46ac-a9e6-cc577ca2e536",
   "metadata": {},
   "source": [
    "##### Step 3: Merge with routes to get route_long_name"
   ]
  },
  {
   "cell_type": "code",
   "execution_count": 5,
   "id": "07c69b63-5cc2-4ab1-8940-1231363fa6a4",
   "metadata": {},
   "outputs": [],
   "source": [
    "stop_trip_routes_names = pd.merge(stop_trip_agg_routes,\n",
    "                                  routes[['route_id', 'route_long_name']],\n",
    "                                  on='route_id',\n",
    "                                  how='left')"
   ]
  },
  {
   "cell_type": "markdown",
   "id": "dab8a806-4646-4d76-81bd-c2340eed322c",
   "metadata": {},
   "source": [
    "##### Step 4: Now merge with shapes to get the shape details"
   ]
  },
  {
   "cell_type": "code",
   "execution_count": 6,
   "id": "bf9197cc-4844-4631-954a-a0a2cc1f2aa1",
   "metadata": {},
   "outputs": [],
   "source": [
    "stop_trip_routes_shapes = pd.merge(stop_trip_routes_names,\n",
    "                                   shapes[['shape_id', 'shape_pt_sequence', 'shape_dist_traveled']],\n",
    "                                   on='shape_id',\n",
    "                                   how='left')"
   ]
  },
  {
   "cell_type": "markdown",
   "id": "d8dcabf0-fc54-4f43-8878-0730d56aaa2f",
   "metadata": {},
   "source": [
    "#### 4 Export Data to Parquet"
   ]
  },
  {
   "cell_type": "code",
   "execution_count": 7,
   "id": "1856c670-cb05-4cd0-a25a-504e5dd0f9c0",
   "metadata": {},
   "outputs": [],
   "source": [
    "stop_trip_routes_shapes.to_parquet('../data/processed_data/metro_network_data.parquet', index=False)"
   ]
  },
  {
   "cell_type": "markdown",
   "id": "9e1f4230-0345-414e-9f6b-18b5b7ef7a92",
   "metadata": {},
   "source": [
    "#### 5 Play Along"
   ]
  },
  {
   "cell_type": "code",
   "execution_count": 8,
   "id": "80acdd01-f5b9-4f20-b80e-d24a384d45e2",
   "metadata": {},
   "outputs": [
    {
     "name": "stdout",
     "output_type": "stream",
     "text": [
      "Shape of metro_data (31306068, 9)\n"
     ]
    },
    {
     "data": {
      "text/html": [
       "<div>\n",
       "<style scoped>\n",
       "    .dataframe tbody tr th:only-of-type {\n",
       "        vertical-align: middle;\n",
       "    }\n",
       "\n",
       "    .dataframe tbody tr th {\n",
       "        vertical-align: top;\n",
       "    }\n",
       "\n",
       "    .dataframe thead th {\n",
       "        text-align: right;\n",
       "    }\n",
       "</style>\n",
       "<table border=\"1\" class=\"dataframe\">\n",
       "  <thead>\n",
       "    <tr style=\"text-align: right;\">\n",
       "      <th></th>\n",
       "      <th>stop_id</th>\n",
       "      <th>trip_id</th>\n",
       "      <th>stop_sequence</th>\n",
       "      <th>shape_dist_traveled_x</th>\n",
       "      <th>route_id</th>\n",
       "      <th>shape_id</th>\n",
       "      <th>route_long_name</th>\n",
       "      <th>shape_pt_sequence</th>\n",
       "      <th>shape_dist_traveled_y</th>\n",
       "    </tr>\n",
       "  </thead>\n",
       "  <tbody>\n",
       "    <tr>\n",
       "      <th>0</th>\n",
       "      <td>1</td>\n",
       "      <td>0</td>\n",
       "      <td>20</td>\n",
       "      <td>24382.402</td>\n",
       "      <td>0</td>\n",
       "      <td>shp_1_30</td>\n",
       "      <td>RED_Rithala to Dilshad Garden</td>\n",
       "      <td>1</td>\n",
       "      <td>0.000</td>\n",
       "    </tr>\n",
       "    <tr>\n",
       "      <th>1</th>\n",
       "      <td>1</td>\n",
       "      <td>0</td>\n",
       "      <td>20</td>\n",
       "      <td>24382.402</td>\n",
       "      <td>0</td>\n",
       "      <td>shp_1_30</td>\n",
       "      <td>RED_Rithala to Dilshad Garden</td>\n",
       "      <td>2</td>\n",
       "      <td>1202.405</td>\n",
       "    </tr>\n",
       "    <tr>\n",
       "      <th>2</th>\n",
       "      <td>1</td>\n",
       "      <td>0</td>\n",
       "      <td>20</td>\n",
       "      <td>24382.402</td>\n",
       "      <td>0</td>\n",
       "      <td>shp_1_30</td>\n",
       "      <td>RED_Rithala to Dilshad Garden</td>\n",
       "      <td>3</td>\n",
       "      <td>1202.405</td>\n",
       "    </tr>\n",
       "    <tr>\n",
       "      <th>3</th>\n",
       "      <td>1</td>\n",
       "      <td>0</td>\n",
       "      <td>20</td>\n",
       "      <td>24382.402</td>\n",
       "      <td>0</td>\n",
       "      <td>shp_1_30</td>\n",
       "      <td>RED_Rithala to Dilshad Garden</td>\n",
       "      <td>4</td>\n",
       "      <td>2480.750</td>\n",
       "    </tr>\n",
       "    <tr>\n",
       "      <th>4</th>\n",
       "      <td>1</td>\n",
       "      <td>0</td>\n",
       "      <td>20</td>\n",
       "      <td>24382.402</td>\n",
       "      <td>0</td>\n",
       "      <td>shp_1_30</td>\n",
       "      <td>RED_Rithala to Dilshad Garden</td>\n",
       "      <td>5</td>\n",
       "      <td>2480.750</td>\n",
       "    </tr>\n",
       "  </tbody>\n",
       "</table>\n",
       "</div>"
      ],
      "text/plain": [
       "   stop_id  trip_id  stop_sequence  shape_dist_traveled_x  route_id  shape_id  \\\n",
       "0        1        0             20              24382.402         0  shp_1_30   \n",
       "1        1        0             20              24382.402         0  shp_1_30   \n",
       "2        1        0             20              24382.402         0  shp_1_30   \n",
       "3        1        0             20              24382.402         0  shp_1_30   \n",
       "4        1        0             20              24382.402         0  shp_1_30   \n",
       "\n",
       "                 route_long_name  shape_pt_sequence  shape_dist_traveled_y  \n",
       "0  RED_Rithala to Dilshad Garden                  1                  0.000  \n",
       "1  RED_Rithala to Dilshad Garden                  2               1202.405  \n",
       "2  RED_Rithala to Dilshad Garden                  3               1202.405  \n",
       "3  RED_Rithala to Dilshad Garden                  4               2480.750  \n",
       "4  RED_Rithala to Dilshad Garden                  5               2480.750  "
      ]
     },
     "execution_count": 8,
     "metadata": {},
     "output_type": "execute_result"
    }
   ],
   "source": [
    "metro_data = pd.read_parquet('../data/processed_data/metro_network_data.parquet')\n",
    "\n",
    "print(\"Shape of metro_data\", metro_data.shape)\n",
    "\n",
    "metro_data.head()"
   ]
  },
  {
   "cell_type": "code",
   "execution_count": 13,
   "id": "eafa233c-2d69-4b93-afb4-f784eb0eb21a",
   "metadata": {},
   "outputs": [
    {
     "data": {
      "text/markdown": [
       "Number of rows **31,306,068**"
      ],
      "text/plain": [
       "<IPython.core.display.Markdown object>"
      ]
     },
     "metadata": {},
     "output_type": "display_data"
    }
   ],
   "source": [
    "display(Markdown(f\"Number of rows **{metro_data.shape[0]:,d}**\"))"
   ]
  }
 ],
 "metadata": {
  "kernelspec": {
   "display_name": "Python 3 (ipykernel)",
   "language": "python",
   "name": "python3"
  },
  "language_info": {
   "codemirror_mode": {
    "name": "ipython",
    "version": 3
   },
   "file_extension": ".py",
   "mimetype": "text/x-python",
   "name": "python",
   "nbconvert_exporter": "python",
   "pygments_lexer": "ipython3",
   "version": "3.12.5"
  }
 },
 "nbformat": 4,
 "nbformat_minor": 5
}
